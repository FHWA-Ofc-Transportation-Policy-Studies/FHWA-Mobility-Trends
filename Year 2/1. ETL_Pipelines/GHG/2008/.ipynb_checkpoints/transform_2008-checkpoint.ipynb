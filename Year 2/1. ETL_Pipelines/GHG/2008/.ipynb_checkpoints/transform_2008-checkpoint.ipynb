{
 "cells": [
  {
   "cell_type": "code",
   "execution_count": 1,
   "id": "1da73e61",
   "metadata": {},
   "outputs": [],
   "source": [
    "import pandas as pd"
   ]
  },
  {
   "cell_type": "code",
   "execution_count": 33,
   "id": "e2399934",
   "metadata": {},
   "outputs": [
    {
     "name": "stderr",
     "output_type": "stream",
     "text": [
      "C:\\Users\\zapate\\AppData\\Local\\Temp\\ipykernel_43556\\86527293.py:15: DtypeWarning: Columns (10) have mixed types.Specify dtype option on import or set low_memory=False.\n",
      "  df_summed = sum_pollutants(i)\n"
     ]
    }
   ],
   "source": [
    "def sum_pollutants(df_title):\n",
    "    df123 = pd.read_csv(df_title)\n",
    "    df123 = df123[['state_and_county_fips_code','description', 'total_emissions']]\n",
    "    df123 = df123[df123['description'].isin(['Methane','Carbon Dioxide'])]\n",
    "    df123_summed = df123.groupby(['state_and_county_fips_code']).sum('total_emissions')\n",
    "    df123_summed = df123_summed.reset_index()\n",
    "    \n",
    "    return df123_summed\n",
    "\n",
    "df_title_list = ['2008NEIv3_onroad123.csv','2008NEIv3_onroad4.csv','2008NEIv3_onroad5.csv','2008NEIv3_onroad67.csv',\n",
    "                '2008NEIv3_onroad8910.csv']\n",
    "\n",
    "final_df = None\n",
    "for i in df_title_list:\n",
    "    df_summed = sum_pollutants(i)\n",
    "    if final_df is None:\n",
    "        final_df = df_summed\n",
    "    else:\n",
    "        final_df = pd.concat([final_df, df_summed], axis = 0)"
   ]
  },
  {
   "cell_type": "code",
   "execution_count": 35,
   "id": "8821e3a4",
   "metadata": {},
   "outputs": [
    {
     "data": {
      "text/html": [
       "<div>\n",
       "<style scoped>\n",
       "    .dataframe tbody tr th:only-of-type {\n",
       "        vertical-align: middle;\n",
       "    }\n",
       "\n",
       "    .dataframe tbody tr th {\n",
       "        vertical-align: top;\n",
       "    }\n",
       "\n",
       "    .dataframe thead th {\n",
       "        text-align: right;\n",
       "    }\n",
       "</style>\n",
       "<table border=\"1\" class=\"dataframe\">\n",
       "  <thead>\n",
       "    <tr style=\"text-align: right;\">\n",
       "      <th></th>\n",
       "      <th>state_and_county_fips_code</th>\n",
       "      <th>total_emissions</th>\n",
       "      <th>YEAR</th>\n",
       "    </tr>\n",
       "  </thead>\n",
       "  <tbody>\n",
       "    <tr>\n",
       "      <th>0</th>\n",
       "      <td>9001</td>\n",
       "      <td>4.132524e+06</td>\n",
       "      <td>2008</td>\n",
       "    </tr>\n",
       "    <tr>\n",
       "      <th>1</th>\n",
       "      <td>9003</td>\n",
       "      <td>4.219697e+06</td>\n",
       "      <td>2008</td>\n",
       "    </tr>\n",
       "    <tr>\n",
       "      <th>2</th>\n",
       "      <td>9005</td>\n",
       "      <td>6.749110e+05</td>\n",
       "      <td>2008</td>\n",
       "    </tr>\n",
       "    <tr>\n",
       "      <th>3</th>\n",
       "      <td>9007</td>\n",
       "      <td>9.179930e+05</td>\n",
       "      <td>2008</td>\n",
       "    </tr>\n",
       "    <tr>\n",
       "      <th>4</th>\n",
       "      <td>9009</td>\n",
       "      <td>3.858755e+06</td>\n",
       "      <td>2008</td>\n",
       "    </tr>\n",
       "  </tbody>\n",
       "</table>\n",
       "</div>"
      ],
      "text/plain": [
       "   state_and_county_fips_code  total_emissions  YEAR\n",
       "0                        9001     4.132524e+06  2008\n",
       "1                        9003     4.219697e+06  2008\n",
       "2                        9005     6.749110e+05  2008\n",
       "3                        9007     9.179930e+05  2008\n",
       "4                        9009     3.858755e+06  2008"
      ]
     },
     "execution_count": 35,
     "metadata": {},
     "output_type": "execute_result"
    }
   ],
   "source": [
    "final_df['YEAR'] = 2008\n",
    "final_df.head()"
   ]
  },
  {
   "cell_type": "code",
   "execution_count": 36,
   "id": "1813c84d",
   "metadata": {},
   "outputs": [
    {
     "data": {
      "text/plain": [
       "3165"
      ]
     },
     "execution_count": 36,
     "metadata": {},
     "output_type": "execute_result"
    }
   ],
   "source": [
    "len(final_df)"
   ]
  },
  {
   "cell_type": "code",
   "execution_count": 39,
   "id": "a7fe2a0b",
   "metadata": {},
   "outputs": [
    {
     "data": {
      "text/html": [
       "<div>\n",
       "<style scoped>\n",
       "    .dataframe tbody tr th:only-of-type {\n",
       "        vertical-align: middle;\n",
       "    }\n",
       "\n",
       "    .dataframe tbody tr th {\n",
       "        vertical-align: top;\n",
       "    }\n",
       "\n",
       "    .dataframe thead th {\n",
       "        text-align: right;\n",
       "    }\n",
       "</style>\n",
       "<table border=\"1\" class=\"dataframe\">\n",
       "  <thead>\n",
       "    <tr style=\"text-align: right;\">\n",
       "      <th></th>\n",
       "      <th>total_emissions</th>\n",
       "      <th>YEAR</th>\n",
       "    </tr>\n",
       "    <tr>\n",
       "      <th>state_and_county_fips_code</th>\n",
       "      <th></th>\n",
       "      <th></th>\n",
       "    </tr>\n",
       "  </thead>\n",
       "  <tbody>\n",
       "    <tr>\n",
       "      <th>78030</th>\n",
       "      <td>1</td>\n",
       "      <td>1</td>\n",
       "    </tr>\n",
       "    <tr>\n",
       "      <th>78020</th>\n",
       "      <td>1</td>\n",
       "      <td>1</td>\n",
       "    </tr>\n",
       "    <tr>\n",
       "      <th>78010</th>\n",
       "      <td>1</td>\n",
       "      <td>1</td>\n",
       "    </tr>\n",
       "    <tr>\n",
       "      <th>72153</th>\n",
       "      <td>1</td>\n",
       "      <td>1</td>\n",
       "    </tr>\n",
       "    <tr>\n",
       "      <th>72151</th>\n",
       "      <td>1</td>\n",
       "      <td>1</td>\n",
       "    </tr>\n",
       "    <tr>\n",
       "      <th>...</th>\n",
       "      <td>...</td>\n",
       "      <td>...</td>\n",
       "    </tr>\n",
       "    <tr>\n",
       "      <th>1009</th>\n",
       "      <td>1</td>\n",
       "      <td>1</td>\n",
       "    </tr>\n",
       "    <tr>\n",
       "      <th>1007</th>\n",
       "      <td>1</td>\n",
       "      <td>1</td>\n",
       "    </tr>\n",
       "    <tr>\n",
       "      <th>1005</th>\n",
       "      <td>1</td>\n",
       "      <td>1</td>\n",
       "    </tr>\n",
       "    <tr>\n",
       "      <th>1003</th>\n",
       "      <td>1</td>\n",
       "      <td>1</td>\n",
       "    </tr>\n",
       "    <tr>\n",
       "      <th>1001</th>\n",
       "      <td>1</td>\n",
       "      <td>1</td>\n",
       "    </tr>\n",
       "  </tbody>\n",
       "</table>\n",
       "<p>3165 rows × 2 columns</p>\n",
       "</div>"
      ],
      "text/plain": [
       "                            total_emissions  YEAR\n",
       "state_and_county_fips_code                       \n",
       "78030                                     1     1\n",
       "78020                                     1     1\n",
       "78010                                     1     1\n",
       "72153                                     1     1\n",
       "72151                                     1     1\n",
       "...                                     ...   ...\n",
       "1009                                      1     1\n",
       "1007                                      1     1\n",
       "1005                                      1     1\n",
       "1003                                      1     1\n",
       "1001                                      1     1\n",
       "\n",
       "[3165 rows x 2 columns]"
      ]
     },
     "execution_count": 39,
     "metadata": {},
     "output_type": "execute_result"
    }
   ],
   "source": [
    "final_df.groupby('state_and_county_fips_code').count().sort_values(by='state_and_county_fips_code', ascending = False)"
   ]
  },
  {
   "cell_type": "code",
   "execution_count": 41,
   "id": "e9a708d8",
   "metadata": {},
   "outputs": [],
   "source": [
    "final_df.to_csv('COUNTY_GHG_2008.csv', index = False)"
   ]
  },
  {
   "cell_type": "markdown",
   "id": "93ac0225",
   "metadata": {},
   "source": [
    "OLD"
   ]
  },
  {
   "cell_type": "code",
   "execution_count": 26,
   "id": "d22aadb3",
   "metadata": {},
   "outputs": [
    {
     "name": "stderr",
     "output_type": "stream",
     "text": [
      "C:\\Users\\zapate\\Anaconda3\\lib\\site-packages\\IPython\\core\\interactiveshell.py:3457: DtypeWarning: Columns (10) have mixed types.Specify dtype option on import or set low_memory=False.\n",
      "  exec(code_obj, self.user_global_ns, self.user_ns)\n"
     ]
    },
    {
     "data": {
      "text/plain": [
       "\"\\ndf4 = pd.read_csv('2008NEIv3_onroad4.csv')\\ndf4['YEAR'] = 2008\\n\\ndf5 = pd.read_csv('2008NEIv3_onroad5.csv')\\ndf5['YEAR'] = 2008\\n\\ndf67 = pd.read_csv('2008NEIv3_onroad67.csv')\\ndf67['YEAR'] = 2008\\n\\ndf8910 = pd.read_csv('2008NEIv3_onroad8910.csv')\\ndf8910['YEAR'] = 2008\\n\""
      ]
     },
     "execution_count": 26,
     "metadata": {},
     "output_type": "execute_result"
    }
   ],
   "source": [
    "df123 = pd.read_csv('2008NEIv3_onroad123.csv')\n",
    "'''\n",
    "df4 = pd.read_csv('2008NEIv3_onroad4.csv')\n",
    "df4['YEAR'] = 2008\n",
    "\n",
    "df5 = pd.read_csv('2008NEIv3_onroad5.csv')\n",
    "df5['YEAR'] = 2008\n",
    "\n",
    "df67 = pd.read_csv('2008NEIv3_onroad67.csv')\n",
    "df67['YEAR'] = 2008\n",
    "\n",
    "df8910 = pd.read_csv('2008NEIv3_onroad8910.csv')\n",
    "df8910['YEAR'] = 2008\n",
    "'''"
   ]
  },
  {
   "cell_type": "code",
   "execution_count": 22,
   "id": "3ba4a5b9",
   "metadata": {},
   "outputs": [],
   "source": [
    "df123 = df123[['state_and_county_fips_code','description', 'total_emissions']]\n",
    "df123 = df123[df123['description'].isin(['Methane','Carbon Dioxide'])]\n",
    "\n",
    "df123_summed = df123.groupby(['state_and_county_fips_code']).sum('total_emissions')\n"
   ]
  },
  {
   "cell_type": "code",
   "execution_count": 23,
   "id": "775b4157",
   "metadata": {},
   "outputs": [
    {
     "data": {
      "text/html": [
       "<div>\n",
       "<style scoped>\n",
       "    .dataframe tbody tr th:only-of-type {\n",
       "        vertical-align: middle;\n",
       "    }\n",
       "\n",
       "    .dataframe tbody tr th {\n",
       "        vertical-align: top;\n",
       "    }\n",
       "\n",
       "    .dataframe thead th {\n",
       "        text-align: right;\n",
       "    }\n",
       "</style>\n",
       "<table border=\"1\" class=\"dataframe\">\n",
       "  <thead>\n",
       "    <tr style=\"text-align: right;\">\n",
       "      <th></th>\n",
       "      <th>state_and_county_fips_code</th>\n",
       "      <th>total_emissions</th>\n",
       "    </tr>\n",
       "  </thead>\n",
       "  <tbody>\n",
       "    <tr>\n",
       "      <th>0</th>\n",
       "      <td>9001</td>\n",
       "      <td>4.132524e+06</td>\n",
       "    </tr>\n",
       "    <tr>\n",
       "      <th>1</th>\n",
       "      <td>9003</td>\n",
       "      <td>4.219697e+06</td>\n",
       "    </tr>\n",
       "    <tr>\n",
       "      <th>2</th>\n",
       "      <td>9005</td>\n",
       "      <td>6.749110e+05</td>\n",
       "    </tr>\n",
       "    <tr>\n",
       "      <th>3</th>\n",
       "      <td>9007</td>\n",
       "      <td>9.179930e+05</td>\n",
       "    </tr>\n",
       "    <tr>\n",
       "      <th>4</th>\n",
       "      <td>9009</td>\n",
       "      <td>3.858755e+06</td>\n",
       "    </tr>\n",
       "    <tr>\n",
       "      <th>...</th>\n",
       "      <td>...</td>\n",
       "      <td>...</td>\n",
       "    </tr>\n",
       "    <tr>\n",
       "      <th>510</th>\n",
       "      <td>72151</td>\n",
       "      <td>1.365024e+05</td>\n",
       "    </tr>\n",
       "    <tr>\n",
       "      <th>511</th>\n",
       "      <td>72153</td>\n",
       "      <td>2.078118e+04</td>\n",
       "    </tr>\n",
       "    <tr>\n",
       "      <th>512</th>\n",
       "      <td>78010</td>\n",
       "      <td>8.745828e+04</td>\n",
       "    </tr>\n",
       "    <tr>\n",
       "      <th>513</th>\n",
       "      <td>78020</td>\n",
       "      <td>7.698858e+03</td>\n",
       "    </tr>\n",
       "    <tr>\n",
       "      <th>514</th>\n",
       "      <td>78030</td>\n",
       "      <td>9.055935e+04</td>\n",
       "    </tr>\n",
       "  </tbody>\n",
       "</table>\n",
       "<p>515 rows × 2 columns</p>\n",
       "</div>"
      ],
      "text/plain": [
       "     state_and_county_fips_code  total_emissions\n",
       "0                          9001     4.132524e+06\n",
       "1                          9003     4.219697e+06\n",
       "2                          9005     6.749110e+05\n",
       "3                          9007     9.179930e+05\n",
       "4                          9009     3.858755e+06\n",
       "..                          ...              ...\n",
       "510                       72151     1.365024e+05\n",
       "511                       72153     2.078118e+04\n",
       "512                       78010     8.745828e+04\n",
       "513                       78020     7.698858e+03\n",
       "514                       78030     9.055935e+04\n",
       "\n",
       "[515 rows x 2 columns]"
      ]
     },
     "execution_count": 23,
     "metadata": {},
     "output_type": "execute_result"
    }
   ],
   "source": [
    "df123_summed.reset_index()"
   ]
  },
  {
   "cell_type": "code",
   "execution_count": 25,
   "id": "83e07e71",
   "metadata": {},
   "outputs": [
    {
     "data": {
      "text/html": [
       "<div>\n",
       "<style scoped>\n",
       "    .dataframe tbody tr th:only-of-type {\n",
       "        vertical-align: middle;\n",
       "    }\n",
       "\n",
       "    .dataframe tbody tr th {\n",
       "        vertical-align: top;\n",
       "    }\n",
       "\n",
       "    .dataframe thead th {\n",
       "        text-align: right;\n",
       "    }\n",
       "</style>\n",
       "<table border=\"1\" class=\"dataframe\">\n",
       "  <thead>\n",
       "    <tr style=\"text-align: right;\">\n",
       "      <th></th>\n",
       "      <th>description</th>\n",
       "      <th>total_emissions</th>\n",
       "    </tr>\n",
       "    <tr>\n",
       "      <th>state_and_county_fips_code</th>\n",
       "      <th></th>\n",
       "      <th></th>\n",
       "    </tr>\n",
       "  </thead>\n",
       "  <tbody>\n",
       "    <tr>\n",
       "      <th>9001</th>\n",
       "      <td>288</td>\n",
       "      <td>288</td>\n",
       "    </tr>\n",
       "    <tr>\n",
       "      <th>9003</th>\n",
       "      <td>288</td>\n",
       "      <td>288</td>\n",
       "    </tr>\n",
       "    <tr>\n",
       "      <th>9005</th>\n",
       "      <td>264</td>\n",
       "      <td>264</td>\n",
       "    </tr>\n",
       "    <tr>\n",
       "      <th>9007</th>\n",
       "      <td>288</td>\n",
       "      <td>288</td>\n",
       "    </tr>\n",
       "    <tr>\n",
       "      <th>9009</th>\n",
       "      <td>312</td>\n",
       "      <td>312</td>\n",
       "    </tr>\n",
       "    <tr>\n",
       "      <th>...</th>\n",
       "      <td>...</td>\n",
       "      <td>...</td>\n",
       "    </tr>\n",
       "    <tr>\n",
       "      <th>72151</th>\n",
       "      <td>312</td>\n",
       "      <td>312</td>\n",
       "    </tr>\n",
       "    <tr>\n",
       "      <th>72153</th>\n",
       "      <td>168</td>\n",
       "      <td>168</td>\n",
       "    </tr>\n",
       "    <tr>\n",
       "      <th>78010</th>\n",
       "      <td>240</td>\n",
       "      <td>240</td>\n",
       "    </tr>\n",
       "    <tr>\n",
       "      <th>78020</th>\n",
       "      <td>240</td>\n",
       "      <td>240</td>\n",
       "    </tr>\n",
       "    <tr>\n",
       "      <th>78030</th>\n",
       "      <td>240</td>\n",
       "      <td>240</td>\n",
       "    </tr>\n",
       "  </tbody>\n",
       "</table>\n",
       "<p>515 rows × 2 columns</p>\n",
       "</div>"
      ],
      "text/plain": [
       "                            description  total_emissions\n",
       "state_and_county_fips_code                              \n",
       "9001                                288              288\n",
       "9003                                288              288\n",
       "9005                                264              264\n",
       "9007                                288              288\n",
       "9009                                312              312\n",
       "...                                 ...              ...\n",
       "72151                               312              312\n",
       "72153                               168              168\n",
       "78010                               240              240\n",
       "78020                               240              240\n",
       "78030                               240              240\n",
       "\n",
       "[515 rows x 2 columns]"
      ]
     },
     "execution_count": 25,
     "metadata": {},
     "output_type": "execute_result"
    }
   ],
   "source": [
    "df123.groupby('state_and_county_fips_code').count()"
   ]
  },
  {
   "cell_type": "code",
   "execution_count": null,
   "id": "2fd15c13",
   "metadata": {},
   "outputs": [],
   "source": []
  }
 ],
 "metadata": {
  "kernelspec": {
   "display_name": "Python 3 (ipykernel)",
   "language": "python",
   "name": "python3"
  },
  "language_info": {
   "codemirror_mode": {
    "name": "ipython",
    "version": 3
   },
   "file_extension": ".py",
   "mimetype": "text/x-python",
   "name": "python",
   "nbconvert_exporter": "python",
   "pygments_lexer": "ipython3",
   "version": "3.9.13"
  }
 },
 "nbformat": 4,
 "nbformat_minor": 5
}
