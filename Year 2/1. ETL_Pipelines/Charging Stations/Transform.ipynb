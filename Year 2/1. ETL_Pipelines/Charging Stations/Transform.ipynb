{
 "cells": [
  {
   "cell_type": "markdown",
   "id": "2c24a305",
   "metadata": {},
   "source": [
    "## This notebook is used to retrieve and format the Charging Station level data. \n",
    "\n"
   ]
  },
  {
   "cell_type": "markdown",
   "id": "0d5df46b",
   "metadata": {},
   "source": [
    "First, the notebook calls the alternative fuel center's api to get the data related to electric charging stations they have cataloged.\n",
    "\n",
    "Then, for each of those electric charging stations, we leverage the FCC's api and, using the latitude and longitude of the station, can get the FIPS code.\n",
    "\n",
    "*Note, the act of running this file results in multiple data files being generated. Moreover, the FCC api call is not batch. It will take about 4 hours to get FIPS code from api call"
   ]
  },
  {
   "cell_type": "markdown",
   "id": "0aeb8660",
   "metadata": {},
   "source": [
    "Calling api to get Stations"
   ]
  },
  {
   "cell_type": "code",
   "execution_count": 14,
   "id": "eba39254",
   "metadata": {},
   "outputs": [],
   "source": [
    "import pandas as pd\n",
    "pd.set_option('display.max_columns', 500)\n",
    "\n",
    "import numpy as np\n",
    "import requests\n",
    "import urllib\n",
    "from tqdm import tqdm"
   ]
  },
  {
   "cell_type": "code",
   "execution_count": 15,
   "id": "bd2f96fa",
   "metadata": {},
   "outputs": [],
   "source": [
    "url = 'https://developer.nrel.gov/api/alt-fuel-stations/v1.json?api_key=NO5UMIkC119SbwWzeK5djfAwj5fF8RvrSL807Mim&fuel_type=ELEC'"
   ]
  },
  {
   "cell_type": "code",
   "execution_count": 16,
   "id": "93043e33",
   "metadata": {},
   "outputs": [],
   "source": [
    "response = requests.get(url)"
   ]
  },
  {
   "cell_type": "code",
   "execution_count": 17,
   "id": "5a7b0606",
   "metadata": {},
   "outputs": [
    {
     "data": {
      "text/html": [
       "<div>\n",
       "<style scoped>\n",
       "    .dataframe tbody tr th:only-of-type {\n",
       "        vertical-align: middle;\n",
       "    }\n",
       "\n",
       "    .dataframe tbody tr th {\n",
       "        vertical-align: top;\n",
       "    }\n",
       "\n",
       "    .dataframe thead th {\n",
       "        text-align: right;\n",
       "    }\n",
       "</style>\n",
       "<table border=\"1\" class=\"dataframe\">\n",
       "  <thead>\n",
       "    <tr style=\"text-align: right;\">\n",
       "      <th></th>\n",
       "      <th>access_code</th>\n",
       "      <th>access_days_time</th>\n",
       "      <th>access_detail_code</th>\n",
       "      <th>cards_accepted</th>\n",
       "      <th>date_last_confirmed</th>\n",
       "      <th>expected_date</th>\n",
       "      <th>fuel_type_code</th>\n",
       "      <th>groups_with_access_code</th>\n",
       "      <th>id</th>\n",
       "      <th>open_date</th>\n",
       "      <th>owner_type_code</th>\n",
       "      <th>status_code</th>\n",
       "      <th>restricted_access</th>\n",
       "      <th>maximum_vehicle_class</th>\n",
       "      <th>station_name</th>\n",
       "      <th>station_phone</th>\n",
       "      <th>updated_at</th>\n",
       "      <th>facility_type</th>\n",
       "      <th>geocode_status</th>\n",
       "      <th>latitude</th>\n",
       "      <th>longitude</th>\n",
       "      <th>city</th>\n",
       "      <th>intersection_directions</th>\n",
       "      <th>plus4</th>\n",
       "      <th>state</th>\n",
       "      <th>street_address</th>\n",
       "      <th>zip</th>\n",
       "      <th>country</th>\n",
       "      <th>bd_blends</th>\n",
       "      <th>cng_dispenser_num</th>\n",
       "      <th>cng_fill_type_code</th>\n",
       "      <th>cng_psi</th>\n",
       "      <th>cng_renewable_source</th>\n",
       "      <th>cng_total_compression</th>\n",
       "      <th>cng_total_storage</th>\n",
       "      <th>cng_vehicle_class</th>\n",
       "      <th>cng_has_rng</th>\n",
       "      <th>e85_blender_pump</th>\n",
       "      <th>e85_other_ethanol_blends</th>\n",
       "      <th>ev_connector_types</th>\n",
       "      <th>ev_dc_fast_num</th>\n",
       "      <th>ev_level1_evse_num</th>\n",
       "      <th>ev_level2_evse_num</th>\n",
       "      <th>ev_network</th>\n",
       "      <th>ev_network_web</th>\n",
       "      <th>ev_other_evse</th>\n",
       "      <th>ev_pricing</th>\n",
       "      <th>ev_renewable_source</th>\n",
       "      <th>hy_is_retail</th>\n",
       "      <th>hy_pressures</th>\n",
       "      <th>hy_standards</th>\n",
       "      <th>hy_status_link</th>\n",
       "      <th>lng_renewable_source</th>\n",
       "      <th>lng_vehicle_class</th>\n",
       "      <th>lng_has_rng</th>\n",
       "      <th>lpg_primary</th>\n",
       "      <th>lpg_nozzle_types</th>\n",
       "      <th>ng_fill_type_code</th>\n",
       "      <th>ng_psi</th>\n",
       "      <th>ng_vehicle_class</th>\n",
       "      <th>rd_blends</th>\n",
       "      <th>rd_blends_fr</th>\n",
       "      <th>rd_blended_with_biodiesel</th>\n",
       "      <th>rd_max_biodiesel_level</th>\n",
       "      <th>nps_unit_name</th>\n",
       "      <th>access_days_time_fr</th>\n",
       "      <th>intersection_directions_fr</th>\n",
       "      <th>bd_blends_fr</th>\n",
       "      <th>groups_with_access_code_fr</th>\n",
       "      <th>ev_pricing_fr</th>\n",
       "      <th>ev_network_ids.station</th>\n",
       "      <th>ev_network_ids.posts</th>\n",
       "      <th>federal_agency.id</th>\n",
       "      <th>federal_agency.code</th>\n",
       "      <th>federal_agency.name</th>\n",
       "    </tr>\n",
       "  </thead>\n",
       "  <tbody>\n",
       "    <tr>\n",
       "      <th>0</th>\n",
       "      <td>private</td>\n",
       "      <td>Fleet use only</td>\n",
       "      <td>None</td>\n",
       "      <td>None</td>\n",
       "      <td>2023-01-10</td>\n",
       "      <td>None</td>\n",
       "      <td>ELEC</td>\n",
       "      <td>Private</td>\n",
       "      <td>1517</td>\n",
       "      <td>1999-10-15</td>\n",
       "      <td>LG</td>\n",
       "      <td>E</td>\n",
       "      <td>None</td>\n",
       "      <td>None</td>\n",
       "      <td>LADWP - Truesdale Center</td>\n",
       "      <td>None</td>\n",
       "      <td>2023-02-15T22:45:41Z</td>\n",
       "      <td>UTILITY</td>\n",
       "      <td>GPS</td>\n",
       "      <td>34.248319</td>\n",
       "      <td>-118.387971</td>\n",
       "      <td>Sun Valley</td>\n",
       "      <td>None</td>\n",
       "      <td>None</td>\n",
       "      <td>CA</td>\n",
       "      <td>11797 Truesdale St</td>\n",
       "      <td>91352</td>\n",
       "      <td>US</td>\n",
       "      <td>None</td>\n",
       "      <td>None</td>\n",
       "      <td>None</td>\n",
       "      <td>None</td>\n",
       "      <td>None</td>\n",
       "      <td>None</td>\n",
       "      <td>None</td>\n",
       "      <td>None</td>\n",
       "      <td>None</td>\n",
       "      <td>None</td>\n",
       "      <td>None</td>\n",
       "      <td>[CHADEMO, J1772, J1772COMBO]</td>\n",
       "      <td>3.0</td>\n",
       "      <td>NaN</td>\n",
       "      <td>39.0</td>\n",
       "      <td>Non-Networked</td>\n",
       "      <td>None</td>\n",
       "      <td>None</td>\n",
       "      <td>None</td>\n",
       "      <td>None</td>\n",
       "      <td>None</td>\n",
       "      <td>None</td>\n",
       "      <td>None</td>\n",
       "      <td>None</td>\n",
       "      <td>None</td>\n",
       "      <td>None</td>\n",
       "      <td>None</td>\n",
       "      <td>None</td>\n",
       "      <td>None</td>\n",
       "      <td>None</td>\n",
       "      <td>None</td>\n",
       "      <td>None</td>\n",
       "      <td>None</td>\n",
       "      <td>None</td>\n",
       "      <td>None</td>\n",
       "      <td>None</td>\n",
       "      <td>None</td>\n",
       "      <td>None</td>\n",
       "      <td>None</td>\n",
       "      <td>None</td>\n",
       "      <td>Privé</td>\n",
       "      <td>None</td>\n",
       "      <td>NaN</td>\n",
       "      <td>NaN</td>\n",
       "      <td>NaN</td>\n",
       "      <td>NaN</td>\n",
       "      <td>NaN</td>\n",
       "    </tr>\n",
       "    <tr>\n",
       "      <th>1</th>\n",
       "      <td>private</td>\n",
       "      <td>None</td>\n",
       "      <td>None</td>\n",
       "      <td>None</td>\n",
       "      <td>2023-01-10</td>\n",
       "      <td>None</td>\n",
       "      <td>ELEC</td>\n",
       "      <td>Private</td>\n",
       "      <td>1519</td>\n",
       "      <td>2020-02-28</td>\n",
       "      <td>LG</td>\n",
       "      <td>E</td>\n",
       "      <td>None</td>\n",
       "      <td>None</td>\n",
       "      <td>LADWP - West LA District Office</td>\n",
       "      <td>None</td>\n",
       "      <td>2023-02-15T22:45:41Z</td>\n",
       "      <td>UTILITY</td>\n",
       "      <td>200-8</td>\n",
       "      <td>34.052542</td>\n",
       "      <td>-118.448504</td>\n",
       "      <td>Los Angeles</td>\n",
       "      <td>None</td>\n",
       "      <td>None</td>\n",
       "      <td>CA</td>\n",
       "      <td>1394 S Sepulveda Blvd</td>\n",
       "      <td>90024</td>\n",
       "      <td>US</td>\n",
       "      <td>None</td>\n",
       "      <td>None</td>\n",
       "      <td>None</td>\n",
       "      <td>None</td>\n",
       "      <td>None</td>\n",
       "      <td>None</td>\n",
       "      <td>None</td>\n",
       "      <td>None</td>\n",
       "      <td>None</td>\n",
       "      <td>None</td>\n",
       "      <td>None</td>\n",
       "      <td>[J1772]</td>\n",
       "      <td>NaN</td>\n",
       "      <td>NaN</td>\n",
       "      <td>4.0</td>\n",
       "      <td>Non-Networked</td>\n",
       "      <td>None</td>\n",
       "      <td>None</td>\n",
       "      <td>Free</td>\n",
       "      <td>None</td>\n",
       "      <td>None</td>\n",
       "      <td>None</td>\n",
       "      <td>None</td>\n",
       "      <td>None</td>\n",
       "      <td>None</td>\n",
       "      <td>None</td>\n",
       "      <td>None</td>\n",
       "      <td>None</td>\n",
       "      <td>None</td>\n",
       "      <td>None</td>\n",
       "      <td>None</td>\n",
       "      <td>None</td>\n",
       "      <td>None</td>\n",
       "      <td>None</td>\n",
       "      <td>None</td>\n",
       "      <td>None</td>\n",
       "      <td>None</td>\n",
       "      <td>None</td>\n",
       "      <td>None</td>\n",
       "      <td>None</td>\n",
       "      <td>Privé</td>\n",
       "      <td>None</td>\n",
       "      <td>NaN</td>\n",
       "      <td>NaN</td>\n",
       "      <td>NaN</td>\n",
       "      <td>NaN</td>\n",
       "      <td>NaN</td>\n",
       "    </tr>\n",
       "    <tr>\n",
       "      <th>2</th>\n",
       "      <td>public</td>\n",
       "      <td>5:30am-9pm; pay lot</td>\n",
       "      <td>None</td>\n",
       "      <td>None</td>\n",
       "      <td>2023-01-10</td>\n",
       "      <td>None</td>\n",
       "      <td>ELEC</td>\n",
       "      <td>Public</td>\n",
       "      <td>1523</td>\n",
       "      <td>1995-08-30</td>\n",
       "      <td>P</td>\n",
       "      <td>E</td>\n",
       "      <td>False</td>\n",
       "      <td>LD</td>\n",
       "      <td>Los Angeles Convention Center</td>\n",
       "      <td>213-741-1151</td>\n",
       "      <td>2023-02-14T15:54:11Z</td>\n",
       "      <td>PARKING_GARAGE</td>\n",
       "      <td>GPS</td>\n",
       "      <td>34.040539</td>\n",
       "      <td>-118.271387</td>\n",
       "      <td>Los Angeles</td>\n",
       "      <td>West hall and South hall</td>\n",
       "      <td>None</td>\n",
       "      <td>CA</td>\n",
       "      <td>1201 S Figueroa St</td>\n",
       "      <td>90015</td>\n",
       "      <td>US</td>\n",
       "      <td>None</td>\n",
       "      <td>None</td>\n",
       "      <td>None</td>\n",
       "      <td>None</td>\n",
       "      <td>None</td>\n",
       "      <td>None</td>\n",
       "      <td>None</td>\n",
       "      <td>None</td>\n",
       "      <td>None</td>\n",
       "      <td>None</td>\n",
       "      <td>None</td>\n",
       "      <td>[J1772]</td>\n",
       "      <td>NaN</td>\n",
       "      <td>NaN</td>\n",
       "      <td>7.0</td>\n",
       "      <td>Non-Networked</td>\n",
       "      <td>None</td>\n",
       "      <td>None</td>\n",
       "      <td>Free; parking fee</td>\n",
       "      <td>None</td>\n",
       "      <td>None</td>\n",
       "      <td>None</td>\n",
       "      <td>None</td>\n",
       "      <td>None</td>\n",
       "      <td>None</td>\n",
       "      <td>None</td>\n",
       "      <td>None</td>\n",
       "      <td>None</td>\n",
       "      <td>None</td>\n",
       "      <td>None</td>\n",
       "      <td>None</td>\n",
       "      <td>None</td>\n",
       "      <td>None</td>\n",
       "      <td>None</td>\n",
       "      <td>None</td>\n",
       "      <td>None</td>\n",
       "      <td>None</td>\n",
       "      <td>None</td>\n",
       "      <td>None</td>\n",
       "      <td>None</td>\n",
       "      <td>Public</td>\n",
       "      <td>None</td>\n",
       "      <td>NaN</td>\n",
       "      <td>NaN</td>\n",
       "      <td>NaN</td>\n",
       "      <td>NaN</td>\n",
       "      <td>NaN</td>\n",
       "    </tr>\n",
       "    <tr>\n",
       "      <th>3</th>\n",
       "      <td>private</td>\n",
       "      <td>For fleet and employee use only</td>\n",
       "      <td>None</td>\n",
       "      <td>None</td>\n",
       "      <td>2023-01-10</td>\n",
       "      <td>None</td>\n",
       "      <td>ELEC</td>\n",
       "      <td>Private</td>\n",
       "      <td>1525</td>\n",
       "      <td>1999-10-15</td>\n",
       "      <td>LG</td>\n",
       "      <td>E</td>\n",
       "      <td>None</td>\n",
       "      <td>None</td>\n",
       "      <td>LADWP - John Ferraro Building</td>\n",
       "      <td>None</td>\n",
       "      <td>2023-02-15T22:45:41Z</td>\n",
       "      <td>UTILITY</td>\n",
       "      <td>GPS</td>\n",
       "      <td>34.059133</td>\n",
       "      <td>-118.248589</td>\n",
       "      <td>Los Angeles</td>\n",
       "      <td>Across Hope</td>\n",
       "      <td>None</td>\n",
       "      <td>CA</td>\n",
       "      <td>111 N Hope St</td>\n",
       "      <td>90012</td>\n",
       "      <td>US</td>\n",
       "      <td>None</td>\n",
       "      <td>None</td>\n",
       "      <td>None</td>\n",
       "      <td>None</td>\n",
       "      <td>None</td>\n",
       "      <td>None</td>\n",
       "      <td>None</td>\n",
       "      <td>None</td>\n",
       "      <td>None</td>\n",
       "      <td>None</td>\n",
       "      <td>None</td>\n",
       "      <td>[CHADEMO, J1772, J1772COMBO]</td>\n",
       "      <td>2.0</td>\n",
       "      <td>NaN</td>\n",
       "      <td>311.0</td>\n",
       "      <td>Non-Networked</td>\n",
       "      <td>None</td>\n",
       "      <td>None</td>\n",
       "      <td>None</td>\n",
       "      <td>None</td>\n",
       "      <td>None</td>\n",
       "      <td>None</td>\n",
       "      <td>None</td>\n",
       "      <td>None</td>\n",
       "      <td>None</td>\n",
       "      <td>None</td>\n",
       "      <td>None</td>\n",
       "      <td>None</td>\n",
       "      <td>None</td>\n",
       "      <td>None</td>\n",
       "      <td>None</td>\n",
       "      <td>None</td>\n",
       "      <td>None</td>\n",
       "      <td>None</td>\n",
       "      <td>None</td>\n",
       "      <td>None</td>\n",
       "      <td>None</td>\n",
       "      <td>None</td>\n",
       "      <td>None</td>\n",
       "      <td>None</td>\n",
       "      <td>Privé</td>\n",
       "      <td>None</td>\n",
       "      <td>NaN</td>\n",
       "      <td>NaN</td>\n",
       "      <td>NaN</td>\n",
       "      <td>NaN</td>\n",
       "      <td>NaN</td>\n",
       "    </tr>\n",
       "    <tr>\n",
       "      <th>4</th>\n",
       "      <td>private</td>\n",
       "      <td>Fleet use only</td>\n",
       "      <td>None</td>\n",
       "      <td>None</td>\n",
       "      <td>2023-01-10</td>\n",
       "      <td>None</td>\n",
       "      <td>ELEC</td>\n",
       "      <td>Private</td>\n",
       "      <td>1531</td>\n",
       "      <td>2018-05-01</td>\n",
       "      <td>LG</td>\n",
       "      <td>E</td>\n",
       "      <td>None</td>\n",
       "      <td>None</td>\n",
       "      <td>LADWP - Haynes Power Plant</td>\n",
       "      <td>None</td>\n",
       "      <td>2023-02-15T22:45:41Z</td>\n",
       "      <td>UTILITY</td>\n",
       "      <td>GPS</td>\n",
       "      <td>33.759802</td>\n",
       "      <td>-118.096665</td>\n",
       "      <td>Long Beach</td>\n",
       "      <td>None</td>\n",
       "      <td>None</td>\n",
       "      <td>CA</td>\n",
       "      <td>6801 E 2nd St</td>\n",
       "      <td>90803</td>\n",
       "      <td>US</td>\n",
       "      <td>None</td>\n",
       "      <td>None</td>\n",
       "      <td>None</td>\n",
       "      <td>None</td>\n",
       "      <td>None</td>\n",
       "      <td>None</td>\n",
       "      <td>None</td>\n",
       "      <td>None</td>\n",
       "      <td>None</td>\n",
       "      <td>None</td>\n",
       "      <td>None</td>\n",
       "      <td>[CHADEMO, J1772, J1772COMBO]</td>\n",
       "      <td>1.0</td>\n",
       "      <td>NaN</td>\n",
       "      <td>19.0</td>\n",
       "      <td>Non-Networked</td>\n",
       "      <td>None</td>\n",
       "      <td>None</td>\n",
       "      <td>None</td>\n",
       "      <td>None</td>\n",
       "      <td>None</td>\n",
       "      <td>None</td>\n",
       "      <td>None</td>\n",
       "      <td>None</td>\n",
       "      <td>None</td>\n",
       "      <td>None</td>\n",
       "      <td>None</td>\n",
       "      <td>None</td>\n",
       "      <td>None</td>\n",
       "      <td>None</td>\n",
       "      <td>None</td>\n",
       "      <td>None</td>\n",
       "      <td>None</td>\n",
       "      <td>None</td>\n",
       "      <td>None</td>\n",
       "      <td>None</td>\n",
       "      <td>None</td>\n",
       "      <td>None</td>\n",
       "      <td>None</td>\n",
       "      <td>None</td>\n",
       "      <td>Privé</td>\n",
       "      <td>None</td>\n",
       "      <td>NaN</td>\n",
       "      <td>NaN</td>\n",
       "      <td>NaN</td>\n",
       "      <td>NaN</td>\n",
       "      <td>NaN</td>\n",
       "    </tr>\n",
       "    <tr>\n",
       "      <th>...</th>\n",
       "      <td>...</td>\n",
       "      <td>...</td>\n",
       "      <td>...</td>\n",
       "      <td>...</td>\n",
       "      <td>...</td>\n",
       "      <td>...</td>\n",
       "      <td>...</td>\n",
       "      <td>...</td>\n",
       "      <td>...</td>\n",
       "      <td>...</td>\n",
       "      <td>...</td>\n",
       "      <td>...</td>\n",
       "      <td>...</td>\n",
       "      <td>...</td>\n",
       "      <td>...</td>\n",
       "      <td>...</td>\n",
       "      <td>...</td>\n",
       "      <td>...</td>\n",
       "      <td>...</td>\n",
       "      <td>...</td>\n",
       "      <td>...</td>\n",
       "      <td>...</td>\n",
       "      <td>...</td>\n",
       "      <td>...</td>\n",
       "      <td>...</td>\n",
       "      <td>...</td>\n",
       "      <td>...</td>\n",
       "      <td>...</td>\n",
       "      <td>...</td>\n",
       "      <td>...</td>\n",
       "      <td>...</td>\n",
       "      <td>...</td>\n",
       "      <td>...</td>\n",
       "      <td>...</td>\n",
       "      <td>...</td>\n",
       "      <td>...</td>\n",
       "      <td>...</td>\n",
       "      <td>...</td>\n",
       "      <td>...</td>\n",
       "      <td>...</td>\n",
       "      <td>...</td>\n",
       "      <td>...</td>\n",
       "      <td>...</td>\n",
       "      <td>...</td>\n",
       "      <td>...</td>\n",
       "      <td>...</td>\n",
       "      <td>...</td>\n",
       "      <td>...</td>\n",
       "      <td>...</td>\n",
       "      <td>...</td>\n",
       "      <td>...</td>\n",
       "      <td>...</td>\n",
       "      <td>...</td>\n",
       "      <td>...</td>\n",
       "      <td>...</td>\n",
       "      <td>...</td>\n",
       "      <td>...</td>\n",
       "      <td>...</td>\n",
       "      <td>...</td>\n",
       "      <td>...</td>\n",
       "      <td>...</td>\n",
       "      <td>...</td>\n",
       "      <td>...</td>\n",
       "      <td>...</td>\n",
       "      <td>...</td>\n",
       "      <td>...</td>\n",
       "      <td>...</td>\n",
       "      <td>...</td>\n",
       "      <td>...</td>\n",
       "      <td>...</td>\n",
       "      <td>...</td>\n",
       "      <td>...</td>\n",
       "      <td>...</td>\n",
       "      <td>...</td>\n",
       "      <td>...</td>\n",
       "    </tr>\n",
       "    <tr>\n",
       "      <th>62094</th>\n",
       "      <td>public</td>\n",
       "      <td>24 hours daily</td>\n",
       "      <td>None</td>\n",
       "      <td>None</td>\n",
       "      <td>2023-07-20</td>\n",
       "      <td>None</td>\n",
       "      <td>ELEC</td>\n",
       "      <td>Public</td>\n",
       "      <td>302923</td>\n",
       "      <td>2023-07-20</td>\n",
       "      <td>None</td>\n",
       "      <td>E</td>\n",
       "      <td>None</td>\n",
       "      <td>None</td>\n",
       "      <td>Olympia Yacht Club</td>\n",
       "      <td>855-900-7584</td>\n",
       "      <td>2023-07-20T00:47:06Z</td>\n",
       "      <td>None</td>\n",
       "      <td>GPS</td>\n",
       "      <td>47.044688</td>\n",
       "      <td>-122.906556</td>\n",
       "      <td>Olympia</td>\n",
       "      <td>None</td>\n",
       "      <td>None</td>\n",
       "      <td>WA</td>\n",
       "      <td>201 Simmons St NW</td>\n",
       "      <td>98501</td>\n",
       "      <td>US</td>\n",
       "      <td>None</td>\n",
       "      <td>None</td>\n",
       "      <td>None</td>\n",
       "      <td>None</td>\n",
       "      <td>None</td>\n",
       "      <td>None</td>\n",
       "      <td>None</td>\n",
       "      <td>None</td>\n",
       "      <td>None</td>\n",
       "      <td>None</td>\n",
       "      <td>None</td>\n",
       "      <td>[CHADEMO]</td>\n",
       "      <td>1.0</td>\n",
       "      <td>NaN</td>\n",
       "      <td>NaN</td>\n",
       "      <td>SHELL_RECHARGE</td>\n",
       "      <td>https://shellrecharge.com/en-us/solutions</td>\n",
       "      <td>None</td>\n",
       "      <td>None</td>\n",
       "      <td>None</td>\n",
       "      <td>None</td>\n",
       "      <td>None</td>\n",
       "      <td>None</td>\n",
       "      <td>None</td>\n",
       "      <td>None</td>\n",
       "      <td>None</td>\n",
       "      <td>None</td>\n",
       "      <td>None</td>\n",
       "      <td>None</td>\n",
       "      <td>None</td>\n",
       "      <td>None</td>\n",
       "      <td>None</td>\n",
       "      <td>None</td>\n",
       "      <td>None</td>\n",
       "      <td>None</td>\n",
       "      <td>None</td>\n",
       "      <td>None</td>\n",
       "      <td>None</td>\n",
       "      <td>None</td>\n",
       "      <td>None</td>\n",
       "      <td>Public</td>\n",
       "      <td>None</td>\n",
       "      <td>[4369]</td>\n",
       "      <td>[33577]</td>\n",
       "      <td>NaN</td>\n",
       "      <td>NaN</td>\n",
       "      <td>NaN</td>\n",
       "    </tr>\n",
       "    <tr>\n",
       "      <th>62095</th>\n",
       "      <td>public</td>\n",
       "      <td>None</td>\n",
       "      <td>None</td>\n",
       "      <td>None</td>\n",
       "      <td>2023-07-20</td>\n",
       "      <td>None</td>\n",
       "      <td>ELEC</td>\n",
       "      <td>Public</td>\n",
       "      <td>302924</td>\n",
       "      <td>2023-07-20</td>\n",
       "      <td>None</td>\n",
       "      <td>E</td>\n",
       "      <td>None</td>\n",
       "      <td>None</td>\n",
       "      <td>Wichita Furniture &amp; Mattress</td>\n",
       "      <td>866-816-7584</td>\n",
       "      <td>2023-07-20T00:52:54Z</td>\n",
       "      <td>None</td>\n",
       "      <td>GPS</td>\n",
       "      <td>37.675809</td>\n",
       "      <td>-97.393545</td>\n",
       "      <td>Wichita</td>\n",
       "      <td>None</td>\n",
       "      <td>None</td>\n",
       "      <td>KS</td>\n",
       "      <td>4200 W Kellogg Dr</td>\n",
       "      <td>67209</td>\n",
       "      <td>US</td>\n",
       "      <td>None</td>\n",
       "      <td>None</td>\n",
       "      <td>None</td>\n",
       "      <td>None</td>\n",
       "      <td>None</td>\n",
       "      <td>None</td>\n",
       "      <td>None</td>\n",
       "      <td>None</td>\n",
       "      <td>None</td>\n",
       "      <td>None</td>\n",
       "      <td>None</td>\n",
       "      <td>[J1772]</td>\n",
       "      <td>NaN</td>\n",
       "      <td>NaN</td>\n",
       "      <td>2.0</td>\n",
       "      <td>EV Connect</td>\n",
       "      <td>http://evconnect.com/</td>\n",
       "      <td>None</td>\n",
       "      <td>None</td>\n",
       "      <td>None</td>\n",
       "      <td>None</td>\n",
       "      <td>None</td>\n",
       "      <td>None</td>\n",
       "      <td>None</td>\n",
       "      <td>None</td>\n",
       "      <td>None</td>\n",
       "      <td>None</td>\n",
       "      <td>None</td>\n",
       "      <td>None</td>\n",
       "      <td>None</td>\n",
       "      <td>None</td>\n",
       "      <td>None</td>\n",
       "      <td>None</td>\n",
       "      <td>None</td>\n",
       "      <td>None</td>\n",
       "      <td>None</td>\n",
       "      <td>None</td>\n",
       "      <td>None</td>\n",
       "      <td>None</td>\n",
       "      <td>None</td>\n",
       "      <td>Public</td>\n",
       "      <td>None</td>\n",
       "      <td>[7936a78a-7596-47fe-855d-0a4cb93921be]</td>\n",
       "      <td>[646518da768fbc7bbcf8f964, 64651b138e78fb21517...</td>\n",
       "      <td>NaN</td>\n",
       "      <td>NaN</td>\n",
       "      <td>NaN</td>\n",
       "    </tr>\n",
       "    <tr>\n",
       "      <th>62096</th>\n",
       "      <td>public</td>\n",
       "      <td>None</td>\n",
       "      <td>None</td>\n",
       "      <td>None</td>\n",
       "      <td>2023-07-20</td>\n",
       "      <td>None</td>\n",
       "      <td>ELEC</td>\n",
       "      <td>Public</td>\n",
       "      <td>302925</td>\n",
       "      <td>2023-07-20</td>\n",
       "      <td>None</td>\n",
       "      <td>E</td>\n",
       "      <td>None</td>\n",
       "      <td>None</td>\n",
       "      <td>Big Pool Exxon</td>\n",
       "      <td>866-816-7584</td>\n",
       "      <td>2023-07-20T00:52:57Z</td>\n",
       "      <td>None</td>\n",
       "      <td>GPS</td>\n",
       "      <td>39.627990</td>\n",
       "      <td>-78.018151</td>\n",
       "      <td>Big Pool</td>\n",
       "      <td>None</td>\n",
       "      <td>None</td>\n",
       "      <td>MD</td>\n",
       "      <td>11079 Big Pool Rd</td>\n",
       "      <td>21711</td>\n",
       "      <td>US</td>\n",
       "      <td>None</td>\n",
       "      <td>None</td>\n",
       "      <td>None</td>\n",
       "      <td>None</td>\n",
       "      <td>None</td>\n",
       "      <td>None</td>\n",
       "      <td>None</td>\n",
       "      <td>None</td>\n",
       "      <td>None</td>\n",
       "      <td>None</td>\n",
       "      <td>None</td>\n",
       "      <td>[CHADEMO, J1772COMBO]</td>\n",
       "      <td>4.0</td>\n",
       "      <td>NaN</td>\n",
       "      <td>NaN</td>\n",
       "      <td>EV Connect</td>\n",
       "      <td>http://evconnect.com/</td>\n",
       "      <td>None</td>\n",
       "      <td>None</td>\n",
       "      <td>None</td>\n",
       "      <td>None</td>\n",
       "      <td>None</td>\n",
       "      <td>None</td>\n",
       "      <td>None</td>\n",
       "      <td>None</td>\n",
       "      <td>None</td>\n",
       "      <td>None</td>\n",
       "      <td>None</td>\n",
       "      <td>None</td>\n",
       "      <td>None</td>\n",
       "      <td>None</td>\n",
       "      <td>None</td>\n",
       "      <td>None</td>\n",
       "      <td>None</td>\n",
       "      <td>None</td>\n",
       "      <td>None</td>\n",
       "      <td>None</td>\n",
       "      <td>None</td>\n",
       "      <td>None</td>\n",
       "      <td>None</td>\n",
       "      <td>Public</td>\n",
       "      <td>None</td>\n",
       "      <td>[ffe7df31-ac0b-4d9c-a37d-4979e50d72ec]</td>\n",
       "      <td>[640ce28af7077e5a585c0ca6, 640ce28af7077e5a585...</td>\n",
       "      <td>NaN</td>\n",
       "      <td>NaN</td>\n",
       "      <td>NaN</td>\n",
       "    </tr>\n",
       "    <tr>\n",
       "      <th>62097</th>\n",
       "      <td>public</td>\n",
       "      <td>24 hours daily</td>\n",
       "      <td>None</td>\n",
       "      <td>None</td>\n",
       "      <td>2023-07-20</td>\n",
       "      <td>None</td>\n",
       "      <td>ELEC</td>\n",
       "      <td>Public</td>\n",
       "      <td>302926</td>\n",
       "      <td>2023-07-20</td>\n",
       "      <td>None</td>\n",
       "      <td>E</td>\n",
       "      <td>None</td>\n",
       "      <td>None</td>\n",
       "      <td>7150 N Shoup Ave</td>\n",
       "      <td>888-356-8911</td>\n",
       "      <td>2023-07-20T00:57:33Z</td>\n",
       "      <td>None</td>\n",
       "      <td>GPS</td>\n",
       "      <td>34.200030</td>\n",
       "      <td>-118.614542</td>\n",
       "      <td>Los Angeles</td>\n",
       "      <td>None</td>\n",
       "      <td>None</td>\n",
       "      <td>CA</td>\n",
       "      <td>7150 N Shoup Ave</td>\n",
       "      <td>91307</td>\n",
       "      <td>US</td>\n",
       "      <td>None</td>\n",
       "      <td>None</td>\n",
       "      <td>None</td>\n",
       "      <td>None</td>\n",
       "      <td>None</td>\n",
       "      <td>None</td>\n",
       "      <td>None</td>\n",
       "      <td>None</td>\n",
       "      <td>None</td>\n",
       "      <td>None</td>\n",
       "      <td>None</td>\n",
       "      <td>[J1772]</td>\n",
       "      <td>NaN</td>\n",
       "      <td>NaN</td>\n",
       "      <td>1.0</td>\n",
       "      <td>FLO</td>\n",
       "      <td>https://flo.ca/</td>\n",
       "      <td>None</td>\n",
       "      <td>None</td>\n",
       "      <td>None</td>\n",
       "      <td>None</td>\n",
       "      <td>None</td>\n",
       "      <td>None</td>\n",
       "      <td>None</td>\n",
       "      <td>None</td>\n",
       "      <td>None</td>\n",
       "      <td>None</td>\n",
       "      <td>None</td>\n",
       "      <td>None</td>\n",
       "      <td>None</td>\n",
       "      <td>None</td>\n",
       "      <td>None</td>\n",
       "      <td>None</td>\n",
       "      <td>None</td>\n",
       "      <td>None</td>\n",
       "      <td>None</td>\n",
       "      <td>None</td>\n",
       "      <td>None</td>\n",
       "      <td>None</td>\n",
       "      <td>None</td>\n",
       "      <td>Public</td>\n",
       "      <td>None</td>\n",
       "      <td>NaN</td>\n",
       "      <td>[AUI-10359]</td>\n",
       "      <td>NaN</td>\n",
       "      <td>NaN</td>\n",
       "      <td>NaN</td>\n",
       "    </tr>\n",
       "    <tr>\n",
       "      <th>62098</th>\n",
       "      <td>public</td>\n",
       "      <td>24 hours daily</td>\n",
       "      <td>None</td>\n",
       "      <td>None</td>\n",
       "      <td>2023-07-20</td>\n",
       "      <td>None</td>\n",
       "      <td>ELEC</td>\n",
       "      <td>Public</td>\n",
       "      <td>302928</td>\n",
       "      <td>2023-07-20</td>\n",
       "      <td>None</td>\n",
       "      <td>E</td>\n",
       "      <td>None</td>\n",
       "      <td>None</td>\n",
       "      <td>Leisure Centre - City of Chilliwack -4</td>\n",
       "      <td>888-356-8911</td>\n",
       "      <td>2023-07-20T01:01:53Z</td>\n",
       "      <td>None</td>\n",
       "      <td>GPS</td>\n",
       "      <td>49.171107</td>\n",
       "      <td>-121.964668</td>\n",
       "      <td>Chilliwack</td>\n",
       "      <td>None</td>\n",
       "      <td>None</td>\n",
       "      <td>BC</td>\n",
       "      <td>9291 Corbould St</td>\n",
       "      <td>V2P 4</td>\n",
       "      <td>US</td>\n",
       "      <td>None</td>\n",
       "      <td>None</td>\n",
       "      <td>None</td>\n",
       "      <td>None</td>\n",
       "      <td>None</td>\n",
       "      <td>None</td>\n",
       "      <td>None</td>\n",
       "      <td>None</td>\n",
       "      <td>None</td>\n",
       "      <td>None</td>\n",
       "      <td>None</td>\n",
       "      <td>[J1772]</td>\n",
       "      <td>NaN</td>\n",
       "      <td>NaN</td>\n",
       "      <td>1.0</td>\n",
       "      <td>FLO</td>\n",
       "      <td>https://flo.ca/</td>\n",
       "      <td>None</td>\n",
       "      <td>None</td>\n",
       "      <td>None</td>\n",
       "      <td>None</td>\n",
       "      <td>None</td>\n",
       "      <td>None</td>\n",
       "      <td>None</td>\n",
       "      <td>None</td>\n",
       "      <td>None</td>\n",
       "      <td>None</td>\n",
       "      <td>None</td>\n",
       "      <td>None</td>\n",
       "      <td>None</td>\n",
       "      <td>None</td>\n",
       "      <td>None</td>\n",
       "      <td>None</td>\n",
       "      <td>None</td>\n",
       "      <td>None</td>\n",
       "      <td>None</td>\n",
       "      <td>None</td>\n",
       "      <td>None</td>\n",
       "      <td>None</td>\n",
       "      <td>None</td>\n",
       "      <td>Public</td>\n",
       "      <td>None</td>\n",
       "      <td>NaN</td>\n",
       "      <td>[AAB-21978]</td>\n",
       "      <td>NaN</td>\n",
       "      <td>NaN</td>\n",
       "      <td>NaN</td>\n",
       "    </tr>\n",
       "  </tbody>\n",
       "</table>\n",
       "<p>62099 rows × 75 columns</p>\n",
       "</div>"
      ],
      "text/plain": [
       "      access_code                 access_days_time access_detail_code  \\\n",
       "0         private                   Fleet use only               None   \n",
       "1         private                             None               None   \n",
       "2          public              5:30am-9pm; pay lot               None   \n",
       "3         private  For fleet and employee use only               None   \n",
       "4         private                   Fleet use only               None   \n",
       "...           ...                              ...                ...   \n",
       "62094      public                   24 hours daily               None   \n",
       "62095      public                             None               None   \n",
       "62096      public                             None               None   \n",
       "62097      public                   24 hours daily               None   \n",
       "62098      public                   24 hours daily               None   \n",
       "\n",
       "      cards_accepted date_last_confirmed expected_date fuel_type_code  \\\n",
       "0               None          2023-01-10          None           ELEC   \n",
       "1               None          2023-01-10          None           ELEC   \n",
       "2               None          2023-01-10          None           ELEC   \n",
       "3               None          2023-01-10          None           ELEC   \n",
       "4               None          2023-01-10          None           ELEC   \n",
       "...              ...                 ...           ...            ...   \n",
       "62094           None          2023-07-20          None           ELEC   \n",
       "62095           None          2023-07-20          None           ELEC   \n",
       "62096           None          2023-07-20          None           ELEC   \n",
       "62097           None          2023-07-20          None           ELEC   \n",
       "62098           None          2023-07-20          None           ELEC   \n",
       "\n",
       "      groups_with_access_code      id   open_date owner_type_code status_code  \\\n",
       "0                     Private    1517  1999-10-15              LG           E   \n",
       "1                     Private    1519  2020-02-28              LG           E   \n",
       "2                      Public    1523  1995-08-30               P           E   \n",
       "3                     Private    1525  1999-10-15              LG           E   \n",
       "4                     Private    1531  2018-05-01              LG           E   \n",
       "...                       ...     ...         ...             ...         ...   \n",
       "62094                  Public  302923  2023-07-20            None           E   \n",
       "62095                  Public  302924  2023-07-20            None           E   \n",
       "62096                  Public  302925  2023-07-20            None           E   \n",
       "62097                  Public  302926  2023-07-20            None           E   \n",
       "62098                  Public  302928  2023-07-20            None           E   \n",
       "\n",
       "      restricted_access maximum_vehicle_class  \\\n",
       "0                  None                  None   \n",
       "1                  None                  None   \n",
       "2                 False                    LD   \n",
       "3                  None                  None   \n",
       "4                  None                  None   \n",
       "...                 ...                   ...   \n",
       "62094              None                  None   \n",
       "62095              None                  None   \n",
       "62096              None                  None   \n",
       "62097              None                  None   \n",
       "62098              None                  None   \n",
       "\n",
       "                                 station_name station_phone  \\\n",
       "0                    LADWP - Truesdale Center          None   \n",
       "1             LADWP - West LA District Office          None   \n",
       "2               Los Angeles Convention Center  213-741-1151   \n",
       "3               LADWP - John Ferraro Building          None   \n",
       "4                  LADWP - Haynes Power Plant          None   \n",
       "...                                       ...           ...   \n",
       "62094                      Olympia Yacht Club  855-900-7584   \n",
       "62095            Wichita Furniture & Mattress  866-816-7584   \n",
       "62096                          Big Pool Exxon  866-816-7584   \n",
       "62097                        7150 N Shoup Ave  888-356-8911   \n",
       "62098  Leisure Centre - City of Chilliwack -4  888-356-8911   \n",
       "\n",
       "                 updated_at   facility_type geocode_status   latitude  \\\n",
       "0      2023-02-15T22:45:41Z         UTILITY            GPS  34.248319   \n",
       "1      2023-02-15T22:45:41Z         UTILITY          200-8  34.052542   \n",
       "2      2023-02-14T15:54:11Z  PARKING_GARAGE            GPS  34.040539   \n",
       "3      2023-02-15T22:45:41Z         UTILITY            GPS  34.059133   \n",
       "4      2023-02-15T22:45:41Z         UTILITY            GPS  33.759802   \n",
       "...                     ...             ...            ...        ...   \n",
       "62094  2023-07-20T00:47:06Z            None            GPS  47.044688   \n",
       "62095  2023-07-20T00:52:54Z            None            GPS  37.675809   \n",
       "62096  2023-07-20T00:52:57Z            None            GPS  39.627990   \n",
       "62097  2023-07-20T00:57:33Z            None            GPS  34.200030   \n",
       "62098  2023-07-20T01:01:53Z            None            GPS  49.171107   \n",
       "\n",
       "        longitude         city   intersection_directions plus4 state  \\\n",
       "0     -118.387971   Sun Valley                      None  None    CA   \n",
       "1     -118.448504  Los Angeles                      None  None    CA   \n",
       "2     -118.271387  Los Angeles  West hall and South hall  None    CA   \n",
       "3     -118.248589  Los Angeles               Across Hope  None    CA   \n",
       "4     -118.096665   Long Beach                      None  None    CA   \n",
       "...           ...          ...                       ...   ...   ...   \n",
       "62094 -122.906556      Olympia                      None  None    WA   \n",
       "62095  -97.393545      Wichita                      None  None    KS   \n",
       "62096  -78.018151     Big Pool                      None  None    MD   \n",
       "62097 -118.614542  Los Angeles                      None  None    CA   \n",
       "62098 -121.964668   Chilliwack                      None  None    BC   \n",
       "\n",
       "              street_address    zip country bd_blends cng_dispenser_num  \\\n",
       "0         11797 Truesdale St  91352      US      None              None   \n",
       "1      1394 S Sepulveda Blvd  90024      US      None              None   \n",
       "2         1201 S Figueroa St  90015      US      None              None   \n",
       "3              111 N Hope St  90012      US      None              None   \n",
       "4              6801 E 2nd St  90803      US      None              None   \n",
       "...                      ...    ...     ...       ...               ...   \n",
       "62094      201 Simmons St NW  98501      US      None              None   \n",
       "62095      4200 W Kellogg Dr  67209      US      None              None   \n",
       "62096      11079 Big Pool Rd  21711      US      None              None   \n",
       "62097       7150 N Shoup Ave  91307      US      None              None   \n",
       "62098       9291 Corbould St  V2P 4      US      None              None   \n",
       "\n",
       "      cng_fill_type_code cng_psi cng_renewable_source cng_total_compression  \\\n",
       "0                   None    None                 None                  None   \n",
       "1                   None    None                 None                  None   \n",
       "2                   None    None                 None                  None   \n",
       "3                   None    None                 None                  None   \n",
       "4                   None    None                 None                  None   \n",
       "...                  ...     ...                  ...                   ...   \n",
       "62094               None    None                 None                  None   \n",
       "62095               None    None                 None                  None   \n",
       "62096               None    None                 None                  None   \n",
       "62097               None    None                 None                  None   \n",
       "62098               None    None                 None                  None   \n",
       "\n",
       "      cng_total_storage cng_vehicle_class cng_has_rng e85_blender_pump  \\\n",
       "0                  None              None        None             None   \n",
       "1                  None              None        None             None   \n",
       "2                  None              None        None             None   \n",
       "3                  None              None        None             None   \n",
       "4                  None              None        None             None   \n",
       "...                 ...               ...         ...              ...   \n",
       "62094              None              None        None             None   \n",
       "62095              None              None        None             None   \n",
       "62096              None              None        None             None   \n",
       "62097              None              None        None             None   \n",
       "62098              None              None        None             None   \n",
       "\n",
       "      e85_other_ethanol_blends            ev_connector_types  ev_dc_fast_num  \\\n",
       "0                         None  [CHADEMO, J1772, J1772COMBO]             3.0   \n",
       "1                         None                       [J1772]             NaN   \n",
       "2                         None                       [J1772]             NaN   \n",
       "3                         None  [CHADEMO, J1772, J1772COMBO]             2.0   \n",
       "4                         None  [CHADEMO, J1772, J1772COMBO]             1.0   \n",
       "...                        ...                           ...             ...   \n",
       "62094                     None                     [CHADEMO]             1.0   \n",
       "62095                     None                       [J1772]             NaN   \n",
       "62096                     None         [CHADEMO, J1772COMBO]             4.0   \n",
       "62097                     None                       [J1772]             NaN   \n",
       "62098                     None                       [J1772]             NaN   \n",
       "\n",
       "       ev_level1_evse_num  ev_level2_evse_num      ev_network  \\\n",
       "0                     NaN                39.0   Non-Networked   \n",
       "1                     NaN                 4.0   Non-Networked   \n",
       "2                     NaN                 7.0   Non-Networked   \n",
       "3                     NaN               311.0   Non-Networked   \n",
       "4                     NaN                19.0   Non-Networked   \n",
       "...                   ...                 ...             ...   \n",
       "62094                 NaN                 NaN  SHELL_RECHARGE   \n",
       "62095                 NaN                 2.0      EV Connect   \n",
       "62096                 NaN                 NaN      EV Connect   \n",
       "62097                 NaN                 1.0             FLO   \n",
       "62098                 NaN                 1.0             FLO   \n",
       "\n",
       "                                  ev_network_web ev_other_evse  \\\n",
       "0                                           None          None   \n",
       "1                                           None          None   \n",
       "2                                           None          None   \n",
       "3                                           None          None   \n",
       "4                                           None          None   \n",
       "...                                          ...           ...   \n",
       "62094  https://shellrecharge.com/en-us/solutions          None   \n",
       "62095                      http://evconnect.com/          None   \n",
       "62096                      http://evconnect.com/          None   \n",
       "62097                            https://flo.ca/          None   \n",
       "62098                            https://flo.ca/          None   \n",
       "\n",
       "              ev_pricing ev_renewable_source hy_is_retail hy_pressures  \\\n",
       "0                   None                None         None         None   \n",
       "1                   Free                None         None         None   \n",
       "2      Free; parking fee                None         None         None   \n",
       "3                   None                None         None         None   \n",
       "4                   None                None         None         None   \n",
       "...                  ...                 ...          ...          ...   \n",
       "62094               None                None         None         None   \n",
       "62095               None                None         None         None   \n",
       "62096               None                None         None         None   \n",
       "62097               None                None         None         None   \n",
       "62098               None                None         None         None   \n",
       "\n",
       "      hy_standards hy_status_link lng_renewable_source lng_vehicle_class  \\\n",
       "0             None           None                 None              None   \n",
       "1             None           None                 None              None   \n",
       "2             None           None                 None              None   \n",
       "3             None           None                 None              None   \n",
       "4             None           None                 None              None   \n",
       "...            ...            ...                  ...               ...   \n",
       "62094         None           None                 None              None   \n",
       "62095         None           None                 None              None   \n",
       "62096         None           None                 None              None   \n",
       "62097         None           None                 None              None   \n",
       "62098         None           None                 None              None   \n",
       "\n",
       "      lng_has_rng lpg_primary lpg_nozzle_types ng_fill_type_code ng_psi  \\\n",
       "0            None        None             None              None   None   \n",
       "1            None        None             None              None   None   \n",
       "2            None        None             None              None   None   \n",
       "3            None        None             None              None   None   \n",
       "4            None        None             None              None   None   \n",
       "...           ...         ...              ...               ...    ...   \n",
       "62094        None        None             None              None   None   \n",
       "62095        None        None             None              None   None   \n",
       "62096        None        None             None              None   None   \n",
       "62097        None        None             None              None   None   \n",
       "62098        None        None             None              None   None   \n",
       "\n",
       "      ng_vehicle_class rd_blends rd_blends_fr rd_blended_with_biodiesel  \\\n",
       "0                 None      None         None                      None   \n",
       "1                 None      None         None                      None   \n",
       "2                 None      None         None                      None   \n",
       "3                 None      None         None                      None   \n",
       "4                 None      None         None                      None   \n",
       "...                ...       ...          ...                       ...   \n",
       "62094             None      None         None                      None   \n",
       "62095             None      None         None                      None   \n",
       "62096             None      None         None                      None   \n",
       "62097             None      None         None                      None   \n",
       "62098             None      None         None                      None   \n",
       "\n",
       "      rd_max_biodiesel_level nps_unit_name access_days_time_fr  \\\n",
       "0                       None          None                None   \n",
       "1                       None          None                None   \n",
       "2                       None          None                None   \n",
       "3                       None          None                None   \n",
       "4                       None          None                None   \n",
       "...                      ...           ...                 ...   \n",
       "62094                   None          None                None   \n",
       "62095                   None          None                None   \n",
       "62096                   None          None                None   \n",
       "62097                   None          None                None   \n",
       "62098                   None          None                None   \n",
       "\n",
       "      intersection_directions_fr bd_blends_fr groups_with_access_code_fr  \\\n",
       "0                           None         None                      Privé   \n",
       "1                           None         None                      Privé   \n",
       "2                           None         None                     Public   \n",
       "3                           None         None                      Privé   \n",
       "4                           None         None                      Privé   \n",
       "...                          ...          ...                        ...   \n",
       "62094                       None         None                     Public   \n",
       "62095                       None         None                     Public   \n",
       "62096                       None         None                     Public   \n",
       "62097                       None         None                     Public   \n",
       "62098                       None         None                     Public   \n",
       "\n",
       "      ev_pricing_fr                  ev_network_ids.station  \\\n",
       "0              None                                     NaN   \n",
       "1              None                                     NaN   \n",
       "2              None                                     NaN   \n",
       "3              None                                     NaN   \n",
       "4              None                                     NaN   \n",
       "...             ...                                     ...   \n",
       "62094          None                                  [4369]   \n",
       "62095          None  [7936a78a-7596-47fe-855d-0a4cb93921be]   \n",
       "62096          None  [ffe7df31-ac0b-4d9c-a37d-4979e50d72ec]   \n",
       "62097          None                                     NaN   \n",
       "62098          None                                     NaN   \n",
       "\n",
       "                                    ev_network_ids.posts  federal_agency.id  \\\n",
       "0                                                    NaN                NaN   \n",
       "1                                                    NaN                NaN   \n",
       "2                                                    NaN                NaN   \n",
       "3                                                    NaN                NaN   \n",
       "4                                                    NaN                NaN   \n",
       "...                                                  ...                ...   \n",
       "62094                                            [33577]                NaN   \n",
       "62095  [646518da768fbc7bbcf8f964, 64651b138e78fb21517...                NaN   \n",
       "62096  [640ce28af7077e5a585c0ca6, 640ce28af7077e5a585...                NaN   \n",
       "62097                                        [AUI-10359]                NaN   \n",
       "62098                                        [AAB-21978]                NaN   \n",
       "\n",
       "      federal_agency.code federal_agency.name  \n",
       "0                     NaN                 NaN  \n",
       "1                     NaN                 NaN  \n",
       "2                     NaN                 NaN  \n",
       "3                     NaN                 NaN  \n",
       "4                     NaN                 NaN  \n",
       "...                   ...                 ...  \n",
       "62094                 NaN                 NaN  \n",
       "62095                 NaN                 NaN  \n",
       "62096                 NaN                 NaN  \n",
       "62097                 NaN                 NaN  \n",
       "62098                 NaN                 NaN  \n",
       "\n",
       "[62099 rows x 75 columns]"
      ]
     },
     "execution_count": 17,
     "metadata": {},
     "output_type": "execute_result"
    }
   ],
   "source": [
    "df = pd.json_normalize(response.json()['fuel_stations'])\n",
    "df"
   ]
  },
  {
   "cell_type": "code",
   "execution_count": 19,
   "id": "9105fc6e",
   "metadata": {},
   "outputs": [],
   "source": [
    "df.to_csv('Charging_station_by_county.csv')"
   ]
  },
  {
   "cell_type": "markdown",
   "id": "e4be2ad3",
   "metadata": {},
   "source": [
    "pinging API to see FIPS code"
   ]
  },
  {
   "cell_type": "code",
   "execution_count": 42,
   "id": "00c717d4",
   "metadata": {},
   "outputs": [
    {
     "name": "stderr",
     "output_type": "stream",
     "text": [
      "C:\\Users\\zapate\\Anaconda3\\lib\\site-packages\\IPython\\core\\interactiveshell.py:3457: DtypeWarning: Columns (27,46,65,74,75) have mixed types.Specify dtype option on import or set low_memory=False.\n",
      "  exec(code_obj, self.user_global_ns, self.user_ns)\n"
     ]
    }
   ],
   "source": [
    "df = pd.read_csv('Charging_station_by_county.csv')"
   ]
  },
  {
   "cell_type": "code",
   "execution_count": 43,
   "id": "cffac209",
   "metadata": {},
   "outputs": [
    {
     "data": {
      "text/html": [
       "<div>\n",
       "<style scoped>\n",
       "    .dataframe tbody tr th:only-of-type {\n",
       "        vertical-align: middle;\n",
       "    }\n",
       "\n",
       "    .dataframe tbody tr th {\n",
       "        vertical-align: top;\n",
       "    }\n",
       "\n",
       "    .dataframe thead th {\n",
       "        text-align: right;\n",
       "    }\n",
       "</style>\n",
       "<table border=\"1\" class=\"dataframe\">\n",
       "  <thead>\n",
       "    <tr style=\"text-align: right;\">\n",
       "      <th></th>\n",
       "      <th>open_date</th>\n",
       "      <th>latitude</th>\n",
       "      <th>longitude</th>\n",
       "      <th>state</th>\n",
       "      <th>ev_network</th>\n",
       "      <th>status_code</th>\n",
       "    </tr>\n",
       "  </thead>\n",
       "  <tbody>\n",
       "    <tr>\n",
       "      <th>0</th>\n",
       "      <td>1999-10-15</td>\n",
       "      <td>34.248319</td>\n",
       "      <td>-118.387971</td>\n",
       "      <td>CA</td>\n",
       "      <td>Non-Networked</td>\n",
       "      <td>E</td>\n",
       "    </tr>\n",
       "    <tr>\n",
       "      <th>1</th>\n",
       "      <td>2020-02-28</td>\n",
       "      <td>34.052542</td>\n",
       "      <td>-118.448504</td>\n",
       "      <td>CA</td>\n",
       "      <td>Non-Networked</td>\n",
       "      <td>E</td>\n",
       "    </tr>\n",
       "    <tr>\n",
       "      <th>2</th>\n",
       "      <td>1995-08-30</td>\n",
       "      <td>34.040539</td>\n",
       "      <td>-118.271387</td>\n",
       "      <td>CA</td>\n",
       "      <td>Non-Networked</td>\n",
       "      <td>E</td>\n",
       "    </tr>\n",
       "    <tr>\n",
       "      <th>3</th>\n",
       "      <td>1999-10-15</td>\n",
       "      <td>34.059133</td>\n",
       "      <td>-118.248589</td>\n",
       "      <td>CA</td>\n",
       "      <td>Non-Networked</td>\n",
       "      <td>E</td>\n",
       "    </tr>\n",
       "    <tr>\n",
       "      <th>4</th>\n",
       "      <td>2018-05-01</td>\n",
       "      <td>33.759802</td>\n",
       "      <td>-118.096665</td>\n",
       "      <td>CA</td>\n",
       "      <td>Non-Networked</td>\n",
       "      <td>E</td>\n",
       "    </tr>\n",
       "    <tr>\n",
       "      <th>...</th>\n",
       "      <td>...</td>\n",
       "      <td>...</td>\n",
       "      <td>...</td>\n",
       "      <td>...</td>\n",
       "      <td>...</td>\n",
       "      <td>...</td>\n",
       "    </tr>\n",
       "    <tr>\n",
       "      <th>62094</th>\n",
       "      <td>2023-07-20</td>\n",
       "      <td>47.044688</td>\n",
       "      <td>-122.906556</td>\n",
       "      <td>WA</td>\n",
       "      <td>SHELL_RECHARGE</td>\n",
       "      <td>E</td>\n",
       "    </tr>\n",
       "    <tr>\n",
       "      <th>62095</th>\n",
       "      <td>2023-07-20</td>\n",
       "      <td>37.675809</td>\n",
       "      <td>-97.393545</td>\n",
       "      <td>KS</td>\n",
       "      <td>EV Connect</td>\n",
       "      <td>E</td>\n",
       "    </tr>\n",
       "    <tr>\n",
       "      <th>62096</th>\n",
       "      <td>2023-07-20</td>\n",
       "      <td>39.627990</td>\n",
       "      <td>-78.018151</td>\n",
       "      <td>MD</td>\n",
       "      <td>EV Connect</td>\n",
       "      <td>E</td>\n",
       "    </tr>\n",
       "    <tr>\n",
       "      <th>62097</th>\n",
       "      <td>2023-07-20</td>\n",
       "      <td>34.200030</td>\n",
       "      <td>-118.614542</td>\n",
       "      <td>CA</td>\n",
       "      <td>FLO</td>\n",
       "      <td>E</td>\n",
       "    </tr>\n",
       "    <tr>\n",
       "      <th>62098</th>\n",
       "      <td>2023-07-20</td>\n",
       "      <td>49.171107</td>\n",
       "      <td>-121.964668</td>\n",
       "      <td>BC</td>\n",
       "      <td>FLO</td>\n",
       "      <td>E</td>\n",
       "    </tr>\n",
       "  </tbody>\n",
       "</table>\n",
       "<p>62099 rows × 6 columns</p>\n",
       "</div>"
      ],
      "text/plain": [
       "        open_date   latitude   longitude state      ev_network status_code\n",
       "0      1999-10-15  34.248319 -118.387971    CA   Non-Networked           E\n",
       "1      2020-02-28  34.052542 -118.448504    CA   Non-Networked           E\n",
       "2      1995-08-30  34.040539 -118.271387    CA   Non-Networked           E\n",
       "3      1999-10-15  34.059133 -118.248589    CA   Non-Networked           E\n",
       "4      2018-05-01  33.759802 -118.096665    CA   Non-Networked           E\n",
       "...           ...        ...         ...   ...             ...         ...\n",
       "62094  2023-07-20  47.044688 -122.906556    WA  SHELL_RECHARGE           E\n",
       "62095  2023-07-20  37.675809  -97.393545    KS      EV Connect           E\n",
       "62096  2023-07-20  39.627990  -78.018151    MD      EV Connect           E\n",
       "62097  2023-07-20  34.200030 -118.614542    CA             FLO           E\n",
       "62098  2023-07-20  49.171107 -121.964668    BC             FLO           E\n",
       "\n",
       "[62099 rows x 6 columns]"
      ]
     },
     "execution_count": 43,
     "metadata": {},
     "output_type": "execute_result"
    }
   ],
   "source": [
    "df1 = df[['open_date', 'latitude', 'longitude', 'state', 'ev_network', 'status_code']]\n",
    "df1"
   ]
  },
  {
   "cell_type": "code",
   "execution_count": 26,
   "id": "f2ea7415",
   "metadata": {},
   "outputs": [
    {
     "data": {
      "text/plain": [
       "34.2483191527193"
      ]
     },
     "execution_count": 26,
     "metadata": {},
     "output_type": "execute_result"
    }
   ],
   "source": [
    "df1.iloc[1-1][['latitude', 'longitude']][0]"
   ]
  },
  {
   "cell_type": "code",
   "execution_count": 27,
   "id": "dd50cb47",
   "metadata": {},
   "outputs": [
    {
     "name": "stderr",
     "output_type": "stream",
     "text": [
      "  2%|▏         | 1001/62099 [03:47<3:16:20,  5.19it/s]"
     ]
    },
    {
     "name": "stdout",
     "output_type": "stream",
     "text": [
      "1000\n"
     ]
    },
    {
     "name": "stderr",
     "output_type": "stream",
     "text": [
      "  3%|▎         | 2001/62099 [07:27<2:53:37,  5.77it/s]"
     ]
    },
    {
     "name": "stdout",
     "output_type": "stream",
     "text": [
      "2000\n"
     ]
    },
    {
     "name": "stderr",
     "output_type": "stream",
     "text": [
      "  5%|▍         | 3001/62099 [11:18<2:52:01,  5.73it/s]"
     ]
    },
    {
     "name": "stdout",
     "output_type": "stream",
     "text": [
      "3000\n"
     ]
    },
    {
     "name": "stderr",
     "output_type": "stream",
     "text": [
      "  6%|▋         | 4000/62099 [15:08<3:22:03,  4.79it/s]"
     ]
    },
    {
     "name": "stdout",
     "output_type": "stream",
     "text": [
      "4000\n"
     ]
    },
    {
     "name": "stderr",
     "output_type": "stream",
     "text": [
      "  8%|▊         | 5000/62099 [19:00<3:52:14,  4.10it/s]"
     ]
    },
    {
     "name": "stdout",
     "output_type": "stream",
     "text": [
      "5000\n"
     ]
    },
    {
     "name": "stderr",
     "output_type": "stream",
     "text": [
      " 10%|▉         | 6000/62099 [23:07<3:38:18,  4.28it/s] "
     ]
    },
    {
     "name": "stdout",
     "output_type": "stream",
     "text": [
      "6000\n"
     ]
    },
    {
     "name": "stderr",
     "output_type": "stream",
     "text": [
      " 11%|█▏        | 7001/62099 [27:02<3:04:39,  4.97it/s]"
     ]
    },
    {
     "name": "stdout",
     "output_type": "stream",
     "text": [
      "7000\n"
     ]
    },
    {
     "name": "stderr",
     "output_type": "stream",
     "text": [
      " 13%|█▎        | 8000/62099 [31:01<3:37:14,  4.15it/s]"
     ]
    },
    {
     "name": "stdout",
     "output_type": "stream",
     "text": [
      "8000\n"
     ]
    },
    {
     "name": "stderr",
     "output_type": "stream",
     "text": [
      " 14%|█▍        | 9001/62099 [34:48<2:48:38,  5.25it/s]"
     ]
    },
    {
     "name": "stdout",
     "output_type": "stream",
     "text": [
      "9000\n"
     ]
    },
    {
     "name": "stderr",
     "output_type": "stream",
     "text": [
      " 16%|█▌        | 10001/62099 [38:41<2:43:55,  5.30it/s]"
     ]
    },
    {
     "name": "stdout",
     "output_type": "stream",
     "text": [
      "10000\n"
     ]
    },
    {
     "name": "stderr",
     "output_type": "stream",
     "text": [
      " 18%|█▊        | 11001/62099 [42:33<2:29:48,  5.68it/s]"
     ]
    },
    {
     "name": "stdout",
     "output_type": "stream",
     "text": [
      "11000\n"
     ]
    },
    {
     "name": "stderr",
     "output_type": "stream",
     "text": [
      " 19%|█▉        | 12000/62099 [46:26<3:15:38,  4.27it/s]"
     ]
    },
    {
     "name": "stdout",
     "output_type": "stream",
     "text": [
      "12000\n"
     ]
    },
    {
     "name": "stderr",
     "output_type": "stream",
     "text": [
      " 21%|██        | 13001/62099 [50:18<2:19:41,  5.86it/s]"
     ]
    },
    {
     "name": "stdout",
     "output_type": "stream",
     "text": [
      "13000\n"
     ]
    },
    {
     "name": "stderr",
     "output_type": "stream",
     "text": [
      " 23%|██▎       | 14001/62099 [54:10<2:19:45,  5.74it/s]"
     ]
    },
    {
     "name": "stdout",
     "output_type": "stream",
     "text": [
      "14000\n"
     ]
    },
    {
     "name": "stderr",
     "output_type": "stream",
     "text": [
      " 24%|██▍       | 15001/62099 [58:03<3:20:50,  3.91it/s]"
     ]
    },
    {
     "name": "stdout",
     "output_type": "stream",
     "text": [
      "15000\n"
     ]
    },
    {
     "name": "stderr",
     "output_type": "stream",
     "text": [
      " 26%|██▌       | 16000/62099 [1:01:56<3:04:53,  4.16it/s] "
     ]
    },
    {
     "name": "stdout",
     "output_type": "stream",
     "text": [
      "16000\n"
     ]
    },
    {
     "name": "stderr",
     "output_type": "stream",
     "text": [
      " 27%|██▋       | 17001/62099 [1:05:48<2:59:23,  4.19it/s]"
     ]
    },
    {
     "name": "stdout",
     "output_type": "stream",
     "text": [
      "17000\n"
     ]
    },
    {
     "name": "stderr",
     "output_type": "stream",
     "text": [
      " 29%|██▉       | 18001/62099 [1:09:45<2:47:30,  4.39it/s]"
     ]
    },
    {
     "name": "stdout",
     "output_type": "stream",
     "text": [
      "18000\n"
     ]
    },
    {
     "name": "stderr",
     "output_type": "stream",
     "text": [
      " 31%|███       | 19000/62099 [1:13:30<2:33:01,  4.69it/s]"
     ]
    },
    {
     "name": "stdout",
     "output_type": "stream",
     "text": [
      "19000\n"
     ]
    },
    {
     "name": "stderr",
     "output_type": "stream",
     "text": [
      " 32%|███▏      | 20000/62099 [1:17:16<3:43:55,  3.13it/s]"
     ]
    },
    {
     "name": "stdout",
     "output_type": "stream",
     "text": [
      "20000\n"
     ]
    },
    {
     "name": "stderr",
     "output_type": "stream",
     "text": [
      " 34%|███▍      | 21000/62099 [1:21:39<3:05:24,  3.69it/s]"
     ]
    },
    {
     "name": "stdout",
     "output_type": "stream",
     "text": [
      "21000\n"
     ]
    },
    {
     "name": "stderr",
     "output_type": "stream",
     "text": [
      " 35%|███▌      | 22000/62099 [1:25:48<3:15:20,  3.42it/s]"
     ]
    },
    {
     "name": "stdout",
     "output_type": "stream",
     "text": [
      "22000\n"
     ]
    },
    {
     "name": "stderr",
     "output_type": "stream",
     "text": [
      " 37%|███▋      | 23000/62099 [1:29:51<2:57:18,  3.68it/s]"
     ]
    },
    {
     "name": "stdout",
     "output_type": "stream",
     "text": [
      "23000\n"
     ]
    },
    {
     "name": "stderr",
     "output_type": "stream",
     "text": [
      " 39%|███▊      | 24000/62099 [1:33:46<1:59:42,  5.30it/s] "
     ]
    },
    {
     "name": "stdout",
     "output_type": "stream",
     "text": [
      "24000\n"
     ]
    },
    {
     "name": "stderr",
     "output_type": "stream",
     "text": [
      " 40%|████      | 25001/62099 [1:37:36<2:08:48,  4.80it/s]"
     ]
    },
    {
     "name": "stdout",
     "output_type": "stream",
     "text": [
      "25000\n"
     ]
    },
    {
     "name": "stderr",
     "output_type": "stream",
     "text": [
      " 42%|████▏     | 26000/62099 [1:41:23<2:53:51,  3.46it/s]"
     ]
    },
    {
     "name": "stdout",
     "output_type": "stream",
     "text": [
      "26000\n"
     ]
    },
    {
     "name": "stderr",
     "output_type": "stream",
     "text": [
      " 43%|████▎     | 27000/62099 [1:45:08<1:43:49,  5.63it/s]"
     ]
    },
    {
     "name": "stdout",
     "output_type": "stream",
     "text": [
      "27000\n"
     ]
    },
    {
     "name": "stderr",
     "output_type": "stream",
     "text": [
      " 45%|████▌     | 28001/62099 [1:48:48<2:03:08,  4.62it/s]"
     ]
    },
    {
     "name": "stdout",
     "output_type": "stream",
     "text": [
      "28000\n"
     ]
    },
    {
     "name": "stderr",
     "output_type": "stream",
     "text": [
      " 47%|████▋     | 29001/62099 [1:52:28<1:46:19,  5.19it/s]"
     ]
    },
    {
     "name": "stdout",
     "output_type": "stream",
     "text": [
      "29000\n"
     ]
    },
    {
     "name": "stderr",
     "output_type": "stream",
     "text": [
      " 48%|████▊     | 30001/62099 [1:56:14<1:43:52,  5.15it/s]"
     ]
    },
    {
     "name": "stdout",
     "output_type": "stream",
     "text": [
      "30000\n"
     ]
    },
    {
     "name": "stderr",
     "output_type": "stream",
     "text": [
      " 50%|████▉     | 31001/62099 [2:00:01<1:46:27,  4.87it/s]"
     ]
    },
    {
     "name": "stdout",
     "output_type": "stream",
     "text": [
      "31000\n"
     ]
    },
    {
     "name": "stderr",
     "output_type": "stream",
     "text": [
      " 52%|█████▏    | 32001/62099 [2:03:45<1:33:45,  5.35it/s]"
     ]
    },
    {
     "name": "stdout",
     "output_type": "stream",
     "text": [
      "32000\n"
     ]
    },
    {
     "name": "stderr",
     "output_type": "stream",
     "text": [
      " 53%|█████▎    | 33000/62099 [2:07:24<2:15:01,  3.59it/s]"
     ]
    },
    {
     "name": "stdout",
     "output_type": "stream",
     "text": [
      "33000\n"
     ]
    },
    {
     "name": "stderr",
     "output_type": "stream",
     "text": [
      " 55%|█████▍    | 34001/62099 [2:11:18<1:44:08,  4.50it/s]"
     ]
    },
    {
     "name": "stdout",
     "output_type": "stream",
     "text": [
      "34000\n"
     ]
    },
    {
     "name": "stderr",
     "output_type": "stream",
     "text": [
      " 56%|█████▋    | 35001/62099 [2:15:04<1:31:42,  4.92it/s]"
     ]
    },
    {
     "name": "stdout",
     "output_type": "stream",
     "text": [
      "35000\n"
     ]
    },
    {
     "name": "stderr",
     "output_type": "stream",
     "text": [
      " 58%|█████▊    | 36000/62099 [2:18:47<1:37:15,  4.47it/s]"
     ]
    },
    {
     "name": "stdout",
     "output_type": "stream",
     "text": [
      "36000\n"
     ]
    },
    {
     "name": "stderr",
     "output_type": "stream",
     "text": [
      " 60%|█████▉    | 37001/62099 [2:22:36<1:25:47,  4.88it/s]"
     ]
    },
    {
     "name": "stdout",
     "output_type": "stream",
     "text": [
      "37000\n"
     ]
    },
    {
     "name": "stderr",
     "output_type": "stream",
     "text": [
      " 61%|██████    | 38000/62099 [2:26:20<1:26:15,  4.66it/s]"
     ]
    },
    {
     "name": "stdout",
     "output_type": "stream",
     "text": [
      "38000\n"
     ]
    },
    {
     "name": "stderr",
     "output_type": "stream",
     "text": [
      " 63%|██████▎   | 39000/62099 [2:30:03<1:28:29,  4.35it/s]"
     ]
    },
    {
     "name": "stdout",
     "output_type": "stream",
     "text": [
      "39000\n"
     ]
    },
    {
     "name": "stderr",
     "output_type": "stream",
     "text": [
      " 64%|██████▍   | 40001/62099 [2:33:49<1:25:32,  4.31it/s]"
     ]
    },
    {
     "name": "stdout",
     "output_type": "stream",
     "text": [
      "40000\n"
     ]
    },
    {
     "name": "stderr",
     "output_type": "stream",
     "text": [
      " 66%|██████▌   | 41001/62099 [2:37:33<1:10:33,  4.98it/s]"
     ]
    },
    {
     "name": "stdout",
     "output_type": "stream",
     "text": [
      "41000\n"
     ]
    },
    {
     "name": "stderr",
     "output_type": "stream",
     "text": [
      " 68%|██████▊   | 42001/62099 [2:41:16<56:06,  5.97it/s]  "
     ]
    },
    {
     "name": "stdout",
     "output_type": "stream",
     "text": [
      "42000\n"
     ]
    },
    {
     "name": "stderr",
     "output_type": "stream",
     "text": [
      " 69%|██████▉   | 43001/62099 [2:44:58<58:05,  5.48it/s]  "
     ]
    },
    {
     "name": "stdout",
     "output_type": "stream",
     "text": [
      "43000\n"
     ]
    },
    {
     "name": "stderr",
     "output_type": "stream",
     "text": [
      " 71%|███████   | 44001/62099 [2:48:27<52:56,  5.70it/s]  "
     ]
    },
    {
     "name": "stdout",
     "output_type": "stream",
     "text": [
      "44000\n"
     ]
    },
    {
     "name": "stderr",
     "output_type": "stream",
     "text": [
      " 72%|███████▏  | 45000/62099 [2:52:12<1:03:38,  4.48it/s]"
     ]
    },
    {
     "name": "stdout",
     "output_type": "stream",
     "text": [
      "45000\n"
     ]
    },
    {
     "name": "stderr",
     "output_type": "stream",
     "text": [
      " 74%|███████▍  | 46000/62099 [2:55:55<1:05:26,  4.10it/s]"
     ]
    },
    {
     "name": "stdout",
     "output_type": "stream",
     "text": [
      "46000\n"
     ]
    },
    {
     "name": "stderr",
     "output_type": "stream",
     "text": [
      " 76%|███████▌  | 47001/62099 [2:59:37<51:24,  4.89it/s]  "
     ]
    },
    {
     "name": "stdout",
     "output_type": "stream",
     "text": [
      "47000\n"
     ]
    },
    {
     "name": "stderr",
     "output_type": "stream",
     "text": [
      " 77%|███████▋  | 48001/62099 [3:03:19<40:39,  5.78it/s]  "
     ]
    },
    {
     "name": "stdout",
     "output_type": "stream",
     "text": [
      "48000\n"
     ]
    },
    {
     "name": "stderr",
     "output_type": "stream",
     "text": [
      " 79%|███████▉  | 49001/62099 [3:07:04<48:11,  4.53it/s]  "
     ]
    },
    {
     "name": "stdout",
     "output_type": "stream",
     "text": [
      "49000\n"
     ]
    },
    {
     "name": "stderr",
     "output_type": "stream",
     "text": [
      " 81%|████████  | 50000/62099 [3:10:55<53:14,  3.79it/s]  "
     ]
    },
    {
     "name": "stdout",
     "output_type": "stream",
     "text": [
      "50000\n"
     ]
    },
    {
     "name": "stderr",
     "output_type": "stream",
     "text": [
      " 82%|████████▏ | 51000/62099 [3:14:40<38:58,  4.75it/s]  "
     ]
    },
    {
     "name": "stdout",
     "output_type": "stream",
     "text": [
      "51000\n"
     ]
    },
    {
     "name": "stderr",
     "output_type": "stream",
     "text": [
      " 84%|████████▎ | 52000/62099 [3:18:20<37:44,  4.46it/s]  "
     ]
    },
    {
     "name": "stdout",
     "output_type": "stream",
     "text": [
      "52000\n"
     ]
    },
    {
     "name": "stderr",
     "output_type": "stream",
     "text": [
      " 85%|████████▌ | 53000/62099 [3:22:12<33:21,  4.55it/s]  "
     ]
    },
    {
     "name": "stdout",
     "output_type": "stream",
     "text": [
      "53000\n"
     ]
    },
    {
     "name": "stderr",
     "output_type": "stream",
     "text": [
      " 87%|████████▋ | 54000/62099 [3:25:48<32:46,  4.12it/s]  "
     ]
    },
    {
     "name": "stdout",
     "output_type": "stream",
     "text": [
      "54000\n"
     ]
    },
    {
     "name": "stderr",
     "output_type": "stream",
     "text": [
      " 89%|████████▊ | 55001/62099 [3:29:32<20:51,  5.67it/s]"
     ]
    },
    {
     "name": "stdout",
     "output_type": "stream",
     "text": [
      "55000\n"
     ]
    },
    {
     "name": "stderr",
     "output_type": "stream",
     "text": [
      " 90%|█████████ | 56000/62099 [3:33:16<24:19,  4.18it/s]"
     ]
    },
    {
     "name": "stdout",
     "output_type": "stream",
     "text": [
      "56000\n"
     ]
    },
    {
     "name": "stderr",
     "output_type": "stream",
     "text": [
      " 92%|█████████▏| 57000/62099 [3:37:00<17:16,  4.92it/s]"
     ]
    },
    {
     "name": "stdout",
     "output_type": "stream",
     "text": [
      "57000\n"
     ]
    },
    {
     "name": "stderr",
     "output_type": "stream",
     "text": [
      " 93%|█████████▎| 58000/62099 [3:40:47<13:52,  4.92it/s]  "
     ]
    },
    {
     "name": "stdout",
     "output_type": "stream",
     "text": [
      "58000\n"
     ]
    },
    {
     "name": "stderr",
     "output_type": "stream",
     "text": [
      " 95%|█████████▌| 59000/62099 [3:44:28<13:15,  3.89it/s]"
     ]
    },
    {
     "name": "stdout",
     "output_type": "stream",
     "text": [
      "59000\n"
     ]
    },
    {
     "name": "stderr",
     "output_type": "stream",
     "text": [
      " 97%|█████████▋| 60000/62099 [3:48:13<07:09,  4.89it/s]"
     ]
    },
    {
     "name": "stdout",
     "output_type": "stream",
     "text": [
      "60000\n"
     ]
    },
    {
     "name": "stderr",
     "output_type": "stream",
     "text": [
      " 98%|█████████▊| 61000/62099 [3:51:56<05:17,  3.47it/s]"
     ]
    },
    {
     "name": "stdout",
     "output_type": "stream",
     "text": [
      "61000\n"
     ]
    },
    {
     "name": "stderr",
     "output_type": "stream",
     "text": [
      "100%|█████████▉| 62001/62099 [3:55:42<00:18,  5.38it/s]"
     ]
    },
    {
     "name": "stdout",
     "output_type": "stream",
     "text": [
      "62000\n"
     ]
    },
    {
     "name": "stderr",
     "output_type": "stream",
     "text": [
      "100%|██████████| 62099/62099 [3:56:03<00:00,  4.38it/s]"
     ]
    },
    {
     "name": "stdout",
     "output_type": "stream",
     "text": [
      "62099\n"
     ]
    },
    {
     "name": "stderr",
     "output_type": "stream",
     "text": [
      "\n"
     ]
    },
    {
     "data": {
      "text/plain": [
       "'        \\nfips_list = []\\n\\n#first 610000\\nfor i in tqdm(1,range(len(df1) + 1)):\\n    lat = df1.iloc[i][[\\'latitude\\', \\'longitude\\']][0]\\n    long = df1.iloc[i][[\\'latitude\\', \\'longitude\\']][1]\\n    params = urllib.parse.urlencode({\\'latitude\\': lat, \\'longitude\\':long, \\'censusYear\\': 2010, \\'format\\':\\'json\\'})\\n\\n    url = \\'https://geo.fcc.gov/api/census/block/find?\\' + params\\n    response = requests.get(url)\\n\\n    data = response.json()\\n    fips_list.append(data[\\'County\\'][\\'FIPS\\'])\\n    \\n    if i%1000 == 0:\\n        path = r\\'C:/Users/zapate/Desktop/YEAR 2/Charging Stations/fips_code_2010_\\' + str(i) + \\'.csv\\'\\n        with open(path, \\'w\\') as fp:\\n            for item in fips_list:\\n                fp.write(\"%s\\n\" % item)\\n            print(i)\\n        fips_list = []\\n'"
      ]
     },
     "execution_count": 27,
     "metadata": {},
     "output_type": "execute_result"
    }
   ],
   "source": [
    "fips_list = []\n",
    "\n",
    "#fips collection\n",
    "for i in tqdm(range(1, len(df1) + 1)):\n",
    "    lat = df1.iloc[i-1][['latitude', 'longitude']][0]\n",
    "    long = df1.iloc[i-1][['latitude', 'longitude']][1]\n",
    "    params = urllib.parse.urlencode({'latitude': lat, 'longitude':long, 'censusYear': 2010, 'format':'json'})\n",
    "\n",
    "    url = 'https://geo.fcc.gov/api/census/block/find?' + params\n",
    "    response = requests.get(url)\n",
    "\n",
    "    data = response.json()\n",
    "    fips_list.append(data['County']['FIPS'])\n",
    "    \n",
    "    if i%1000 == 0 or i == len(df1):\n",
    "        path = r'C:/Users/zapate/Desktop/YEAR 2/Charging Stations/fips_code_2010_' + str(i) + '.csv'\n",
    "        with open(path, 'w') as fp:\n",
    "            for item in fips_list:\n",
    "                fp.write(\"%s\\n\" % item)\n",
    "            print(i)\n",
    "        fips_list = []\n",
    "\n",
    "'''        \n",
    "fips_list = []\n",
    "\n",
    "#first 610000\n",
    "for i in tqdm(1,range(len(df1) + 1)):\n",
    "    lat = df1.iloc[i][['latitude', 'longitude']][0]\n",
    "    long = df1.iloc[i][['latitude', 'longitude']][1]\n",
    "    params = urllib.parse.urlencode({'latitude': lat, 'longitude':long, 'censusYear': 2010, 'format':'json'})\n",
    "\n",
    "    url = 'https://geo.fcc.gov/api/census/block/find?' + params\n",
    "    response = requests.get(url)\n",
    "\n",
    "    data = response.json()\n",
    "    fips_list.append(data['County']['FIPS'])\n",
    "    \n",
    "    if i%1000 == 0:\n",
    "        path = r'C:/Users/zapate/Desktop/YEAR 2/Charging Stations/fips_code_2010_' + str(i) + '.csv'\n",
    "        with open(path, 'w') as fp:\n",
    "            for item in fips_list:\n",
    "                fp.write(\"%s\\n\" % item)\n",
    "            print(i)\n",
    "        fips_list = []\n",
    "'''"
   ]
  },
  {
   "cell_type": "code",
   "execution_count": 28,
   "id": "23229772",
   "metadata": {},
   "outputs": [
    {
     "data": {
      "text/plain": [
       "'\\nfips_list = []\\n#after 61000\\nfor i in tqdm(range(61000, len(df1))):\\n    lat = df1.iloc[i][[\\'latitude\\', \\'longitude\\']][0]\\n    long = df1.iloc[i][[\\'latitude\\', \\'longitude\\']][1]\\n    params = urllib.parse.urlencode({\\'latitude\\': lat, \\'longitude\\':long, \\'censusYear\\': 2010, \\'format\\':\\'json\\'})\\n\\n    url = \\'https://geo.fcc.gov/api/census/block/find?\\' + params\\n    response = requests.get(url)\\n\\n    data = response.json()\\n    fips_list.append(data[\\'County\\'][\\'FIPS\\'])\\n    \\npath = r\\'C:/Users/zapate/Desktop/YEAR 2/Charging Stations/fips_code_2010_\\' + str(62) + \\'.csv\\'\\nwith open(path, \\'w\\') as fp:\\n    for item in fips_list:\\n        fp.write(\"%s\\n\" % item)\\n    print(i)\\n    \\n\\nfips_list = []       \\n\\nfor i in tqdm(range(61000, len(df1))):\\n    lat = df1.iloc[i][[\\'latitude\\', \\'longitude\\']][0]\\n    long = df1.iloc[i][[\\'latitude\\', \\'longitude\\']][1]\\n    params = urllib.parse.urlencode({\\'latitude\\': lat, \\'longitude\\':long, \\'censusYear\\': 2020, \\'format\\':\\'json\\'})\\n\\n    url = \\'https://geo.fcc.gov/api/census/block/find?\\' + params\\n    response = requests.get(url)\\n\\n    data = response.json()\\n    fips_list.append(data[\\'County\\'][\\'FIPS\\'])\\n    \\npath = r\\'C:/Users/zapate/Desktop/YEAR 2/Charging Stations/fips_code_\\' + str(62) + \\'.csv\\'\\nwith open(path, \\'w\\') as fp:\\n    for item in fips_list:\\n        fp.write(\"%s\\n\" % item)\\n    print(i)\\n'"
      ]
     },
     "execution_count": 28,
     "metadata": {},
     "output_type": "execute_result"
    }
   ],
   "source": [
    "'''\n",
    "fips_list = []\n",
    "#after 61000\n",
    "for i in tqdm(range(61000, len(df1))):\n",
    "    lat = df1.iloc[i][['latitude', 'longitude']][0]\n",
    "    long = df1.iloc[i][['latitude', 'longitude']][1]\n",
    "    params = urllib.parse.urlencode({'latitude': lat, 'longitude':long, 'censusYear': 2010, 'format':'json'})\n",
    "\n",
    "    url = 'https://geo.fcc.gov/api/census/block/find?' + params\n",
    "    response = requests.get(url)\n",
    "\n",
    "    data = response.json()\n",
    "    fips_list.append(data['County']['FIPS'])\n",
    "    \n",
    "path = r'C:/Users/zapate/Desktop/YEAR 2/Charging Stations/fips_code_2010_' + str(62) + '.csv'\n",
    "with open(path, 'w') as fp:\n",
    "    for item in fips_list:\n",
    "        fp.write(\"%s\\n\" % item)\n",
    "    print(i)\n",
    "    \n",
    "\n",
    "fips_list = []       \n",
    "\n",
    "for i in tqdm(range(61000, len(df1))):\n",
    "    lat = df1.iloc[i][['latitude', 'longitude']][0]\n",
    "    long = df1.iloc[i][['latitude', 'longitude']][1]\n",
    "    params = urllib.parse.urlencode({'latitude': lat, 'longitude':long, 'censusYear': 2020, 'format':'json'})\n",
    "\n",
    "    url = 'https://geo.fcc.gov/api/census/block/find?' + params\n",
    "    response = requests.get(url)\n",
    "\n",
    "    data = response.json()\n",
    "    fips_list.append(data['County']['FIPS'])\n",
    "    \n",
    "path = r'C:/Users/zapate/Desktop/YEAR 2/Charging Stations/fips_code_' + str(62) + '.csv'\n",
    "with open(path, 'w') as fp:\n",
    "    for item in fips_list:\n",
    "        fp.write(\"%s\\n\" % item)\n",
    "    print(i)\n",
    "'''\n"
   ]
  },
  {
   "cell_type": "code",
   "execution_count": 29,
   "id": "0253599c",
   "metadata": {},
   "outputs": [
    {
     "data": {
      "text/plain": [
       "62099"
      ]
     },
     "execution_count": 29,
     "metadata": {},
     "output_type": "execute_result"
    }
   ],
   "source": [
    "len(df1)"
   ]
  },
  {
   "cell_type": "markdown",
   "id": "2c609d64",
   "metadata": {},
   "source": [
    "2020 fips codes read csv"
   ]
  },
  {
   "cell_type": "code",
   "execution_count": 44,
   "id": "f9803680",
   "metadata": {},
   "outputs": [
    {
     "name": "stderr",
     "output_type": "stream",
     "text": [
      "C:\\Users\\zapate\\AppData\\Local\\Temp\\ipykernel_44912\\3888010483.py:24: SettingWithCopyWarning: \n",
      "A value is trying to be set on a copy of a slice from a DataFrame.\n",
      "Try using .loc[row_indexer,col_indexer] = value instead\n",
      "\n",
      "See the caveats in the documentation: https://pandas.pydata.org/pandas-docs/stable/user_guide/indexing.html#returning-a-view-versus-a-copy\n",
      "  df1['FIPS_2010'] = fips_df['FIPS_2010']\n"
     ]
    }
   ],
   "source": [
    "'''\n",
    "fips_df = pd.read_csv('fips_code1000.csv', header= None)\n",
    "fips_df.columns = ['FIPS_2020']\n",
    "\n",
    "for i in range(2,63):\n",
    "    stg_df = pd.read_csv('fips_code' + str(i) + '000.csv', header = None)\n",
    "    stg_df.columns = ['FIPS_2020']\n",
    "    fips_df = pd.concat([fips_df, stg_df], ignore_index = True)\n",
    "    \n",
    "df1['FIPS_2020'] = fips_df['FIPS_2020']\n",
    "'''    \n",
    "fips_df = pd.read_csv('fips_code_2010_1000.csv', header= None)\n",
    "fips_df.columns = ['FIPS_2010']\n",
    "\n",
    "for i in range(2,63):\n",
    "    stg_df = pd.read_csv('fips_code_2010_' + str(i) + '000.csv', header = None)\n",
    "    stg_df.columns = ['FIPS_2010']\n",
    "    fips_df = pd.concat([fips_df, stg_df], ignore_index = True)\n",
    "    \n",
    "stg_df = pd.read_csv('fips_code_2010_62099.csv', header = None)\n",
    "stg_df.columns = ['FIPS_2010']\n",
    "fips_df = pd.concat([fips_df, stg_df], ignore_index = True)\n",
    "    \n",
    "df1['FIPS_2010'] = fips_df['FIPS_2010']\n",
    "  "
   ]
  },
  {
   "cell_type": "code",
   "execution_count": 45,
   "id": "13470baf",
   "metadata": {},
   "outputs": [
    {
     "data": {
      "text/html": [
       "<div>\n",
       "<style scoped>\n",
       "    .dataframe tbody tr th:only-of-type {\n",
       "        vertical-align: middle;\n",
       "    }\n",
       "\n",
       "    .dataframe tbody tr th {\n",
       "        vertical-align: top;\n",
       "    }\n",
       "\n",
       "    .dataframe thead th {\n",
       "        text-align: right;\n",
       "    }\n",
       "</style>\n",
       "<table border=\"1\" class=\"dataframe\">\n",
       "  <thead>\n",
       "    <tr style=\"text-align: right;\">\n",
       "      <th></th>\n",
       "      <th>FIPS_2010</th>\n",
       "    </tr>\n",
       "  </thead>\n",
       "  <tbody>\n",
       "    <tr>\n",
       "      <th>0</th>\n",
       "      <td>6037</td>\n",
       "    </tr>\n",
       "    <tr>\n",
       "      <th>1</th>\n",
       "      <td>6037</td>\n",
       "    </tr>\n",
       "    <tr>\n",
       "      <th>2</th>\n",
       "      <td>6037</td>\n",
       "    </tr>\n",
       "    <tr>\n",
       "      <th>3</th>\n",
       "      <td>6037</td>\n",
       "    </tr>\n",
       "    <tr>\n",
       "      <th>4</th>\n",
       "      <td>6037</td>\n",
       "    </tr>\n",
       "    <tr>\n",
       "      <th>...</th>\n",
       "      <td>...</td>\n",
       "    </tr>\n",
       "    <tr>\n",
       "      <th>62094</th>\n",
       "      <td>53067</td>\n",
       "    </tr>\n",
       "    <tr>\n",
       "      <th>62095</th>\n",
       "      <td>20173</td>\n",
       "    </tr>\n",
       "    <tr>\n",
       "      <th>62096</th>\n",
       "      <td>24043</td>\n",
       "    </tr>\n",
       "    <tr>\n",
       "      <th>62097</th>\n",
       "      <td>06037</td>\n",
       "    </tr>\n",
       "    <tr>\n",
       "      <th>62098</th>\n",
       "      <td>None</td>\n",
       "    </tr>\n",
       "  </tbody>\n",
       "</table>\n",
       "<p>62099 rows × 1 columns</p>\n",
       "</div>"
      ],
      "text/plain": [
       "      FIPS_2010\n",
       "0          6037\n",
       "1          6037\n",
       "2          6037\n",
       "3          6037\n",
       "4          6037\n",
       "...         ...\n",
       "62094     53067\n",
       "62095     20173\n",
       "62096     24043\n",
       "62097     06037\n",
       "62098      None\n",
       "\n",
       "[62099 rows x 1 columns]"
      ]
     },
     "execution_count": 45,
     "metadata": {},
     "output_type": "execute_result"
    }
   ],
   "source": [
    "fips_df"
   ]
  },
  {
   "cell_type": "code",
   "execution_count": 46,
   "id": "c474d251",
   "metadata": {},
   "outputs": [
    {
     "name": "stderr",
     "output_type": "stream",
     "text": [
      "C:\\Users\\zapate\\AppData\\Local\\Temp\\ipykernel_44912\\2683442280.py:2: SettingWithCopyWarning: \n",
      "A value is trying to be set on a copy of a slice from a DataFrame.\n",
      "Try using .loc[row_indexer,col_indexer] = value instead\n",
      "\n",
      "See the caveats in the documentation: https://pandas.pydata.org/pandas-docs/stable/user_guide/indexing.html#returning-a-view-versus-a-copy\n",
      "  df1['FIPS_2010'] = pd.to_numeric(df1['FIPS_2010'],errors = 'coerce', downcast = 'integer')\n"
     ]
    }
   ],
   "source": [
    "#df1['FIPS_2020'] = pd.to_numeric(df1['FIPS_2020'],errors = 'coerce', downcast = 'integer')\n",
    "df1['FIPS_2010'] = pd.to_numeric(df1['FIPS_2010'],errors = 'coerce', downcast = 'integer')\n"
   ]
  },
  {
   "cell_type": "code",
   "execution_count": 41,
   "id": "8cb25eed",
   "metadata": {},
   "outputs": [
    {
     "data": {
      "text/html": [
       "<div>\n",
       "<style scoped>\n",
       "    .dataframe tbody tr th:only-of-type {\n",
       "        vertical-align: middle;\n",
       "    }\n",
       "\n",
       "    .dataframe tbody tr th {\n",
       "        vertical-align: top;\n",
       "    }\n",
       "\n",
       "    .dataframe thead th {\n",
       "        text-align: right;\n",
       "    }\n",
       "</style>\n",
       "<table border=\"1\" class=\"dataframe\">\n",
       "  <thead>\n",
       "    <tr style=\"text-align: right;\">\n",
       "      <th></th>\n",
       "      <th>open_date</th>\n",
       "      <th>latitude</th>\n",
       "      <th>longitude</th>\n",
       "      <th>state</th>\n",
       "      <th>ev_network</th>\n",
       "      <th>FIPS_2010</th>\n",
       "    </tr>\n",
       "  </thead>\n",
       "  <tbody>\n",
       "    <tr>\n",
       "      <th>0</th>\n",
       "      <td>1999-10-15</td>\n",
       "      <td>34.248319</td>\n",
       "      <td>-118.387971</td>\n",
       "      <td>CA</td>\n",
       "      <td>Non-Networked</td>\n",
       "      <td>6037.0</td>\n",
       "    </tr>\n",
       "    <tr>\n",
       "      <th>1</th>\n",
       "      <td>2020-02-28</td>\n",
       "      <td>34.052542</td>\n",
       "      <td>-118.448504</td>\n",
       "      <td>CA</td>\n",
       "      <td>Non-Networked</td>\n",
       "      <td>6037.0</td>\n",
       "    </tr>\n",
       "    <tr>\n",
       "      <th>2</th>\n",
       "      <td>1995-08-30</td>\n",
       "      <td>34.040539</td>\n",
       "      <td>-118.271387</td>\n",
       "      <td>CA</td>\n",
       "      <td>Non-Networked</td>\n",
       "      <td>6037.0</td>\n",
       "    </tr>\n",
       "    <tr>\n",
       "      <th>3</th>\n",
       "      <td>1999-10-15</td>\n",
       "      <td>34.059133</td>\n",
       "      <td>-118.248589</td>\n",
       "      <td>CA</td>\n",
       "      <td>Non-Networked</td>\n",
       "      <td>6037.0</td>\n",
       "    </tr>\n",
       "    <tr>\n",
       "      <th>4</th>\n",
       "      <td>2018-05-01</td>\n",
       "      <td>33.759802</td>\n",
       "      <td>-118.096665</td>\n",
       "      <td>CA</td>\n",
       "      <td>Non-Networked</td>\n",
       "      <td>6037.0</td>\n",
       "    </tr>\n",
       "    <tr>\n",
       "      <th>...</th>\n",
       "      <td>...</td>\n",
       "      <td>...</td>\n",
       "      <td>...</td>\n",
       "      <td>...</td>\n",
       "      <td>...</td>\n",
       "      <td>...</td>\n",
       "    </tr>\n",
       "    <tr>\n",
       "      <th>62094</th>\n",
       "      <td>2023-07-20</td>\n",
       "      <td>47.044688</td>\n",
       "      <td>-122.906556</td>\n",
       "      <td>WA</td>\n",
       "      <td>SHELL_RECHARGE</td>\n",
       "      <td>53067.0</td>\n",
       "    </tr>\n",
       "    <tr>\n",
       "      <th>62095</th>\n",
       "      <td>2023-07-20</td>\n",
       "      <td>37.675809</td>\n",
       "      <td>-97.393545</td>\n",
       "      <td>KS</td>\n",
       "      <td>EV Connect</td>\n",
       "      <td>20173.0</td>\n",
       "    </tr>\n",
       "    <tr>\n",
       "      <th>62096</th>\n",
       "      <td>2023-07-20</td>\n",
       "      <td>39.627990</td>\n",
       "      <td>-78.018151</td>\n",
       "      <td>MD</td>\n",
       "      <td>EV Connect</td>\n",
       "      <td>24043.0</td>\n",
       "    </tr>\n",
       "    <tr>\n",
       "      <th>62097</th>\n",
       "      <td>2023-07-20</td>\n",
       "      <td>34.200030</td>\n",
       "      <td>-118.614542</td>\n",
       "      <td>CA</td>\n",
       "      <td>FLO</td>\n",
       "      <td>6037.0</td>\n",
       "    </tr>\n",
       "    <tr>\n",
       "      <th>62098</th>\n",
       "      <td>2023-07-20</td>\n",
       "      <td>49.171107</td>\n",
       "      <td>-121.964668</td>\n",
       "      <td>BC</td>\n",
       "      <td>FLO</td>\n",
       "      <td>NaN</td>\n",
       "    </tr>\n",
       "  </tbody>\n",
       "</table>\n",
       "<p>62099 rows × 6 columns</p>\n",
       "</div>"
      ],
      "text/plain": [
       "        open_date   latitude   longitude state      ev_network  FIPS_2010\n",
       "0      1999-10-15  34.248319 -118.387971    CA   Non-Networked     6037.0\n",
       "1      2020-02-28  34.052542 -118.448504    CA   Non-Networked     6037.0\n",
       "2      1995-08-30  34.040539 -118.271387    CA   Non-Networked     6037.0\n",
       "3      1999-10-15  34.059133 -118.248589    CA   Non-Networked     6037.0\n",
       "4      2018-05-01  33.759802 -118.096665    CA   Non-Networked     6037.0\n",
       "...           ...        ...         ...   ...             ...        ...\n",
       "62094  2023-07-20  47.044688 -122.906556    WA  SHELL_RECHARGE    53067.0\n",
       "62095  2023-07-20  37.675809  -97.393545    KS      EV Connect    20173.0\n",
       "62096  2023-07-20  39.627990  -78.018151    MD      EV Connect    24043.0\n",
       "62097  2023-07-20  34.200030 -118.614542    CA             FLO     6037.0\n",
       "62098  2023-07-20  49.171107 -121.964668    BC             FLO        NaN\n",
       "\n",
       "[62099 rows x 6 columns]"
      ]
     },
     "execution_count": 41,
     "metadata": {},
     "output_type": "execute_result"
    }
   ],
   "source": [
    "df1"
   ]
  },
  {
   "cell_type": "code",
   "execution_count": 48,
   "id": "fdef24d8",
   "metadata": {},
   "outputs": [],
   "source": [
    "df1.to_csv('Charging_station_by_county_calculations_final.csv')"
   ]
  },
  {
   "cell_type": "code",
   "execution_count": 38,
   "id": "da6aa3e8",
   "metadata": {},
   "outputs": [],
   "source": [
    "fips_df.to_csv('Final_charging_station_FIPS_Codes.csv')"
   ]
  },
  {
   "cell_type": "code",
   "execution_count": null,
   "id": "82686309",
   "metadata": {},
   "outputs": [],
   "source": []
  }
 ],
 "metadata": {
  "kernelspec": {
   "display_name": "Python 3 (ipykernel)",
   "language": "python",
   "name": "python3"
  },
  "language_info": {
   "codemirror_mode": {
    "name": "ipython",
    "version": 3
   },
   "file_extension": ".py",
   "mimetype": "text/x-python",
   "name": "python",
   "nbconvert_exporter": "python",
   "pygments_lexer": "ipython3",
   "version": "3.9.13"
  }
 },
 "nbformat": 4,
 "nbformat_minor": 5
}
