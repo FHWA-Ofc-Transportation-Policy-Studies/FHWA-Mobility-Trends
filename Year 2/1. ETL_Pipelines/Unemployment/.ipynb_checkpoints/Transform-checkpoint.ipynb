{
 "cells": [
  {
   "cell_type": "markdown",
   "id": "4fb2ac53",
   "metadata": {},
   "source": [
    "## Builds the Unemployment variable"
   ]
  },
  {
   "cell_type": "code",
   "execution_count": 1,
   "id": "d69b1e7b",
   "metadata": {},
   "outputs": [],
   "source": [
    "import pandas as pd\n",
    "import numpy as np"
   ]
  },
  {
   "cell_type": "code",
   "execution_count": 2,
   "id": "035cd1d1",
   "metadata": {},
   "outputs": [
    {
     "data": {
      "text/html": [
       "<div>\n",
       "<style scoped>\n",
       "    .dataframe tbody tr th:only-of-type {\n",
       "        vertical-align: middle;\n",
       "    }\n",
       "\n",
       "    .dataframe tbody tr th {\n",
       "        vertical-align: top;\n",
       "    }\n",
       "\n",
       "    .dataframe thead th {\n",
       "        text-align: right;\n",
       "    }\n",
       "</style>\n",
       "<table border=\"1\" class=\"dataframe\">\n",
       "  <thead>\n",
       "    <tr style=\"text-align: right;\">\n",
       "      <th></th>\n",
       "      <th>Labor Force Data by County, 2000 Annual Averages</th>\n",
       "      <th>Unnamed: 1</th>\n",
       "      <th>Unnamed: 2</th>\n",
       "      <th>Unnamed: 3</th>\n",
       "      <th>Unnamed: 4</th>\n",
       "      <th>Unnamed: 5</th>\n",
       "      <th>Unnamed: 6</th>\n",
       "      <th>Unnamed: 7</th>\n",
       "      <th>Unnamed: 8</th>\n",
       "      <th>Unnamed: 9</th>\n",
       "    </tr>\n",
       "  </thead>\n",
       "  <tbody>\n",
       "    <tr>\n",
       "      <th>0</th>\n",
       "      <td>NaN</td>\n",
       "      <td>NaN</td>\n",
       "      <td>NaN</td>\n",
       "      <td>NaN</td>\n",
       "      <td>NaN</td>\n",
       "      <td>NaN</td>\n",
       "      <td>NaN</td>\n",
       "      <td>NaN</td>\n",
       "      <td>NaN</td>\n",
       "      <td>NaN</td>\n",
       "    </tr>\n",
       "    <tr>\n",
       "      <th>1</th>\n",
       "      <td>NaN</td>\n",
       "      <td>State</td>\n",
       "      <td>County</td>\n",
       "      <td>NaN</td>\n",
       "      <td>NaN</td>\n",
       "      <td>NaN</td>\n",
       "      <td>NaN</td>\n",
       "      <td>NaN</td>\n",
       "      <td>NaN</td>\n",
       "      <td>Unemploy-</td>\n",
       "    </tr>\n",
       "    <tr>\n",
       "      <th>2</th>\n",
       "      <td>LAUS</td>\n",
       "      <td>FIPS</td>\n",
       "      <td>FIPS</td>\n",
       "      <td>NaN</td>\n",
       "      <td>NaN</td>\n",
       "      <td>NaN</td>\n",
       "      <td>Labor</td>\n",
       "      <td>NaN</td>\n",
       "      <td>NaN</td>\n",
       "      <td>ment Rate</td>\n",
       "    </tr>\n",
       "    <tr>\n",
       "      <th>3</th>\n",
       "      <td>Code</td>\n",
       "      <td>Code</td>\n",
       "      <td>Code</td>\n",
       "      <td>County Name/State Abbreviation</td>\n",
       "      <td>Year</td>\n",
       "      <td>NaN</td>\n",
       "      <td>Force</td>\n",
       "      <td>Employed</td>\n",
       "      <td>Unemployed</td>\n",
       "      <td>(%)</td>\n",
       "    </tr>\n",
       "    <tr>\n",
       "      <th>4</th>\n",
       "      <td>NaN</td>\n",
       "      <td>NaN</td>\n",
       "      <td>NaN</td>\n",
       "      <td>NaN</td>\n",
       "      <td>NaN</td>\n",
       "      <td>NaN</td>\n",
       "      <td>NaN</td>\n",
       "      <td>NaN</td>\n",
       "      <td>NaN</td>\n",
       "      <td>NaN</td>\n",
       "    </tr>\n",
       "  </tbody>\n",
       "</table>\n",
       "</div>"
      ],
      "text/plain": [
       "  Labor Force Data by County, 2000 Annual Averages Unnamed: 1 Unnamed: 2  \\\n",
       "0                                              NaN        NaN        NaN   \n",
       "1                                              NaN      State     County   \n",
       "2                                             LAUS       FIPS       FIPS   \n",
       "3                                             Code       Code       Code   \n",
       "4                                              NaN        NaN        NaN   \n",
       "\n",
       "                       Unnamed: 3 Unnamed: 4  Unnamed: 5 Unnamed: 6  \\\n",
       "0                             NaN        NaN         NaN        NaN   \n",
       "1                             NaN        NaN         NaN        NaN   \n",
       "2                             NaN        NaN         NaN      Labor   \n",
       "3  County Name/State Abbreviation       Year         NaN      Force   \n",
       "4                             NaN        NaN         NaN        NaN   \n",
       "\n",
       "  Unnamed: 7  Unnamed: 8 Unnamed: 9  \n",
       "0        NaN         NaN        NaN  \n",
       "1        NaN         NaN  Unemploy-  \n",
       "2        NaN         NaN  ment Rate  \n",
       "3   Employed  Unemployed        (%)  \n",
       "4        NaN         NaN        NaN  "
      ]
     },
     "execution_count": 2,
     "metadata": {},
     "output_type": "execute_result"
    }
   ],
   "source": [
    "df = pd.read_excel('laucnty00.xlsx')\n",
    "df.head()"
   ]
  },
  {
   "cell_type": "code",
   "execution_count": 30,
   "id": "640d1e33",
   "metadata": {},
   "outputs": [],
   "source": [
    "df1 = df.iloc[5:]\n",
    "df1.columns = ['Code', 'State_Code', 'County_Code', 'County_name', 'Year', \n",
    "               'None', 'Labor_Force' , 'Employed', 'Unemployed', 'Unemployment_Rate']\n",
    "\n",
    "for i in range(1, 22):\n",
    "    if len(str(i)) == 1:\n",
    "        year_code = '0' + str(i)\n",
    "    else:\n",
    "        year_code = str(i)\n",
    "        \n",
    "    stg_df = pd.read_excel('laucnty' + year_code + '.xlsx')\n",
    "    stg_df = stg_df.iloc[5:]\n",
    "    stg_df.columns = df1.columns\n",
    "    df1 = pd.concat([df1, stg_df], ignore_index = True)\n",
    "\n",
    "        "
   ]
  },
  {
   "cell_type": "code",
   "execution_count": 32,
   "id": "bd36aae2",
   "metadata": {},
   "outputs": [],
   "source": [
    "df1.to_csv('Final_Unemployment_County.csv')"
   ]
  },
  {
   "cell_type": "code",
   "execution_count": 34,
   "id": "bcf04ff1",
   "metadata": {},
   "outputs": [
    {
     "data": {
      "text/plain": [
       "array(['2000', nan, '2001', '2002', '2003', '2004', '2005', '2006',\n",
       "       '2007', '2008', '2009', '2010', '2011', '2012', '2013', '2014',\n",
       "       '2015', '2016', '2017', '2018', '2019', '2020', '2021'],\n",
       "      dtype=object)"
      ]
     },
     "execution_count": 34,
     "metadata": {},
     "output_type": "execute_result"
    }
   ],
   "source": [
    "df1['Year'].unique()"
   ]
  },
  {
   "cell_type": "code",
   "execution_count": null,
   "id": "38686d08",
   "metadata": {},
   "outputs": [],
   "source": []
  }
 ],
 "metadata": {
  "kernelspec": {
   "display_name": "Python 3 (ipykernel)",
   "language": "python",
   "name": "python3"
  },
  "language_info": {
   "codemirror_mode": {
    "name": "ipython",
    "version": 3
   },
   "file_extension": ".py",
   "mimetype": "text/x-python",
   "name": "python",
   "nbconvert_exporter": "python",
   "pygments_lexer": "ipython3",
   "version": "3.9.13"
  }
 },
 "nbformat": 4,
 "nbformat_minor": 5
}
