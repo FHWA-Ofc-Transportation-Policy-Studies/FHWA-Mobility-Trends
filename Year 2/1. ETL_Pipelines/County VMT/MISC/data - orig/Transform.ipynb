{
 "cells": [
  {
   "cell_type": "code",
   "execution_count": 5,
   "id": "b81dcd04",
   "metadata": {},
   "outputs": [],
   "source": [
    "import pandas as pd\n",
    "import numpy as np\n",
    "import openpyxl\n",
    "import xlrd "
   ]
  },
  {
   "cell_type": "code",
   "execution_count": 9,
   "id": "8b319048",
   "metadata": {},
   "outputs": [
    {
     "data": {
      "text/plain": [
       "<xlrd.book.Book at 0x1c1c5214130>"
      ]
     },
     "execution_count": 9,
     "metadata": {},
     "output_type": "execute_result"
    }
   ],
   "source": [
    "wb = xlrd.open_workbook(\"countyAVMT00_08.xls\")\n",
    "wb"
   ]
  },
  {
   "cell_type": "code",
   "execution_count": 10,
   "id": "ce6d4bba",
   "metadata": {},
   "outputs": [],
   "source": [
    "sh = wb.sheet_by_index(0)\n"
   ]
  },
  {
   "cell_type": "code",
   "execution_count": 11,
   "id": "6545eb87",
   "metadata": {},
   "outputs": [
    {
     "data": {
      "text/plain": [
       "Sheet  0:<2000>"
      ]
     },
     "execution_count": 11,
     "metadata": {},
     "output_type": "execute_result"
    }
   ],
   "source": [
    "sh"
   ]
  },
  {
   "cell_type": "code",
   "execution_count": null,
   "id": "ff6d527c",
   "metadata": {},
   "outputs": [],
   "source": []
  }
 ],
 "metadata": {
  "kernelspec": {
   "display_name": "Python 3 (ipykernel)",
   "language": "python",
   "name": "python3"
  },
  "language_info": {
   "codemirror_mode": {
    "name": "ipython",
    "version": 3
   },
   "file_extension": ".py",
   "mimetype": "text/x-python",
   "name": "python",
   "nbconvert_exporter": "python",
   "pygments_lexer": "ipython3",
   "version": "3.9.13"
  }
 },
 "nbformat": 4,
 "nbformat_minor": 5
}
