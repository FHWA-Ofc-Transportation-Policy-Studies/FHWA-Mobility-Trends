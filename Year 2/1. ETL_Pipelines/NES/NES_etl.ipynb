{
 "cells": [
  {
   "cell_type": "markdown",
   "id": "301bfdab",
   "metadata": {},
   "source": [
    "This script loads the Nonemployer Statistics (NES) data from 2000 - 2020 from https://www.census.gov/programs-surveys/nonemployer-statistics/data/datasets.html\n",
    "\n",
    "NES includes the number of businesses (with no paid employees) and total receipts by county and NAICS code. \n",
    "\n",
    "We are specifically interested in NAICS code 4853 for Taxi and Limousine Service (https://www.bls.gov/iag/tgs/iag485.htm)\n",
    "\n",
    "NES Documentation: https://www.census.gov/programs-surveys/nonemployer-statistics/technical-documentation/methodology.html"
   ]
  },
  {
   "cell_type": "code",
   "execution_count": 2,
   "id": "5e626963",
   "metadata": {},
   "outputs": [],
   "source": [
    "import pandas as pd\n",
    "import os\n",
    "import sys\n",
    "from datetime import datetime\n",
    "import yaml\n",
    "import time\n",
    "import requests\n",
    "import urllib\n",
    "import zipfile\n",
    "import pprint\n",
    "from tqdm import tqdm\n",
    "from glob import glob\n",
    "import numpy as np\n",
    "import matplotlib.pyplot as plt\n",
    "#from platforms.connect.snowpy import SnowPy"
   ]
  },
  {
   "cell_type": "markdown",
   "id": "10755fb8",
   "metadata": {},
   "source": [
    "Suppression is indicated by a \"D\" or \"S\" in the ESTAB_F or RCPTOT_F\n",
    "\n",
    "Establishment Flag\n",
    "\n",
    "                                  \" \" - Number of establishments shown.\n",
    "                                  \"D\" - Number of establishments \n",
    "                                        withheld to avoid disclosing \n",
    "                                        data for individual businesses; \n",
    "                                        data are included in broader \n",
    "                                        industry totals.\n",
    "                                  \"S\" - Number of establishments \n",
    "                                        withheld to avoid disclosing \n",
    "                                        data that do not meet publication \n",
    "                                        standards; data are included in \n",
    "                                        broader industry totals.\n",
    "                                        \n",
    "Receipts Flag\n",
    "\n",
    "                                \" \" - Receipts data are shown.\n",
    "                                \"D\" - Receipts data are withheld to \n",
    "                                      avoid disclosing data for \n",
    "                                      individual businesses; \n",
    "                                      data are included in broader \n",
    "                                      industry totals.\n",
    "                                \"S\" - Receipts data are withheld to \n",
    "                                      avoid disclosing data that do \n",
    "                                      not meet publication standards; \n",
    "                                      data are included in broader \n",
    "                                      industry totals."
   ]
  },
  {
   "cell_type": "markdown",
   "id": "a0a0d93d",
   "metadata": {},
   "source": [
    "### ETL "
   ]
  },
  {
   "cell_type": "code",
   "execution_count": 3,
   "id": "13aeec83",
   "metadata": {},
   "outputs": [
    {
     "name": "stdout",
     "output_type": "stream",
     "text": [
      "C:\\Users\\hrowe\\Documents\\FHWA mobility trend report\\T4 - Forecasting\\Year 2\\modeling code\\etl\\NES\n"
     ]
    }
   ],
   "source": [
    "print(os.getcwd())\n",
    "datapath = os.getcwd() + '/nes_zips/'\n",
    "#datapath = 'vol-1/NES_CPB_files/'"
   ]
  },
  {
   "cell_type": "code",
   "execution_count": 3,
   "id": "7b6f6c4d",
   "metadata": {},
   "outputs": [],
   "source": [
    "class DownloadProgressBar(tqdm):\n",
    "    def update_to(self, b=1, bsize=1, tsize=None):\n",
    "        if tsize is not None:\n",
    "            self.total = tsize\n",
    "        self.update(b * bsize - self.n)\n",
    "        \n",
    "def download_url(url, output_path):\n",
    "    with DownloadProgressBar(unit='B', unit_scale=True,\n",
    "                             miniters=1, desc=url.split('/')[-1]) as t:\n",
    "        urllib.request.urlretrieve(url, filename=output_path, reporthook=t.update_to)\n",
    "\n",
    "def try_download(url, file):\n",
    "    #makedir_if_needed(datapath)\n",
    "    try:\n",
    "        download_url(url, file)\n",
    "        print(f\"Downloaded {url} to {file}\")\n",
    "    except urllib.error.HTTPError as e:\n",
    "        print(f\"Couldn't find {url}, Exception: {e}\")\n",
    "        \n",
    "def uncompress(filepath):\n",
    "    # Uncompress if zip file\n",
    "    if filepath[-4:].lower() == '.zip':\n",
    "        zipfolder = filepath.split('/')[-1].split('.')[0]\n",
    "        print(f'                Uncompressing zip file to folder {zipfolder}')\n",
    "        with zipfile.ZipFile(filepath, 'r') as zip_ref:\n",
    "            zip_ref.extractall(datapath + zipfolder)\n",
    "            \n",
    "            \n",
    "#example url https://www2.census.gov/programs-surveys/nonemployer-statistics/datasets/2019/historical-datasets/combine19_txt.zip\n",
    "#            https://www2.census.gov/programs-surveys/nonemployer-statistics/datasets/2016/combine16_txt.zip\n",
    "#            https://www2.census.gov/programs-surveys/nonemployer-statistics/datasets/2012/historical-datasets/combine12_txt.zip\n",
    "#            https://www2.census.gov/programs-surveys/nonemployer-statistics/datasets/2020/historical-datasets/nonemp20co.zip\n"
   ]
  },
  {
   "cell_type": "code",
   "execution_count": 5,
   "id": "447a99f1",
   "metadata": {},
   "outputs": [],
   "source": [
    "def download_nes_county_files():\n",
    "    for year in range(2000,2021):\n",
    "        print(year)\n",
    "        url = 'https://www2.census.gov/programs-surveys/nonemployer-statistics/datasets/' + str(year) + '/historical-datasets/nonemp' + str(year)[2:] + 'co.zip'\n",
    "        file_name = 'NES_County_' + str(year) + '.zip'\n",
    "        download_url(url, datapath + file_name)\n",
    "        uncompress(datapath + file_name)\n",
    "        os.remove(datapath + file_name)\n",
    "    "
   ]
  },
  {
   "cell_type": "code",
   "execution_count": 6,
   "id": "bddf3197",
   "metadata": {},
   "outputs": [
    {
     "name": "stdout",
     "output_type": "stream",
     "text": [
      "2000\n"
     ]
    },
    {
     "name": "stderr",
     "output_type": "stream",
     "text": [
      "nonemp00co.zip: 2.97MB [00:01, 2.37MB/s]\n"
     ]
    },
    {
     "name": "stdout",
     "output_type": "stream",
     "text": [
      "                Uncompressing zip file to folder NES_County_2000\n",
      "2001\n"
     ]
    },
    {
     "name": "stderr",
     "output_type": "stream",
     "text": [
      "nonemp01co.zip: 2.94MB [00:01, 1.94MB/s]\n"
     ]
    },
    {
     "name": "stdout",
     "output_type": "stream",
     "text": [
      "                Uncompressing zip file to folder NES_County_2001\n",
      "2002\n"
     ]
    },
    {
     "name": "stderr",
     "output_type": "stream",
     "text": [
      "nonemp02co.zip: 2.88MB [00:00, 3.42MB/s]\n"
     ]
    },
    {
     "name": "stdout",
     "output_type": "stream",
     "text": [
      "                Uncompressing zip file to folder NES_County_2002\n",
      "2003\n"
     ]
    },
    {
     "name": "stderr",
     "output_type": "stream",
     "text": [
      "nonemp03co.zip: 2.93MB [00:01, 2.39MB/s]\n"
     ]
    },
    {
     "name": "stdout",
     "output_type": "stream",
     "text": [
      "                Uncompressing zip file to folder NES_County_2003\n",
      "2004\n"
     ]
    },
    {
     "name": "stderr",
     "output_type": "stream",
     "text": [
      "nonemp04co.zip: 3.69MB [00:01, 3.24MB/s]\n"
     ]
    },
    {
     "name": "stdout",
     "output_type": "stream",
     "text": [
      "                Uncompressing zip file to folder NES_County_2004\n",
      "2005\n"
     ]
    },
    {
     "name": "stderr",
     "output_type": "stream",
     "text": [
      "nonemp05co.zip: 4.64MB [00:01, 3.26MB/s]\n"
     ]
    },
    {
     "name": "stdout",
     "output_type": "stream",
     "text": [
      "                Uncompressing zip file to folder NES_County_2005\n",
      "2006\n"
     ]
    },
    {
     "name": "stderr",
     "output_type": "stream",
     "text": [
      "nonemp06co.zip: 4.70MB [00:01, 3.39MB/s]\n"
     ]
    },
    {
     "name": "stdout",
     "output_type": "stream",
     "text": [
      "                Uncompressing zip file to folder NES_County_2006\n",
      "2007\n"
     ]
    },
    {
     "name": "stderr",
     "output_type": "stream",
     "text": [
      "nonemp07co.zip: 4.86MB [00:01, 2.57MB/s]\n"
     ]
    },
    {
     "name": "stdout",
     "output_type": "stream",
     "text": [
      "                Uncompressing zip file to folder NES_County_2007\n",
      "2008\n"
     ]
    },
    {
     "name": "stderr",
     "output_type": "stream",
     "text": [
      "nonemp08co.zip: 4.77MB [00:02, 2.37MB/s]\n"
     ]
    },
    {
     "name": "stdout",
     "output_type": "stream",
     "text": [
      "                Uncompressing zip file to folder NES_County_2008\n",
      "2009\n"
     ]
    },
    {
     "name": "stderr",
     "output_type": "stream",
     "text": [
      "nonemp09co.zip: 4.73MB [00:01, 2.66MB/s]\n"
     ]
    },
    {
     "name": "stdout",
     "output_type": "stream",
     "text": [
      "                Uncompressing zip file to folder NES_County_2009\n",
      "2010\n"
     ]
    },
    {
     "name": "stderr",
     "output_type": "stream",
     "text": [
      "nonemp10co.zip: 4.72MB [00:01, 3.47MB/s]\n"
     ]
    },
    {
     "name": "stdout",
     "output_type": "stream",
     "text": [
      "                Uncompressing zip file to folder NES_County_2010\n",
      "2011\n"
     ]
    },
    {
     "name": "stderr",
     "output_type": "stream",
     "text": [
      "nonemp11co.zip: 4.73MB [00:01, 2.92MB/s]\n"
     ]
    },
    {
     "name": "stdout",
     "output_type": "stream",
     "text": [
      "                Uncompressing zip file to folder NES_County_2011\n",
      "2012\n"
     ]
    },
    {
     "name": "stderr",
     "output_type": "stream",
     "text": [
      "nonemp12co.zip: 4.10MB [00:01, 3.10MB/s]\n"
     ]
    },
    {
     "name": "stdout",
     "output_type": "stream",
     "text": [
      "                Uncompressing zip file to folder NES_County_2012\n",
      "2013\n"
     ]
    },
    {
     "name": "stderr",
     "output_type": "stream",
     "text": [
      "nonemp13co.zip: 4.07MB [00:01, 2.87MB/s]\n"
     ]
    },
    {
     "name": "stdout",
     "output_type": "stream",
     "text": [
      "                Uncompressing zip file to folder NES_County_2013\n",
      "2014\n"
     ]
    },
    {
     "name": "stderr",
     "output_type": "stream",
     "text": [
      "nonemp14co.zip: 4.10MB [00:01, 3.24MB/s]\n"
     ]
    },
    {
     "name": "stdout",
     "output_type": "stream",
     "text": [
      "                Uncompressing zip file to folder NES_County_2014\n",
      "2015\n"
     ]
    },
    {
     "name": "stderr",
     "output_type": "stream",
     "text": [
      "nonemp15co.zip: 4.33MB [00:01, 3.51MB/s]\n"
     ]
    },
    {
     "name": "stdout",
     "output_type": "stream",
     "text": [
      "                Uncompressing zip file to folder NES_County_2015\n",
      "2016\n"
     ]
    },
    {
     "name": "stderr",
     "output_type": "stream",
     "text": [
      "nonemp16co.zip: 4.32MB [00:01, 3.03MB/s]\n"
     ]
    },
    {
     "name": "stdout",
     "output_type": "stream",
     "text": [
      "                Uncompressing zip file to folder NES_County_2016\n",
      "2017\n"
     ]
    },
    {
     "name": "stderr",
     "output_type": "stream",
     "text": [
      "nonemp17co.zip: 4.34MB [00:01, 2.92MB/s]\n"
     ]
    },
    {
     "name": "stdout",
     "output_type": "stream",
     "text": [
      "                Uncompressing zip file to folder NES_County_2017\n",
      "2018\n"
     ]
    },
    {
     "name": "stderr",
     "output_type": "stream",
     "text": [
      "nonemp18co.zip: 3.58MB [00:02, 1.59MB/s]\n"
     ]
    },
    {
     "name": "stdout",
     "output_type": "stream",
     "text": [
      "                Uncompressing zip file to folder NES_County_2018\n",
      "2019\n"
     ]
    },
    {
     "name": "stderr",
     "output_type": "stream",
     "text": [
      "nonemp19co.zip: 3.54MB [00:01, 2.64MB/s]\n"
     ]
    },
    {
     "name": "stdout",
     "output_type": "stream",
     "text": [
      "                Uncompressing zip file to folder NES_County_2019\n",
      "2020\n"
     ]
    },
    {
     "name": "stderr",
     "output_type": "stream",
     "text": [
      "nonemp20co.zip: 3.52MB [00:01, 3.28MB/s]"
     ]
    },
    {
     "name": "stdout",
     "output_type": "stream",
     "text": [
      "                Uncompressing zip file to folder NES_County_2020\n"
     ]
    },
    {
     "name": "stderr",
     "output_type": "stream",
     "text": [
      "\n"
     ]
    }
   ],
   "source": [
    "download_nes_county_files()"
   ]
  },
  {
   "cell_type": "code",
   "execution_count": 4,
   "id": "714f9fa9",
   "metadata": {},
   "outputs": [
    {
     "data": {
      "text/plain": [
       "'C:\\\\Users\\\\hrowe\\\\Documents\\\\FHWA mobility trend report\\\\T4 - Forecasting\\\\Year 2\\\\modeling code\\\\etl\\\\NES/nes_zips/'"
      ]
     },
     "execution_count": 4,
     "metadata": {},
     "output_type": "execute_result"
    }
   ],
   "source": [
    "datapath"
   ]
  },
  {
   "cell_type": "code",
   "execution_count": 5,
   "id": "587374f2",
   "metadata": {},
   "outputs": [],
   "source": [
    "year = 2000\n",
    "df_2000_test = pd.read_csv(datapath + 'NES_County_' + str(year) + '/Nonemp' + str(year)[2:] + 'co.txt', \n",
    "                    dtype = str)"
   ]
  },
  {
   "cell_type": "code",
   "execution_count": 6,
   "id": "fddd75db",
   "metadata": {},
   "outputs": [
    {
     "data": {
      "text/html": [
       "<div>\n",
       "<style scoped>\n",
       "    .dataframe tbody tr th:only-of-type {\n",
       "        vertical-align: middle;\n",
       "    }\n",
       "\n",
       "    .dataframe tbody tr th {\n",
       "        vertical-align: top;\n",
       "    }\n",
       "\n",
       "    .dataframe thead th {\n",
       "        text-align: right;\n",
       "    }\n",
       "</style>\n",
       "<table border=\"1\" class=\"dataframe\">\n",
       "  <thead>\n",
       "    <tr style=\"text-align: right;\">\n",
       "      <th></th>\n",
       "      <th>ST</th>\n",
       "      <th>COUNTY</th>\n",
       "      <th>NAICS</th>\n",
       "      <th>ESTAB_F</th>\n",
       "      <th>ESTAB</th>\n",
       "      <th>RCPTOT_F</th>\n",
       "      <th>RCPTOT</th>\n",
       "    </tr>\n",
       "  </thead>\n",
       "  <tbody>\n",
       "    <tr>\n",
       "      <th>161</th>\n",
       "      <td>01</td>\n",
       "      <td>001</td>\n",
       "      <td>492</td>\n",
       "      <td>D</td>\n",
       "      <td>0</td>\n",
       "      <td>D</td>\n",
       "      <td>0</td>\n",
       "    </tr>\n",
       "    <tr>\n",
       "      <th>544</th>\n",
       "      <td>01</td>\n",
       "      <td>003</td>\n",
       "      <td>492</td>\n",
       "      <td>NaN</td>\n",
       "      <td>49</td>\n",
       "      <td>NaN</td>\n",
       "      <td>849</td>\n",
       "    </tr>\n",
       "    <tr>\n",
       "      <th>1168</th>\n",
       "      <td>01</td>\n",
       "      <td>007</td>\n",
       "      <td>492</td>\n",
       "      <td>D</td>\n",
       "      <td>0</td>\n",
       "      <td>D</td>\n",
       "      <td>0</td>\n",
       "    </tr>\n",
       "    <tr>\n",
       "      <th>1464</th>\n",
       "      <td>01</td>\n",
       "      <td>009</td>\n",
       "      <td>492</td>\n",
       "      <td>D</td>\n",
       "      <td>0</td>\n",
       "      <td>D</td>\n",
       "      <td>0</td>\n",
       "    </tr>\n",
       "    <tr>\n",
       "      <th>1734</th>\n",
       "      <td>01</td>\n",
       "      <td>011</td>\n",
       "      <td>492</td>\n",
       "      <td>D</td>\n",
       "      <td>0</td>\n",
       "      <td>D</td>\n",
       "      <td>0</td>\n",
       "    </tr>\n",
       "    <tr>\n",
       "      <th>...</th>\n",
       "      <td>...</td>\n",
       "      <td>...</td>\n",
       "      <td>...</td>\n",
       "      <td>...</td>\n",
       "      <td>...</td>\n",
       "      <td>...</td>\n",
       "      <td>...</td>\n",
       "    </tr>\n",
       "    <tr>\n",
       "      <th>942964</th>\n",
       "      <td>56</td>\n",
       "      <td>037</td>\n",
       "      <td>492</td>\n",
       "      <td>D</td>\n",
       "      <td>0</td>\n",
       "      <td>D</td>\n",
       "      <td>0</td>\n",
       "    </tr>\n",
       "    <tr>\n",
       "      <th>943313</th>\n",
       "      <td>56</td>\n",
       "      <td>039</td>\n",
       "      <td>492</td>\n",
       "      <td>D</td>\n",
       "      <td>0</td>\n",
       "      <td>D</td>\n",
       "      <td>0</td>\n",
       "    </tr>\n",
       "    <tr>\n",
       "      <th>943646</th>\n",
       "      <td>56</td>\n",
       "      <td>041</td>\n",
       "      <td>492</td>\n",
       "      <td>D</td>\n",
       "      <td>0</td>\n",
       "      <td>D</td>\n",
       "      <td>0</td>\n",
       "    </tr>\n",
       "    <tr>\n",
       "      <th>943911</th>\n",
       "      <td>56</td>\n",
       "      <td>043</td>\n",
       "      <td>492</td>\n",
       "      <td>D</td>\n",
       "      <td>0</td>\n",
       "      <td>D</td>\n",
       "      <td>0</td>\n",
       "    </tr>\n",
       "    <tr>\n",
       "      <th>944147</th>\n",
       "      <td>56</td>\n",
       "      <td>045</td>\n",
       "      <td>492</td>\n",
       "      <td>D</td>\n",
       "      <td>0</td>\n",
       "      <td>D</td>\n",
       "      <td>0</td>\n",
       "    </tr>\n",
       "  </tbody>\n",
       "</table>\n",
       "<p>2905 rows × 7 columns</p>\n",
       "</div>"
      ],
      "text/plain": [
       "        ST COUNTY NAICS ESTAB_F ESTAB RCPTOT_F RCPTOT\n",
       "161     01    001   492       D     0        D      0\n",
       "544     01    003   492     NaN    49      NaN    849\n",
       "1168    01    007   492       D     0        D      0\n",
       "1464    01    009   492       D     0        D      0\n",
       "1734    01    011   492       D     0        D      0\n",
       "...     ..    ...   ...     ...   ...      ...    ...\n",
       "942964  56    037   492       D     0        D      0\n",
       "943313  56    039   492       D     0        D      0\n",
       "943646  56    041   492       D     0        D      0\n",
       "943911  56    043   492       D     0        D      0\n",
       "944147  56    045   492       D     0        D      0\n",
       "\n",
       "[2905 rows x 7 columns]"
      ]
     },
     "execution_count": 6,
     "metadata": {},
     "output_type": "execute_result"
    }
   ],
   "source": [
    "df_2000_test[df_2000_test['NAICS'] == '492']"
   ]
  },
  {
   "cell_type": "code",
   "execution_count": 7,
   "id": "d010d1b4",
   "metadata": {},
   "outputs": [],
   "source": [
    "#function that takes the year and naics code a returns a df from NES\n",
    "def make_nes_df(year, naics):\n",
    "    year = year\n",
    "    df = pd.read_csv(datapath + 'NES_County_' + str(year) + '/Nonemp' + str(year)[2:] + 'co.txt', \n",
    "                    dtype = str)\n",
    "    df.columns = df.columns.str.upper()       #make sure all columns are capitalized, in 2008 - 2016 caloumns come in lowercase \n",
    "    df = df[df['NAICS'] == str(naics)]        #filter to only the naics code you want\n",
    "    df['YEAR'] = year                         #add a column for the year\n",
    "    \n",
    "    if(year < 2002):\n",
    "        #df['FULL_FIPS'] = df['ST'].astype(str) + df['COUNTY'].astype(str) \n",
    "        df = df.rename(columns = {'COUNTY' : 'CTY'})    #in 2000 and 2001 the column was named 'COUNTY', in all other years it is 'CTY'\n",
    " \n",
    "    df['FULL_FIPS'] = df['ST'].astype(str) + df['CTY'].astype(str)    #create a combined full fips column \n",
    "    return(df)\n",
    "    "
   ]
  },
  {
   "cell_type": "markdown",
   "id": "595416a0",
   "metadata": {},
   "source": [
    "### Creating df for NAICS 4853 (Taxi and Limousine Service)"
   ]
  },
  {
   "cell_type": "markdown",
   "id": "5813b017",
   "metadata": {},
   "source": [
    "Creating df for 2000 to 2020 for Taxi and Limousine Service: NAICS 4853"
   ]
  },
  {
   "cell_type": "code",
   "execution_count": 8,
   "id": "f12d08e2",
   "metadata": {},
   "outputs": [],
   "source": [
    "df_2000 = make_nes_df(2000, 4853)\n",
    "df_2001 = make_nes_df(2001, 4853)\n",
    "df_2002 = make_nes_df(2002, 4853)\n",
    "df_2003 = make_nes_df(2003, 4853)\n",
    "df_2004 = make_nes_df(2004, 4853)\n",
    "df_2005 = make_nes_df(2005, 4853)\n",
    "df_2006 = make_nes_df(2006, 4853)\n",
    "df_2007 = make_nes_df(2007, 4853)\n",
    "df_2008 = make_nes_df(2008, 4853)\n",
    "df_2009 = make_nes_df(2009, 4853)\n",
    "df_2010 = make_nes_df(2010, 4853)\n",
    "df_2011 = make_nes_df(2011, 4853)\n",
    "df_2012 = make_nes_df(2012, 4853)\n",
    "df_2013 = make_nes_df(2013, 4853)\n",
    "df_2014 = make_nes_df(2014, 4853)\n",
    "df_2015 = make_nes_df(2015, 4853)\n",
    "df_2016 = make_nes_df(2016, 4853)\n",
    "df_2017 = make_nes_df(2017, 4853)\n",
    "df_2018 = make_nes_df(2018, 4853)\n",
    "df_2019 = make_nes_df(2019, 4853)\n",
    "df_2020 = make_nes_df(2020, 4853)"
   ]
  },
  {
   "cell_type": "code",
   "execution_count": 59,
   "id": "5b67084f",
   "metadata": {},
   "outputs": [],
   "source": [
    "#year = 2010\n",
    "#df_2010 = pd.read_csv(datapath + 'NES_County_' + str(year) + '/Nonemp' + str(year)[2:] + 'co.txt', \n",
    "                    #dtype = str)"
   ]
  },
  {
   "cell_type": "code",
   "execution_count": 9,
   "id": "f83e1644",
   "metadata": {},
   "outputs": [],
   "source": [
    "pdList = [df_2000, df_2001, df_2002, df_2003, df_2004, df_2005, df_2006, df_2007, df_2008, df_2009, df_2010, df_2011, df_2012, df_2013, df_2014, df_2015, df_2016, df_2017, df_2018, df_2019, df_2020]  # List of dataframes\n",
    "df_merged = pd.concat(pdList)"
   ]
  },
  {
   "cell_type": "code",
   "execution_count": 21,
   "id": "dd9fa523",
   "metadata": {},
   "outputs": [
    {
     "data": {
      "text/plain": [
       "array(['D', nan, 'S'], dtype=object)"
      ]
     },
     "execution_count": 21,
     "metadata": {},
     "output_type": "execute_result"
    }
   ],
   "source": [
    "df_merged.ESTAB_F.unique()"
   ]
  },
  {
   "cell_type": "code",
   "execution_count": 22,
   "id": "491f73ae",
   "metadata": {},
   "outputs": [
    {
     "data": {
      "text/plain": [
       "array(['D', nan, 'S'], dtype=object)"
      ]
     },
     "execution_count": 22,
     "metadata": {},
     "output_type": "execute_result"
    }
   ],
   "source": [
    "df_merged.RCPTOT_F.unique()"
   ]
  },
  {
   "cell_type": "markdown",
   "id": "2a6b6b26",
   "metadata": {},
   "source": [
    "2852 counties with suppression for NAICS 4853 establishment counts & same for receipt totals \n",
    "\n",
    "20166 total observations of supression for both NAICS 4853 establishment counts & receipt totals "
   ]
  },
  {
   "cell_type": "code",
   "execution_count": 20,
   "id": "2ded47c9",
   "metadata": {},
   "outputs": [
    {
     "data": {
      "text/plain": [
       "2852"
      ]
     },
     "execution_count": 20,
     "metadata": {},
     "output_type": "execute_result"
    }
   ],
   "source": [
    "len(df_merged[(df_merged['ESTAB_F'] == 'D') | (df_merged['ESTAB_F'] == 'S')].FULL_FIPS.unique())"
   ]
  },
  {
   "cell_type": "code",
   "execution_count": 23,
   "id": "b6b3b83b",
   "metadata": {},
   "outputs": [
    {
     "data": {
      "text/plain": [
       "2852"
      ]
     },
     "execution_count": 23,
     "metadata": {},
     "output_type": "execute_result"
    }
   ],
   "source": [
    "len(df_merged[(df_merged['RCPTOT_F'] == 'D') | (df_merged['RCPTOT_F'] == 'S')].FULL_FIPS.unique())"
   ]
  },
  {
   "cell_type": "code",
   "execution_count": 25,
   "id": "32d6afd9",
   "metadata": {},
   "outputs": [
    {
     "data": {
      "text/plain": [
       "20166"
      ]
     },
     "execution_count": 25,
     "metadata": {},
     "output_type": "execute_result"
    }
   ],
   "source": [
    "len(df_merged[(df_merged['ESTAB_F'] == 'D') | (df_merged['ESTAB_F'] == 'S')])"
   ]
  },
  {
   "cell_type": "code",
   "execution_count": 24,
   "id": "de1d08d2",
   "metadata": {},
   "outputs": [
    {
     "data": {
      "text/plain": [
       "20166"
      ]
     },
     "execution_count": 24,
     "metadata": {},
     "output_type": "execute_result"
    }
   ],
   "source": [
    "len(df_merged[(df_merged['RCPTOT_F'] == 'D') | (df_merged['RCPTOT_F'] == 'S')])"
   ]
  },
  {
   "cell_type": "markdown",
   "id": "42866293",
   "metadata": {},
   "source": [
    "2000-2004 and 2008-2014 have the most casses of suppression"
   ]
  },
  {
   "cell_type": "code",
   "execution_count": 26,
   "id": "a26cea09",
   "metadata": {},
   "outputs": [
    {
     "data": {
      "text/plain": [
       "YEAR\n",
       "2000    1488\n",
       "2001    1525\n",
       "2002    1774\n",
       "2003    1712\n",
       "2004    1679\n",
       "2005     802\n",
       "2006     798\n",
       "2007     929\n",
       "2008    1042\n",
       "2009    1021\n",
       "2010    1033\n",
       "2011    1057\n",
       "2012    1079\n",
       "2013    1060\n",
       "2014    1037\n",
       "2015     748\n",
       "2016     678\n",
       "2017     615\n",
       "2018      29\n",
       "2019      24\n",
       "2020      36\n",
       "dtype: int64"
      ]
     },
     "execution_count": 26,
     "metadata": {},
     "output_type": "execute_result"
    }
   ],
   "source": [
    "df_merged[(df_merged['ESTAB_F'] == 'D') | (df_merged['ESTAB_F'] == 'S')].groupby('YEAR').size()"
   ]
  },
  {
   "cell_type": "code",
   "execution_count": 27,
   "id": "0a43b115",
   "metadata": {},
   "outputs": [
    {
     "data": {
      "text/plain": [
       "YEAR\n",
       "2000    1488\n",
       "2001    1525\n",
       "2002    1774\n",
       "2003    1712\n",
       "2004    1679\n",
       "2005     802\n",
       "2006     798\n",
       "2007     929\n",
       "2008    1042\n",
       "2009    1021\n",
       "2010    1033\n",
       "2011    1057\n",
       "2012    1079\n",
       "2013    1060\n",
       "2014    1037\n",
       "2015     748\n",
       "2016     678\n",
       "2017     615\n",
       "2018      29\n",
       "2019      24\n",
       "2020      36\n",
       "dtype: int64"
      ]
     },
     "execution_count": 27,
     "metadata": {},
     "output_type": "execute_result"
    }
   ],
   "source": [
    "df_merged[(df_merged['RCPTOT_F'] == 'D') | (df_merged['RCPTOT_F'] == 'S')].groupby('YEAR').size()"
   ]
  },
  {
   "cell_type": "code",
   "execution_count": 29,
   "id": "bee0436d",
   "metadata": {},
   "outputs": [],
   "source": [
    "df_merged = df_merged[['ST', 'CTY', 'FULL_FIPS', 'YEAR', 'ESTAB_F', 'ESTAB', 'RCPTOT_F', 'RCPTOT']]"
   ]
  },
  {
   "cell_type": "code",
   "execution_count": 30,
   "id": "5eaa9f2e",
   "metadata": {},
   "outputs": [
    {
     "data": {
      "text/plain": [
       "ST           object\n",
       "CTY          object\n",
       "FULL_FIPS    object\n",
       "YEAR          int64\n",
       "ESTAB_F      object\n",
       "ESTAB        object\n",
       "RCPTOT_F     object\n",
       "RCPTOT       object\n",
       "dtype: object"
      ]
     },
     "execution_count": 30,
     "metadata": {},
     "output_type": "execute_result"
    }
   ],
   "source": [
    "df_merged.dtypes"
   ]
  },
  {
   "cell_type": "code",
   "execution_count": 31,
   "id": "5885ee74",
   "metadata": {},
   "outputs": [
    {
     "name": "stderr",
     "output_type": "stream",
     "text": [
      "C:\\Users\\hrowe\\AppData\\Local\\Temp\\ipykernel_31068\\3580533791.py:2: SettingWithCopyWarning: \n",
      "A value is trying to be set on a copy of a slice from a DataFrame.\n",
      "Try using .loc[row_indexer,col_indexer] = value instead\n",
      "\n",
      "See the caveats in the documentation: https://pandas.pydata.org/pandas-docs/stable/user_guide/indexing.html#returning-a-view-versus-a-copy\n",
      "  df_merged['ESTAB'] = pd.to_numeric(df_merged['ESTAB'])\n"
     ]
    }
   ],
   "source": [
    "#convert ESTAB and RCPTOT into numerics\n",
    "df_merged['ESTAB'] = pd.to_numeric(df_merged['ESTAB'])"
   ]
  },
  {
   "cell_type": "code",
   "execution_count": 32,
   "id": "11c97849",
   "metadata": {},
   "outputs": [
    {
     "name": "stderr",
     "output_type": "stream",
     "text": [
      "C:\\Users\\hrowe\\AppData\\Local\\Temp\\ipykernel_31068\\2123430323.py:1: SettingWithCopyWarning: \n",
      "A value is trying to be set on a copy of a slice from a DataFrame.\n",
      "Try using .loc[row_indexer,col_indexer] = value instead\n",
      "\n",
      "See the caveats in the documentation: https://pandas.pydata.org/pandas-docs/stable/user_guide/indexing.html#returning-a-view-versus-a-copy\n",
      "  df_merged['RCPTOT'] = pd.to_numeric(df_merged['RCPTOT'])\n"
     ]
    }
   ],
   "source": [
    "df_merged['RCPTOT'] = pd.to_numeric(df_merged['RCPTOT'])"
   ]
  },
  {
   "cell_type": "code",
   "execution_count": 33,
   "id": "4f91f494",
   "metadata": {},
   "outputs": [
    {
     "data": {
      "text/plain": [
       "ST           object\n",
       "CTY          object\n",
       "FULL_FIPS    object\n",
       "YEAR          int64\n",
       "ESTAB_F      object\n",
       "ESTAB         int64\n",
       "RCPTOT_F     object\n",
       "RCPTOT        int64\n",
       "dtype: object"
      ]
     },
     "execution_count": 33,
     "metadata": {},
     "output_type": "execute_result"
    }
   ],
   "source": [
    "df_merged.dtypes"
   ]
  },
  {
   "cell_type": "markdown",
   "id": "14cc4654",
   "metadata": {},
   "source": [
    "Receipt totals are given in thousands, adjusting the units here"
   ]
  },
  {
   "cell_type": "code",
   "execution_count": 34,
   "id": "b78d75f6",
   "metadata": {},
   "outputs": [
    {
     "name": "stderr",
     "output_type": "stream",
     "text": [
      "C:\\Users\\hrowe\\AppData\\Local\\Temp\\ipykernel_31068\\2655850549.py:1: SettingWithCopyWarning: \n",
      "A value is trying to be set on a copy of a slice from a DataFrame.\n",
      "Try using .loc[row_indexer,col_indexer] = value instead\n",
      "\n",
      "See the caveats in the documentation: https://pandas.pydata.org/pandas-docs/stable/user_guide/indexing.html#returning-a-view-versus-a-copy\n",
      "  df_merged['RCPTOT'] = df_merged['RCPTOT'] * 1000\n"
     ]
    }
   ],
   "source": [
    "df_merged['RCPTOT'] = df_merged['RCPTOT'] * 1000"
   ]
  },
  {
   "cell_type": "markdown",
   "id": "01bc9b81",
   "metadata": {},
   "source": [
    "Seeing if there are any unexpected behaviors between zeros and suppressed data "
   ]
  },
  {
   "cell_type": "code",
   "execution_count": 36,
   "id": "25983032",
   "metadata": {},
   "outputs": [
    {
     "data": {
      "text/plain": [
       "array(['D', 'S'], dtype=object)"
      ]
     },
     "execution_count": 36,
     "metadata": {},
     "output_type": "execute_result"
    }
   ],
   "source": [
    "df_merged[df_merged['ESTAB'] == 0].ESTAB_F.unique() #expecting only D and S, no nan"
   ]
  },
  {
   "cell_type": "code",
   "execution_count": 37,
   "id": "7b5a0720",
   "metadata": {},
   "outputs": [
    {
     "data": {
      "text/plain": [
       "array([nan], dtype=object)"
      ]
     },
     "execution_count": 37,
     "metadata": {},
     "output_type": "execute_result"
    }
   ],
   "source": [
    "df_merged[df_merged['ESTAB'] > 0].ESTAB_F.unique()  #expecting only nan"
   ]
  },
  {
   "cell_type": "markdown",
   "id": "478cb4c2",
   "metadata": {},
   "source": [
    "Final df"
   ]
  },
  {
   "cell_type": "code",
   "execution_count": 35,
   "id": "44c6e7e5",
   "metadata": {},
   "outputs": [
    {
     "data": {
      "text/html": [
       "<div>\n",
       "<style scoped>\n",
       "    .dataframe tbody tr th:only-of-type {\n",
       "        vertical-align: middle;\n",
       "    }\n",
       "\n",
       "    .dataframe tbody tr th {\n",
       "        vertical-align: top;\n",
       "    }\n",
       "\n",
       "    .dataframe thead th {\n",
       "        text-align: right;\n",
       "    }\n",
       "</style>\n",
       "<table border=\"1\" class=\"dataframe\">\n",
       "  <thead>\n",
       "    <tr style=\"text-align: right;\">\n",
       "      <th></th>\n",
       "      <th>ST</th>\n",
       "      <th>CTY</th>\n",
       "      <th>FULL_FIPS</th>\n",
       "      <th>YEAR</th>\n",
       "      <th>ESTAB_F</th>\n",
       "      <th>ESTAB</th>\n",
       "      <th>RCPTOT_F</th>\n",
       "      <th>RCPTOT</th>\n",
       "    </tr>\n",
       "  </thead>\n",
       "  <tbody>\n",
       "    <tr>\n",
       "      <th>537</th>\n",
       "      <td>01</td>\n",
       "      <td>003</td>\n",
       "      <td>01003</td>\n",
       "      <td>2000</td>\n",
       "      <td>D</td>\n",
       "      <td>0</td>\n",
       "      <td>D</td>\n",
       "      <td>0</td>\n",
       "    </tr>\n",
       "    <tr>\n",
       "      <th>1460</th>\n",
       "      <td>01</td>\n",
       "      <td>009</td>\n",
       "      <td>01009</td>\n",
       "      <td>2000</td>\n",
       "      <td>D</td>\n",
       "      <td>0</td>\n",
       "      <td>D</td>\n",
       "      <td>0</td>\n",
       "    </tr>\n",
       "    <tr>\n",
       "      <th>1730</th>\n",
       "      <td>01</td>\n",
       "      <td>011</td>\n",
       "      <td>01011</td>\n",
       "      <td>2000</td>\n",
       "      <td>D</td>\n",
       "      <td>0</td>\n",
       "      <td>D</td>\n",
       "      <td>0</td>\n",
       "    </tr>\n",
       "    <tr>\n",
       "      <th>1980</th>\n",
       "      <td>01</td>\n",
       "      <td>013</td>\n",
       "      <td>01013</td>\n",
       "      <td>2000</td>\n",
       "      <td>D</td>\n",
       "      <td>0</td>\n",
       "      <td>D</td>\n",
       "      <td>0</td>\n",
       "    </tr>\n",
       "    <tr>\n",
       "      <th>2318</th>\n",
       "      <td>01</td>\n",
       "      <td>015</td>\n",
       "      <td>01015</td>\n",
       "      <td>2000</td>\n",
       "      <td>D</td>\n",
       "      <td>0</td>\n",
       "      <td>D</td>\n",
       "      <td>0</td>\n",
       "    </tr>\n",
       "    <tr>\n",
       "      <th>...</th>\n",
       "      <td>...</td>\n",
       "      <td>...</td>\n",
       "      <td>...</td>\n",
       "      <td>...</td>\n",
       "      <td>...</td>\n",
       "      <td>...</td>\n",
       "      <td>...</td>\n",
       "      <td>...</td>\n",
       "    </tr>\n",
       "    <tr>\n",
       "      <th>685203</th>\n",
       "      <td>56</td>\n",
       "      <td>033</td>\n",
       "      <td>56033</td>\n",
       "      <td>2020</td>\n",
       "      <td>NaN</td>\n",
       "      <td>5</td>\n",
       "      <td>NaN</td>\n",
       "      <td>100000</td>\n",
       "    </tr>\n",
       "    <tr>\n",
       "      <th>685440</th>\n",
       "      <td>56</td>\n",
       "      <td>035</td>\n",
       "      <td>56035</td>\n",
       "      <td>2020</td>\n",
       "      <td>NaN</td>\n",
       "      <td>5</td>\n",
       "      <td>NaN</td>\n",
       "      <td>9000</td>\n",
       "    </tr>\n",
       "    <tr>\n",
       "      <th>685645</th>\n",
       "      <td>56</td>\n",
       "      <td>037</td>\n",
       "      <td>56037</td>\n",
       "      <td>2020</td>\n",
       "      <td>NaN</td>\n",
       "      <td>16</td>\n",
       "      <td>NaN</td>\n",
       "      <td>146000</td>\n",
       "    </tr>\n",
       "    <tr>\n",
       "      <th>685886</th>\n",
       "      <td>56</td>\n",
       "      <td>039</td>\n",
       "      <td>56039</td>\n",
       "      <td>2020</td>\n",
       "      <td>NaN</td>\n",
       "      <td>108</td>\n",
       "      <td>NaN</td>\n",
       "      <td>2478000</td>\n",
       "    </tr>\n",
       "    <tr>\n",
       "      <th>686143</th>\n",
       "      <td>56</td>\n",
       "      <td>041</td>\n",
       "      <td>56041</td>\n",
       "      <td>2020</td>\n",
       "      <td>NaN</td>\n",
       "      <td>8</td>\n",
       "      <td>NaN</td>\n",
       "      <td>96000</td>\n",
       "    </tr>\n",
       "  </tbody>\n",
       "</table>\n",
       "<p>44399 rows × 8 columns</p>\n",
       "</div>"
      ],
      "text/plain": [
       "        ST  CTY FULL_FIPS  YEAR ESTAB_F  ESTAB RCPTOT_F   RCPTOT\n",
       "537     01  003     01003  2000       D      0        D        0\n",
       "1460    01  009     01009  2000       D      0        D        0\n",
       "1730    01  011     01011  2000       D      0        D        0\n",
       "1980    01  013     01013  2000       D      0        D        0\n",
       "2318    01  015     01015  2000       D      0        D        0\n",
       "...     ..  ...       ...   ...     ...    ...      ...      ...\n",
       "685203  56  033     56033  2020     NaN      5      NaN   100000\n",
       "685440  56  035     56035  2020     NaN      5      NaN     9000\n",
       "685645  56  037     56037  2020     NaN     16      NaN   146000\n",
       "685886  56  039     56039  2020     NaN    108      NaN  2478000\n",
       "686143  56  041     56041  2020     NaN      8      NaN    96000\n",
       "\n",
       "[44399 rows x 8 columns]"
      ]
     },
     "execution_count": 35,
     "metadata": {},
     "output_type": "execute_result"
    }
   ],
   "source": [
    "df_merged"
   ]
  },
  {
   "cell_type": "code",
   "execution_count": 38,
   "id": "7b6c8223",
   "metadata": {},
   "outputs": [],
   "source": [
    "df_merged.to_csv('NES_naics_4853.csv')"
   ]
  },
  {
   "cell_type": "markdown",
   "id": "aeb318c7",
   "metadata": {},
   "source": [
    "### Visualizing the Taxi NES Data"
   ]
  },
  {
   "cell_type": "code",
   "execution_count": 39,
   "id": "0295f096",
   "metadata": {},
   "outputs": [
    {
     "data": {
      "text/plain": [
       "([<matplotlib.axis.XTick at 0x1de371f9b50>,\n",
       "  <matplotlib.axis.XTick at 0x1de371f9b20>,\n",
       "  <matplotlib.axis.XTick at 0x1de371f9190>,\n",
       "  <matplotlib.axis.XTick at 0x1de3726b4c0>,\n",
       "  <matplotlib.axis.XTick at 0x1de3726bc10>,\n",
       "  <matplotlib.axis.XTick at 0x1de372763a0>,\n",
       "  <matplotlib.axis.XTick at 0x1de3726beb0>,\n",
       "  <matplotlib.axis.XTick at 0x1de37276b80>,\n",
       "  <matplotlib.axis.XTick at 0x1de3727b040>,\n",
       "  <matplotlib.axis.XTick at 0x1de3727b790>,\n",
       "  <matplotlib.axis.XTick at 0x1de3727d040>],\n",
       " [Text(0, 0, ''),\n",
       "  Text(0, 0, ''),\n",
       "  Text(0, 0, ''),\n",
       "  Text(0, 0, ''),\n",
       "  Text(0, 0, ''),\n",
       "  Text(0, 0, ''),\n",
       "  Text(0, 0, ''),\n",
       "  Text(0, 0, ''),\n",
       "  Text(0, 0, ''),\n",
       "  Text(0, 0, ''),\n",
       "  Text(0, 0, '')])"
      ]
     },
     "execution_count": 39,
     "metadata": {},
     "output_type": "execute_result"
    },
    {
     "data": {
      "image/png": "[encoded data removed]",
      "text/plain": [
       "<Figure size 640x480 with 1 Axes>"
      ]
     },
     "metadata": {},
     "output_type": "display_data"
    }
   ],
   "source": [
    "plt.plot(df_merged.groupby('YEAR').ESTAB.sum())\n",
    "plt.ylabel('Number of drivers')\n",
    "plt.title('Annual total number of \\nnonemployer taxi/limo dirvers')\n",
    "plt.xticks(range(2000,2021,2))  #find better way to set the axis to integers"
   ]
  },
  {
   "cell_type": "code",
   "execution_count": 40,
   "id": "c41f369c",
   "metadata": {},
   "outputs": [
    {
     "ename": "AttributeError",
     "evalue": "module 'matplotlib.pyplot' has no attribute 'ticker'",
     "output_type": "error",
     "traceback": [
      "\u001b[1;31m---------------------------------------------------------------------------\u001b[0m",
      "\u001b[1;31mAttributeError\u001b[0m                            Traceback (most recent call last)",
      "\u001b[1;32m~\\AppData\\Local\\Temp\\ipykernel_31068\\782934048.py\u001b[0m in \u001b[0;36m<module>\u001b[1;34m\u001b[0m\n\u001b[0;32m      3\u001b[0m \u001b[0mplt\u001b[0m\u001b[1;33m.\u001b[0m\u001b[0mtitle\u001b[0m\u001b[1;33m(\u001b[0m\u001b[1;34m'Annual total revenue of \\nonemployer taxi/limo dirvers'\u001b[0m\u001b[1;33m)\u001b[0m\u001b[1;33m\u001b[0m\u001b[1;33m\u001b[0m\u001b[0m\n\u001b[0;32m      4\u001b[0m \u001b[0mplt\u001b[0m\u001b[1;33m.\u001b[0m\u001b[0mxticks\u001b[0m\u001b[1;33m(\u001b[0m\u001b[0mrange\u001b[0m\u001b[1;33m(\u001b[0m\u001b[1;36m2000\u001b[0m\u001b[1;33m,\u001b[0m\u001b[1;36m2021\u001b[0m\u001b[1;33m,\u001b[0m\u001b[1;36m2\u001b[0m\u001b[1;33m)\u001b[0m\u001b[1;33m)\u001b[0m  \u001b[1;31m#find better way to set the axis to integers\u001b[0m\u001b[1;33m\u001b[0m\u001b[1;33m\u001b[0m\u001b[0m\n\u001b[1;32m----> 5\u001b[1;33m \u001b[0mplt\u001b[0m\u001b[1;33m.\u001b[0m\u001b[0mticker\u001b[0m\u001b[1;33m.\u001b[0m\u001b[0mStrMethodFormatter\u001b[0m\u001b[1;33m(\u001b[0m\u001b[1;34m\"${x:,g}\"\u001b[0m\u001b[1;33m)\u001b[0m\u001b[1;33m\u001b[0m\u001b[1;33m\u001b[0m\u001b[0m\n\u001b[0m",
      "\u001b[1;31mAttributeError\u001b[0m: module 'matplotlib.pyplot' has no attribute 'ticker'"
     ]
    },
    {
     "data": {
      "image/png": "[encoded data removed]",
      "text/plain": [
       "<Figure size 640x480 with 1 Axes>"
      ]
     },
     "metadata": {},
     "output_type": "display_data"
    }
   ],
   "source": [
    "plt.plot(df_merged.groupby('YEAR').RCPTOT.sum())\n",
    "plt.ylabel('Revenue (USD)')     #change untis to dollars \n",
    "plt.title('Annual total revenue of \\nonemployer taxi/limo dirvers')\n",
    "plt.xticks(range(2000,2021,2))  #find better way to set the axis to integers\n",
    "plt.ticker.StrMethodFormatter(\"${x:,g}\")"
   ]
  },
  {
   "cell_type": "code",
   "execution_count": 41,
   "id": "e57f1cc0",
   "metadata": {},
   "outputs": [
    {
     "ename": "AttributeError",
     "evalue": "'list' object has no attribute 'plt'",
     "output_type": "error",
     "traceback": [
      "\u001b[1;31m---------------------------------------------------------------------------\u001b[0m",
      "\u001b[1;31mAttributeError\u001b[0m                            Traceback (most recent call last)",
      "\u001b[1;32m~\\AppData\\Local\\Temp\\ipykernel_31068\\1056151828.py\u001b[0m in \u001b[0;36m<module>\u001b[1;34m\u001b[0m\n\u001b[0;32m      1\u001b[0m \u001b[0mfig\u001b[0m \u001b[1;33m=\u001b[0m \u001b[0mplt\u001b[0m\u001b[1;33m.\u001b[0m\u001b[0mplot\u001b[0m\u001b[1;33m(\u001b[0m\u001b[0mdf_merged\u001b[0m\u001b[1;33m.\u001b[0m\u001b[0mgroupby\u001b[0m\u001b[1;33m(\u001b[0m\u001b[1;34m'YEAR'\u001b[0m\u001b[1;33m)\u001b[0m\u001b[1;33m.\u001b[0m\u001b[0mRCPTOT\u001b[0m\u001b[1;33m.\u001b[0m\u001b[0msum\u001b[0m\u001b[1;33m(\u001b[0m\u001b[1;33m)\u001b[0m\u001b[1;33m)\u001b[0m\u001b[1;33m\u001b[0m\u001b[1;33m\u001b[0m\u001b[0m\n\u001b[1;32m----> 2\u001b[1;33m \u001b[0mfig\u001b[0m\u001b[1;33m.\u001b[0m\u001b[0mplt\u001b[0m\u001b[1;33m.\u001b[0m\u001b[0mylabel\u001b[0m\u001b[1;33m(\u001b[0m\u001b[1;34m'Revenue (USD)'\u001b[0m\u001b[1;33m)\u001b[0m     \u001b[1;31m#change untis to dollars\u001b[0m\u001b[1;33m\u001b[0m\u001b[1;33m\u001b[0m\u001b[0m\n\u001b[0m\u001b[0;32m      3\u001b[0m \u001b[1;31m#plt.title('Annual total revenue of \\nonemployer taxi/limo dirvers')\u001b[0m\u001b[1;33m\u001b[0m\u001b[1;33m\u001b[0m\u001b[0m\n\u001b[0;32m      4\u001b[0m \u001b[1;31m#plt.xticks(range(2000,2021,2))  #find better way to set the axis to integers\u001b[0m\u001b[1;33m\u001b[0m\u001b[1;33m\u001b[0m\u001b[0m\n\u001b[0;32m      5\u001b[0m \u001b[1;31m#plt.ticker.StrMethodFormatter(\"${x:,g}\")\u001b[0m\u001b[1;33m\u001b[0m\u001b[1;33m\u001b[0m\u001b[0m\n",
      "\u001b[1;31mAttributeError\u001b[0m: 'list' object has no attribute 'plt'"
     ]
    },
    {
     "data": {
      "image/png": "[encoded data removed]",
      "text/plain": [
       "<Figure size 640x480 with 1 Axes>"
      ]
     },
     "metadata": {},
     "output_type": "display_data"
    }
   ],
   "source": [
    "fig = plt.plot(df_merged.groupby('YEAR').RCPTOT.sum())\n",
    "fig.plt.ylabel('Revenue (USD)')     #change untis to dollars \n",
    "#plt.title('Annual total revenue of \\nonemployer taxi/limo dirvers')\n",
    "#plt.xticks(range(2000,2021,2))  #find better way to set the axis to integers\n",
    "#plt.ticker.StrMethodFormatter(\"${x:,g}\")"
   ]
  },
  {
   "cell_type": "markdown",
   "id": "d367ae4c",
   "metadata": {},
   "source": [
    "### NA Analysis"
   ]
  },
  {
   "cell_type": "markdown",
   "id": "85fff575",
   "metadata": {},
   "source": [
    "Looking into NA/zero values "
   ]
  },
  {
   "cell_type": "markdown",
   "id": "0da16625",
   "metadata": {},
   "source": [
    "Checking to see if all years record data from about the same number of counties. Number of counties is increasing a little but no major alarmnig year missing a ton of counties"
   ]
  },
  {
   "cell_type": "code",
   "execution_count": 115,
   "id": "8fd400ab",
   "metadata": {},
   "outputs": [
    {
     "name": "stdout",
     "output_type": "stream",
     "text": [
      "1885\n",
      "2006\n",
      "1969\n",
      "1925\n",
      "1905\n",
      "1913\n",
      "2040\n",
      "2052\n",
      "2029\n",
      "2026\n",
      "2045\n",
      "2115\n",
      "2080\n",
      "2119\n",
      "2272\n",
      "2422\n",
      "2644\n",
      "2279\n",
      "2414\n",
      "2358\n"
     ]
    }
   ],
   "source": [
    "print(len(df_2000))\n",
    "print(len(df_2002))\n",
    "print(len(df_2003))\n",
    "print(len(df_2004))\n",
    "print(len(df_2005))\n",
    "print(len(df_2006))\n",
    "print(len(df_2007))\n",
    "print(len(df_2008))\n",
    "print(len(df_2009))\n",
    "print(len(df_2010))\n",
    "print(len(df_2011))\n",
    "print(len(df_2012))\n",
    "print(len(df_2013))\n",
    "print(len(df_2014))\n",
    "print(len(df_2015))\n",
    "print(len(df_2016))\n",
    "print(len(df_2017))\n",
    "print(len(df_2018))\n",
    "print(len(df_2019))\n",
    "print(len(df_2020))\n",
    "#df_2020['FULL_FIPS'].unique()"
   ]
  },
  {
   "cell_type": "markdown",
   "id": "9b0204a0",
   "metadata": {},
   "source": [
    "Looks like years 2000 - 2004 have the most cases where # of establishments == 0, but 2008 - 2014 also have 1,000 counties without any establishments "
   ]
  },
  {
   "cell_type": "code",
   "execution_count": 95,
   "id": "0da8483b",
   "metadata": {},
   "outputs": [
    {
     "data": {
      "text/plain": [
       "YEAR\n",
       "2000    1488\n",
       "2001    1525\n",
       "2002    1774\n",
       "2003    1712\n",
       "2004    1679\n",
       "2005     802\n",
       "2006     798\n",
       "2007     929\n",
       "2008    1042\n",
       "2009    1021\n",
       "2010    1033\n",
       "2011    1057\n",
       "2012    1079\n",
       "2013    1060\n",
       "2014    1037\n",
       "2015     748\n",
       "2016     678\n",
       "2017     615\n",
       "2018      29\n",
       "2019      24\n",
       "2020      36\n",
       "dtype: int64"
      ]
     },
     "execution_count": 95,
     "metadata": {},
     "output_type": "execute_result"
    }
   ],
   "source": [
    "df_merged[df_merged['ESTAB'] == 0].groupby('YEAR').size()"
   ]
  },
  {
   "cell_type": "code",
   "execution_count": 96,
   "id": "242395dc",
   "metadata": {},
   "outputs": [
    {
     "data": {
      "text/html": [
       "<div>\n",
       "<style scoped>\n",
       "    .dataframe tbody tr th:only-of-type {\n",
       "        vertical-align: middle;\n",
       "    }\n",
       "\n",
       "    .dataframe tbody tr th {\n",
       "        vertical-align: top;\n",
       "    }\n",
       "\n",
       "    .dataframe thead th {\n",
       "        text-align: right;\n",
       "    }\n",
       "</style>\n",
       "<table border=\"1\" class=\"dataframe\">\n",
       "  <thead>\n",
       "    <tr style=\"text-align: right;\">\n",
       "      <th></th>\n",
       "      <th>ST</th>\n",
       "      <th>CTY</th>\n",
       "      <th>FULL_FIPS</th>\n",
       "      <th>YEAR</th>\n",
       "      <th>ESTAB</th>\n",
       "      <th>RCPTOT</th>\n",
       "    </tr>\n",
       "  </thead>\n",
       "  <tbody>\n",
       "  </tbody>\n",
       "</table>\n",
       "</div>"
      ],
      "text/plain": [
       "Empty DataFrame\n",
       "Columns: [ST, CTY, FULL_FIPS, YEAR, ESTAB, RCPTOT]\n",
       "Index: []"
      ]
     },
     "execution_count": 96,
     "metadata": {},
     "output_type": "execute_result"
    }
   ],
   "source": [
    "#checking that NY city counties are not coming in as zeros\n",
    "df_merged[(df_merged['ESTAB'] == 0) & (df_merged['FULL_FIPS'] == '36005')]"
   ]
  },
  {
   "cell_type": "code",
   "execution_count": 126,
   "id": "e4ec70f0",
   "metadata": {},
   "outputs": [
    {
     "data": {
      "text/html": [
       "<div>\n",
       "<style scoped>\n",
       "    .dataframe tbody tr th:only-of-type {\n",
       "        vertical-align: middle;\n",
       "    }\n",
       "\n",
       "    .dataframe tbody tr th {\n",
       "        vertical-align: top;\n",
       "    }\n",
       "\n",
       "    .dataframe thead th {\n",
       "        text-align: right;\n",
       "    }\n",
       "</style>\n",
       "<table border=\"1\" class=\"dataframe\">\n",
       "  <thead>\n",
       "    <tr style=\"text-align: right;\">\n",
       "      <th></th>\n",
       "      <th>ST</th>\n",
       "      <th>CTY</th>\n",
       "      <th>FULL_FIPS</th>\n",
       "      <th>YEAR</th>\n",
       "      <th>ESTAB</th>\n",
       "      <th>RCPTOT</th>\n",
       "    </tr>\n",
       "  </thead>\n",
       "  <tbody>\n",
       "    <tr>\n",
       "      <th>100060</th>\n",
       "      <td>11</td>\n",
       "      <td>001</td>\n",
       "      <td>11001</td>\n",
       "      <td>2000</td>\n",
       "      <td>1051</td>\n",
       "      <td>18502</td>\n",
       "    </tr>\n",
       "    <tr>\n",
       "      <th>100302</th>\n",
       "      <td>11</td>\n",
       "      <td>001</td>\n",
       "      <td>11001</td>\n",
       "      <td>2001</td>\n",
       "      <td>985</td>\n",
       "      <td>17768</td>\n",
       "    </tr>\n",
       "    <tr>\n",
       "      <th>102168</th>\n",
       "      <td>11</td>\n",
       "      <td>001</td>\n",
       "      <td>11001</td>\n",
       "      <td>2002</td>\n",
       "      <td>937</td>\n",
       "      <td>18114</td>\n",
       "    </tr>\n",
       "    <tr>\n",
       "      <th>103440</th>\n",
       "      <td>11</td>\n",
       "      <td>001</td>\n",
       "      <td>11001</td>\n",
       "      <td>2003</td>\n",
       "      <td>865</td>\n",
       "      <td>17006</td>\n",
       "    </tr>\n",
       "    <tr>\n",
       "      <th>102532</th>\n",
       "      <td>11</td>\n",
       "      <td>001</td>\n",
       "      <td>11001</td>\n",
       "      <td>2004</td>\n",
       "      <td>912</td>\n",
       "      <td>17786</td>\n",
       "    </tr>\n",
       "    <tr>\n",
       "      <th>102482</th>\n",
       "      <td>11</td>\n",
       "      <td>001</td>\n",
       "      <td>11001</td>\n",
       "      <td>2005</td>\n",
       "      <td>1019</td>\n",
       "      <td>20025</td>\n",
       "    </tr>\n",
       "    <tr>\n",
       "      <th>103329</th>\n",
       "      <td>11</td>\n",
       "      <td>001</td>\n",
       "      <td>11001</td>\n",
       "      <td>2006</td>\n",
       "      <td>1025</td>\n",
       "      <td>21743</td>\n",
       "    </tr>\n",
       "    <tr>\n",
       "      <th>104768</th>\n",
       "      <td>11</td>\n",
       "      <td>001</td>\n",
       "      <td>11001</td>\n",
       "      <td>2007</td>\n",
       "      <td>1133</td>\n",
       "      <td>22986</td>\n",
       "    </tr>\n",
       "    <tr>\n",
       "      <th>104023</th>\n",
       "      <td>11</td>\n",
       "      <td>001</td>\n",
       "      <td>11001</td>\n",
       "      <td>2008</td>\n",
       "      <td>1155</td>\n",
       "      <td>25902</td>\n",
       "    </tr>\n",
       "    <tr>\n",
       "      <th>103640</th>\n",
       "      <td>11</td>\n",
       "      <td>001</td>\n",
       "      <td>11001</td>\n",
       "      <td>2009</td>\n",
       "      <td>1170</td>\n",
       "      <td>24955</td>\n",
       "    </tr>\n",
       "    <tr>\n",
       "      <th>104008</th>\n",
       "      <td>11</td>\n",
       "      <td>001</td>\n",
       "      <td>11001</td>\n",
       "      <td>2010</td>\n",
       "      <td>1358</td>\n",
       "      <td>27322</td>\n",
       "    </tr>\n",
       "    <tr>\n",
       "      <th>103803</th>\n",
       "      <td>11</td>\n",
       "      <td>001</td>\n",
       "      <td>11001</td>\n",
       "      <td>2011</td>\n",
       "      <td>1435</td>\n",
       "      <td>30230</td>\n",
       "    </tr>\n",
       "    <tr>\n",
       "      <th>104561</th>\n",
       "      <td>11</td>\n",
       "      <td>001</td>\n",
       "      <td>11001</td>\n",
       "      <td>2012</td>\n",
       "      <td>1416</td>\n",
       "      <td>31148</td>\n",
       "    </tr>\n",
       "    <tr>\n",
       "      <th>103501</th>\n",
       "      <td>11</td>\n",
       "      <td>001</td>\n",
       "      <td>11001</td>\n",
       "      <td>2013</td>\n",
       "      <td>1613</td>\n",
       "      <td>35243</td>\n",
       "    </tr>\n",
       "    <tr>\n",
       "      <th>103772</th>\n",
       "      <td>11</td>\n",
       "      <td>001</td>\n",
       "      <td>11001</td>\n",
       "      <td>2014</td>\n",
       "      <td>2288</td>\n",
       "      <td>49855</td>\n",
       "    </tr>\n",
       "    <tr>\n",
       "      <th>103612</th>\n",
       "      <td>11</td>\n",
       "      <td>001</td>\n",
       "      <td>11001</td>\n",
       "      <td>2015</td>\n",
       "      <td>3567</td>\n",
       "      <td>60544</td>\n",
       "    </tr>\n",
       "    <tr>\n",
       "      <th>103372</th>\n",
       "      <td>11</td>\n",
       "      <td>001</td>\n",
       "      <td>11001</td>\n",
       "      <td>2016</td>\n",
       "      <td>4510</td>\n",
       "      <td>76033</td>\n",
       "    </tr>\n",
       "    <tr>\n",
       "      <th>104120</th>\n",
       "      <td>11</td>\n",
       "      <td>001</td>\n",
       "      <td>11001</td>\n",
       "      <td>2017</td>\n",
       "      <td>5219</td>\n",
       "      <td>86859</td>\n",
       "    </tr>\n",
       "    <tr>\n",
       "      <th>76602</th>\n",
       "      <td>11</td>\n",
       "      <td>001</td>\n",
       "      <td>11001</td>\n",
       "      <td>2018</td>\n",
       "      <td>5586</td>\n",
       "      <td>109658</td>\n",
       "    </tr>\n",
       "    <tr>\n",
       "      <th>76388</th>\n",
       "      <td>11</td>\n",
       "      <td>001</td>\n",
       "      <td>11001</td>\n",
       "      <td>2019</td>\n",
       "      <td>5591</td>\n",
       "      <td>122895</td>\n",
       "    </tr>\n",
       "    <tr>\n",
       "      <th>75893</th>\n",
       "      <td>11</td>\n",
       "      <td>001</td>\n",
       "      <td>11001</td>\n",
       "      <td>2020</td>\n",
       "      <td>4554</td>\n",
       "      <td>66109</td>\n",
       "    </tr>\n",
       "  </tbody>\n",
       "</table>\n",
       "</div>"
      ],
      "text/plain": [
       "        ST  CTY FULL_FIPS  YEAR  ESTAB  RCPTOT\n",
       "100060  11  001     11001  2000   1051   18502\n",
       "100302  11  001     11001  2001    985   17768\n",
       "102168  11  001     11001  2002    937   18114\n",
       "103440  11  001     11001  2003    865   17006\n",
       "102532  11  001     11001  2004    912   17786\n",
       "102482  11  001     11001  2005   1019   20025\n",
       "103329  11  001     11001  2006   1025   21743\n",
       "104768  11  001     11001  2007   1133   22986\n",
       "104023  11  001     11001  2008   1155   25902\n",
       "103640  11  001     11001  2009   1170   24955\n",
       "104008  11  001     11001  2010   1358   27322\n",
       "103803  11  001     11001  2011   1435   30230\n",
       "104561  11  001     11001  2012   1416   31148\n",
       "103501  11  001     11001  2013   1613   35243\n",
       "103772  11  001     11001  2014   2288   49855\n",
       "103612  11  001     11001  2015   3567   60544\n",
       "103372  11  001     11001  2016   4510   76033\n",
       "104120  11  001     11001  2017   5219   86859\n",
       "76602   11  001     11001  2018   5586  109658\n",
       "76388   11  001     11001  2019   5591  122895\n",
       "75893   11  001     11001  2020   4554   66109"
      ]
     },
     "execution_count": 126,
     "metadata": {},
     "output_type": "execute_result"
    }
   ],
   "source": [
    "df_merged[(df_merged['FULL_FIPS'] == '11001')]"
   ]
  },
  {
   "cell_type": "code",
   "execution_count": 97,
   "id": "78babe4b",
   "metadata": {},
   "outputs": [
    {
     "data": {
      "text/html": [
       "<div>\n",
       "<style scoped>\n",
       "    .dataframe tbody tr th:only-of-type {\n",
       "        vertical-align: middle;\n",
       "    }\n",
       "\n",
       "    .dataframe tbody tr th {\n",
       "        vertical-align: top;\n",
       "    }\n",
       "\n",
       "    .dataframe thead th {\n",
       "        text-align: right;\n",
       "    }\n",
       "</style>\n",
       "<table border=\"1\" class=\"dataframe\">\n",
       "  <thead>\n",
       "    <tr style=\"text-align: right;\">\n",
       "      <th></th>\n",
       "      <th>ST</th>\n",
       "      <th>CTY</th>\n",
       "      <th>FULL_FIPS</th>\n",
       "      <th>YEAR</th>\n",
       "      <th>ESTAB</th>\n",
       "      <th>RCPTOT</th>\n",
       "    </tr>\n",
       "  </thead>\n",
       "  <tbody>\n",
       "    <tr>\n",
       "      <th>301331</th>\n",
       "      <td>20</td>\n",
       "      <td>159</td>\n",
       "      <td>20159</td>\n",
       "      <td>2015</td>\n",
       "      <td>0</td>\n",
       "      <td>0</td>\n",
       "    </tr>\n",
       "  </tbody>\n",
       "</table>\n",
       "</div>"
      ],
      "text/plain": [
       "        ST  CTY FULL_FIPS  YEAR  ESTAB  RCPTOT\n",
       "301331  20  159     20159  2015      0       0"
      ]
     },
     "execution_count": 97,
     "metadata": {},
     "output_type": "execute_result"
    }
   ],
   "source": [
    "\n",
    "df_merged[(df_merged['ESTAB'] == 0) & (df_merged['FULL_FIPS'] == '20159')]"
   ]
  },
  {
   "cell_type": "markdown",
   "id": "3a587be0",
   "metadata": {},
   "source": [
    "Seems strange that one county would only show up in 2000 - 2004"
   ]
  },
  {
   "cell_type": "code",
   "execution_count": 101,
   "id": "0a3345a4",
   "metadata": {},
   "outputs": [
    {
     "data": {
      "text/html": [
       "<div>\n",
       "<style scoped>\n",
       "    .dataframe tbody tr th:only-of-type {\n",
       "        vertical-align: middle;\n",
       "    }\n",
       "\n",
       "    .dataframe tbody tr th {\n",
       "        vertical-align: top;\n",
       "    }\n",
       "\n",
       "    .dataframe thead th {\n",
       "        text-align: right;\n",
       "    }\n",
       "</style>\n",
       "<table border=\"1\" class=\"dataframe\">\n",
       "  <thead>\n",
       "    <tr style=\"text-align: right;\">\n",
       "      <th></th>\n",
       "      <th>ST</th>\n",
       "      <th>CTY</th>\n",
       "      <th>FULL_FIPS</th>\n",
       "      <th>YEAR</th>\n",
       "      <th>ESTAB</th>\n",
       "      <th>RCPTOT</th>\n",
       "    </tr>\n",
       "  </thead>\n",
       "  <tbody>\n",
       "    <tr>\n",
       "      <th>280887</th>\n",
       "      <td>20</td>\n",
       "      <td>081</td>\n",
       "      <td>20081</td>\n",
       "      <td>2000</td>\n",
       "      <td>0</td>\n",
       "      <td>0</td>\n",
       "    </tr>\n",
       "    <tr>\n",
       "      <th>281614</th>\n",
       "      <td>20</td>\n",
       "      <td>081</td>\n",
       "      <td>20081</td>\n",
       "      <td>2001</td>\n",
       "      <td>0</td>\n",
       "      <td>0</td>\n",
       "    </tr>\n",
       "    <tr>\n",
       "      <th>286036</th>\n",
       "      <td>20</td>\n",
       "      <td>081</td>\n",
       "      <td>20081</td>\n",
       "      <td>2002</td>\n",
       "      <td>0</td>\n",
       "      <td>0</td>\n",
       "    </tr>\n",
       "    <tr>\n",
       "      <th>287634</th>\n",
       "      <td>20</td>\n",
       "      <td>081</td>\n",
       "      <td>20081</td>\n",
       "      <td>2003</td>\n",
       "      <td>0</td>\n",
       "      <td>0</td>\n",
       "    </tr>\n",
       "    <tr>\n",
       "      <th>287220</th>\n",
       "      <td>20</td>\n",
       "      <td>081</td>\n",
       "      <td>20081</td>\n",
       "      <td>2004</td>\n",
       "      <td>0</td>\n",
       "      <td>0</td>\n",
       "    </tr>\n",
       "  </tbody>\n",
       "</table>\n",
       "</div>"
      ],
      "text/plain": [
       "        ST  CTY FULL_FIPS  YEAR  ESTAB  RCPTOT\n",
       "280887  20  081     20081  2000      0       0\n",
       "281614  20  081     20081  2001      0       0\n",
       "286036  20  081     20081  2002      0       0\n",
       "287634  20  081     20081  2003      0       0\n",
       "287220  20  081     20081  2004      0       0"
      ]
     },
     "execution_count": 101,
     "metadata": {},
     "output_type": "execute_result"
    }
   ],
   "source": [
    "df_merged[(df_merged['FULL_FIPS'] == '20081')]"
   ]
  },
  {
   "cell_type": "code",
   "execution_count": 116,
   "id": "c2d595d7",
   "metadata": {},
   "outputs": [
    {
     "data": {
      "text/html": [
       "<div>\n",
       "<style scoped>\n",
       "    .dataframe tbody tr th:only-of-type {\n",
       "        vertical-align: middle;\n",
       "    }\n",
       "\n",
       "    .dataframe tbody tr th {\n",
       "        vertical-align: top;\n",
       "    }\n",
       "\n",
       "    .dataframe thead th {\n",
       "        text-align: right;\n",
       "    }\n",
       "</style>\n",
       "<table border=\"1\" class=\"dataframe\">\n",
       "  <thead>\n",
       "    <tr style=\"text-align: right;\">\n",
       "      <th></th>\n",
       "      <th>ST</th>\n",
       "      <th>CTY</th>\n",
       "      <th>FULL_FIPS</th>\n",
       "      <th>YEAR</th>\n",
       "      <th>ESTAB</th>\n",
       "      <th>RCPTOT</th>\n",
       "    </tr>\n",
       "  </thead>\n",
       "  <tbody>\n",
       "    <tr>\n",
       "      <th>280887</th>\n",
       "      <td>20</td>\n",
       "      <td>081</td>\n",
       "      <td>20081</td>\n",
       "      <td>2000</td>\n",
       "      <td>0</td>\n",
       "      <td>0</td>\n",
       "    </tr>\n",
       "    <tr>\n",
       "      <th>281614</th>\n",
       "      <td>20</td>\n",
       "      <td>081</td>\n",
       "      <td>20081</td>\n",
       "      <td>2001</td>\n",
       "      <td>0</td>\n",
       "      <td>0</td>\n",
       "    </tr>\n",
       "    <tr>\n",
       "      <th>286036</th>\n",
       "      <td>20</td>\n",
       "      <td>081</td>\n",
       "      <td>20081</td>\n",
       "      <td>2002</td>\n",
       "      <td>0</td>\n",
       "      <td>0</td>\n",
       "    </tr>\n",
       "    <tr>\n",
       "      <th>287634</th>\n",
       "      <td>20</td>\n",
       "      <td>081</td>\n",
       "      <td>20081</td>\n",
       "      <td>2003</td>\n",
       "      <td>0</td>\n",
       "      <td>0</td>\n",
       "    </tr>\n",
       "    <tr>\n",
       "      <th>287220</th>\n",
       "      <td>20</td>\n",
       "      <td>081</td>\n",
       "      <td>20081</td>\n",
       "      <td>2004</td>\n",
       "      <td>0</td>\n",
       "      <td>0</td>\n",
       "    </tr>\n",
       "  </tbody>\n",
       "</table>\n",
       "</div>"
      ],
      "text/plain": [
       "        ST  CTY FULL_FIPS  YEAR  ESTAB  RCPTOT\n",
       "280887  20  081     20081  2000      0       0\n",
       "281614  20  081     20081  2001      0       0\n",
       "286036  20  081     20081  2002      0       0\n",
       "287634  20  081     20081  2003      0       0\n",
       "287220  20  081     20081  2004      0       0"
      ]
     },
     "execution_count": 116,
     "metadata": {},
     "output_type": "execute_result"
    }
   ],
   "source": [
    "df_merged[(df_merged['ST'] == '20') & (df_merged['CTY'] == '081')]"
   ]
  },
  {
   "cell_type": "markdown",
   "id": "e573c26c",
   "metadata": {},
   "source": [
    "Issues with how kansas is coming in, only showing data for 2000 - 2004"
   ]
  },
  {
   "cell_type": "code",
   "execution_count": 120,
   "id": "2e90f453",
   "metadata": {},
   "outputs": [
    {
     "data": {
      "text/html": [
       "<div>\n",
       "<style scoped>\n",
       "    .dataframe tbody tr th:only-of-type {\n",
       "        vertical-align: middle;\n",
       "    }\n",
       "\n",
       "    .dataframe tbody tr th {\n",
       "        vertical-align: top;\n",
       "    }\n",
       "\n",
       "    .dataframe thead th {\n",
       "        text-align: right;\n",
       "    }\n",
       "</style>\n",
       "<table border=\"1\" class=\"dataframe\">\n",
       "  <thead>\n",
       "    <tr style=\"text-align: right;\">\n",
       "      <th></th>\n",
       "      <th>ST</th>\n",
       "      <th>CTY</th>\n",
       "      <th>FULL_FIPS</th>\n",
       "      <th>YEAR</th>\n",
       "      <th>ESTAB</th>\n",
       "      <th>RCPTOT</th>\n",
       "    </tr>\n",
       "  </thead>\n",
       "  <tbody>\n",
       "  </tbody>\n",
       "</table>\n",
       "</div>"
      ],
      "text/plain": [
       "Empty DataFrame\n",
       "Columns: [ST, CTY, FULL_FIPS, YEAR, ESTAB, RCPTOT]\n",
       "Index: []"
      ]
     },
     "execution_count": 120,
     "metadata": {},
     "output_type": "execute_result"
    }
   ],
   "source": [
    "df_merged[(df_merged['ST'] == '20') & (df_merged['YEAR'] == '2005')]"
   ]
  },
  {
   "cell_type": "code",
   "execution_count": 125,
   "id": "5021e8dc",
   "metadata": {},
   "outputs": [
    {
     "data": {
      "text/plain": [
       "FULL_FIPS\n",
       "01001    14\n",
       "01003    21\n",
       "01005     9\n",
       "01007    11\n",
       "01009     9\n",
       "         ..\n",
       "56035     8\n",
       "56037    21\n",
       "56039    21\n",
       "56041    16\n",
       "56043     2\n",
       "Length: 2996, dtype: int64"
      ]
     },
     "execution_count": 125,
     "metadata": {},
     "output_type": "execute_result"
    }
   ],
   "source": [
    "df_fips_observations = df_merged.groupby('FULL_FIPS').size()\n",
    "df_fips_observations"
   ]
  },
  {
   "cell_type": "markdown",
   "id": "06da4885",
   "metadata": {},
   "source": [
    "### Code to create df for NAICS code 492 (Couriers)"
   ]
  },
  {
   "cell_type": "code",
   "execution_count": 42,
   "id": "028ab35c",
   "metadata": {},
   "outputs": [],
   "source": [
    "df_courier_2000 = make_nes_df(2000, 492)\n",
    "df_courier_2001 = make_nes_df(2001, 492)\n",
    "df_courier_2002 = make_nes_df(2002, 492)\n",
    "df_courier_2003 = make_nes_df(2003, 492)\n",
    "df_courier_2004 = make_nes_df(2004, 492)\n",
    "df_courier_2005 = make_nes_df(2005, 492)\n",
    "df_courier_2006 = make_nes_df(2006, 492)\n",
    "df_courier_2007 = make_nes_df(2007, 492)\n",
    "df_courier_2008 = make_nes_df(2008, 492)\n",
    "df_courier_2009 = make_nes_df(2009, 492)\n",
    "df_courier_2010 = make_nes_df(2010, 492)\n",
    "df_courier_2011 = make_nes_df(2011, 492)\n",
    "df_courier_2012 = make_nes_df(2012, 492)\n",
    "df_courier_2013 = make_nes_df(2013, 492)\n",
    "df_courier_2014 = make_nes_df(2014, 492)\n",
    "df_courier_2015 = make_nes_df(2015, 492)\n",
    "df_courier_2016 = make_nes_df(2016, 492)\n",
    "df_courier_2017 = make_nes_df(2017, 492)\n",
    "df_courier_2018 = make_nes_df(2018, 492)\n",
    "df_courier_2019 = make_nes_df(2019, 492)\n",
    "df_courier_2020 = make_nes_df(2020, 492)"
   ]
  },
  {
   "cell_type": "code",
   "execution_count": 49,
   "id": "7fee05f4",
   "metadata": {},
   "outputs": [],
   "source": [
    "pdListCourier = [df_courier_2000, df_courier_2001, df_courier_2002, df_courier_2003, df_courier_2004,\n",
    "                 df_courier_2005, df_courier_2006, df_courier_2007, df_courier_2008, df_courier_2009, \n",
    "                 df_courier_2010, df_courier_2011, df_courier_2012, df_courier_2013, df_courier_2014, \n",
    "                 df_courier_2015, df_courier_2016, df_courier_2017, df_courier_2018, df_courier_2019, df_courier_2020]  # List of dataframes\n",
    "df_courier_merged = pd.concat(pdListCourier)"
   ]
  },
  {
   "cell_type": "code",
   "execution_count": 51,
   "id": "dab9e5be",
   "metadata": {},
   "outputs": [],
   "source": [
    "df_courier_merged = df_courier_merged[['ST', 'CTY', 'FULL_FIPS', 'YEAR','ESTAB_F', 'ESTAB', 'RCPTOT_F', 'RCPTOT']]"
   ]
  },
  {
   "cell_type": "code",
   "execution_count": 53,
   "id": "1910ef47",
   "metadata": {},
   "outputs": [
    {
     "data": {
      "text/plain": [
       "ST           object\n",
       "CTY          object\n",
       "FULL_FIPS    object\n",
       "YEAR          int64\n",
       "ESTAB_F      object\n",
       "ESTAB        object\n",
       "RCPTOT_F     object\n",
       "RCPTOT       object\n",
       "dtype: object"
      ]
     },
     "execution_count": 53,
     "metadata": {},
     "output_type": "execute_result"
    }
   ],
   "source": [
    "df_courier_merged.dtypes"
   ]
  },
  {
   "cell_type": "code",
   "execution_count": 54,
   "id": "38aef9ad",
   "metadata": {},
   "outputs": [
    {
     "name": "stderr",
     "output_type": "stream",
     "text": [
      "C:\\Users\\hrowe\\AppData\\Local\\Temp\\ipykernel_31068\\3311327183.py:1: SettingWithCopyWarning: \n",
      "A value is trying to be set on a copy of a slice from a DataFrame.\n",
      "Try using .loc[row_indexer,col_indexer] = value instead\n",
      "\n",
      "See the caveats in the documentation: https://pandas.pydata.org/pandas-docs/stable/user_guide/indexing.html#returning-a-view-versus-a-copy\n",
      "  df_courier_merged['ESTAB'] = pd.to_numeric(df_courier_merged['ESTAB'])\n",
      "C:\\Users\\hrowe\\AppData\\Local\\Temp\\ipykernel_31068\\3311327183.py:2: SettingWithCopyWarning: \n",
      "A value is trying to be set on a copy of a slice from a DataFrame.\n",
      "Try using .loc[row_indexer,col_indexer] = value instead\n",
      "\n",
      "See the caveats in the documentation: https://pandas.pydata.org/pandas-docs/stable/user_guide/indexing.html#returning-a-view-versus-a-copy\n",
      "  df_courier_merged['RCPTOT'] = pd.to_numeric(df_courier_merged['RCPTOT'])\n"
     ]
    }
   ],
   "source": [
    "df_courier_merged['ESTAB'] = pd.to_numeric(df_courier_merged['ESTAB'])\n",
    "df_courier_merged['RCPTOT'] = pd.to_numeric(df_courier_merged['RCPTOT'])"
   ]
  },
  {
   "cell_type": "code",
   "execution_count": 55,
   "id": "555170e8",
   "metadata": {},
   "outputs": [
    {
     "data": {
      "text/plain": [
       "ST           object\n",
       "CTY          object\n",
       "FULL_FIPS    object\n",
       "YEAR          int64\n",
       "ESTAB_F      object\n",
       "ESTAB         int64\n",
       "RCPTOT_F     object\n",
       "RCPTOT        int64\n",
       "dtype: object"
      ]
     },
     "execution_count": 55,
     "metadata": {},
     "output_type": "execute_result"
    }
   ],
   "source": [
    "df_courier_merged.dtypes"
   ]
  },
  {
   "cell_type": "markdown",
   "id": "eb187986",
   "metadata": {},
   "source": [
    "Receipt totals are given in thousands, adjusting the units here"
   ]
  },
  {
   "cell_type": "code",
   "execution_count": 56,
   "id": "c90b457a",
   "metadata": {},
   "outputs": [
    {
     "name": "stderr",
     "output_type": "stream",
     "text": [
      "C:\\Users\\hrowe\\AppData\\Local\\Temp\\ipykernel_31068\\3316883783.py:1: SettingWithCopyWarning: \n",
      "A value is trying to be set on a copy of a slice from a DataFrame.\n",
      "Try using .loc[row_indexer,col_indexer] = value instead\n",
      "\n",
      "See the caveats in the documentation: https://pandas.pydata.org/pandas-docs/stable/user_guide/indexing.html#returning-a-view-versus-a-copy\n",
      "  df_courier_merged['RCPTOT'] = df_courier_merged['RCPTOT'] * 1000\n"
     ]
    }
   ],
   "source": [
    "df_courier_merged['RCPTOT'] = df_courier_merged['RCPTOT'] * 1000"
   ]
  },
  {
   "cell_type": "markdown",
   "id": "5e0fc6cf",
   "metadata": {},
   "source": [
    "Making sure suppression flags are working as we would expect "
   ]
  },
  {
   "cell_type": "code",
   "execution_count": 59,
   "id": "1d98ecb2",
   "metadata": {},
   "outputs": [
    {
     "data": {
      "text/html": [
       "<div>\n",
       "<style scoped>\n",
       "    .dataframe tbody tr th:only-of-type {\n",
       "        vertical-align: middle;\n",
       "    }\n",
       "\n",
       "    .dataframe tbody tr th {\n",
       "        vertical-align: top;\n",
       "    }\n",
       "\n",
       "    .dataframe thead th {\n",
       "        text-align: right;\n",
       "    }\n",
       "</style>\n",
       "<table border=\"1\" class=\"dataframe\">\n",
       "  <thead>\n",
       "    <tr style=\"text-align: right;\">\n",
       "      <th></th>\n",
       "      <th>ST</th>\n",
       "      <th>CTY</th>\n",
       "      <th>FULL_FIPS</th>\n",
       "      <th>YEAR</th>\n",
       "      <th>ESTAB_F</th>\n",
       "      <th>ESTAB</th>\n",
       "      <th>RCPTOT_F</th>\n",
       "      <th>RCPTOT</th>\n",
       "    </tr>\n",
       "  </thead>\n",
       "  <tbody>\n",
       "  </tbody>\n",
       "</table>\n",
       "</div>"
      ],
      "text/plain": [
       "Empty DataFrame\n",
       "Columns: [ST, CTY, FULL_FIPS, YEAR, ESTAB_F, ESTAB, RCPTOT_F, RCPTOT]\n",
       "Index: []"
      ]
     },
     "execution_count": 59,
     "metadata": {},
     "output_type": "execute_result"
    }
   ],
   "source": [
    "df_courier_merged[(df_courier_merged['ESTAB'] == 0) & (df_courier_merged['ESTAB_F'].isna()) ]  #expect a df with zero rows "
   ]
  },
  {
   "cell_type": "code",
   "execution_count": 57,
   "id": "d23a960a",
   "metadata": {},
   "outputs": [
    {
     "data": {
      "text/html": [
       "<div>\n",
       "<style scoped>\n",
       "    .dataframe tbody tr th:only-of-type {\n",
       "        vertical-align: middle;\n",
       "    }\n",
       "\n",
       "    .dataframe tbody tr th {\n",
       "        vertical-align: top;\n",
       "    }\n",
       "\n",
       "    .dataframe thead th {\n",
       "        text-align: right;\n",
       "    }\n",
       "</style>\n",
       "<table border=\"1\" class=\"dataframe\">\n",
       "  <thead>\n",
       "    <tr style=\"text-align: right;\">\n",
       "      <th></th>\n",
       "      <th>ST</th>\n",
       "      <th>CTY</th>\n",
       "      <th>FULL_FIPS</th>\n",
       "      <th>YEAR</th>\n",
       "      <th>ESTAB_F</th>\n",
       "      <th>ESTAB</th>\n",
       "      <th>RCPTOT_F</th>\n",
       "      <th>RCPTOT</th>\n",
       "    </tr>\n",
       "  </thead>\n",
       "  <tbody>\n",
       "    <tr>\n",
       "      <th>161</th>\n",
       "      <td>01</td>\n",
       "      <td>001</td>\n",
       "      <td>01001</td>\n",
       "      <td>2000</td>\n",
       "      <td>D</td>\n",
       "      <td>0</td>\n",
       "      <td>D</td>\n",
       "      <td>0</td>\n",
       "    </tr>\n",
       "    <tr>\n",
       "      <th>544</th>\n",
       "      <td>01</td>\n",
       "      <td>003</td>\n",
       "      <td>01003</td>\n",
       "      <td>2000</td>\n",
       "      <td>NaN</td>\n",
       "      <td>49</td>\n",
       "      <td>NaN</td>\n",
       "      <td>849000</td>\n",
       "    </tr>\n",
       "    <tr>\n",
       "      <th>1168</th>\n",
       "      <td>01</td>\n",
       "      <td>007</td>\n",
       "      <td>01007</td>\n",
       "      <td>2000</td>\n",
       "      <td>D</td>\n",
       "      <td>0</td>\n",
       "      <td>D</td>\n",
       "      <td>0</td>\n",
       "    </tr>\n",
       "    <tr>\n",
       "      <th>1464</th>\n",
       "      <td>01</td>\n",
       "      <td>009</td>\n",
       "      <td>01009</td>\n",
       "      <td>2000</td>\n",
       "      <td>D</td>\n",
       "      <td>0</td>\n",
       "      <td>D</td>\n",
       "      <td>0</td>\n",
       "    </tr>\n",
       "    <tr>\n",
       "      <th>1734</th>\n",
       "      <td>01</td>\n",
       "      <td>011</td>\n",
       "      <td>01011</td>\n",
       "      <td>2000</td>\n",
       "      <td>D</td>\n",
       "      <td>0</td>\n",
       "      <td>D</td>\n",
       "      <td>0</td>\n",
       "    </tr>\n",
       "    <tr>\n",
       "      <th>...</th>\n",
       "      <td>...</td>\n",
       "      <td>...</td>\n",
       "      <td>...</td>\n",
       "      <td>...</td>\n",
       "      <td>...</td>\n",
       "      <td>...</td>\n",
       "      <td>...</td>\n",
       "      <td>...</td>\n",
       "    </tr>\n",
       "    <tr>\n",
       "      <th>685649</th>\n",
       "      <td>56</td>\n",
       "      <td>037</td>\n",
       "      <td>56037</td>\n",
       "      <td>2020</td>\n",
       "      <td>NaN</td>\n",
       "      <td>48</td>\n",
       "      <td>NaN</td>\n",
       "      <td>609000</td>\n",
       "    </tr>\n",
       "    <tr>\n",
       "      <th>685891</th>\n",
       "      <td>56</td>\n",
       "      <td>039</td>\n",
       "      <td>56039</td>\n",
       "      <td>2020</td>\n",
       "      <td>NaN</td>\n",
       "      <td>21</td>\n",
       "      <td>NaN</td>\n",
       "      <td>271000</td>\n",
       "    </tr>\n",
       "    <tr>\n",
       "      <th>686145</th>\n",
       "      <td>56</td>\n",
       "      <td>041</td>\n",
       "      <td>56041</td>\n",
       "      <td>2020</td>\n",
       "      <td>NaN</td>\n",
       "      <td>9</td>\n",
       "      <td>NaN</td>\n",
       "      <td>319000</td>\n",
       "    </tr>\n",
       "    <tr>\n",
       "      <th>686321</th>\n",
       "      <td>56</td>\n",
       "      <td>043</td>\n",
       "      <td>56043</td>\n",
       "      <td>2020</td>\n",
       "      <td>NaN</td>\n",
       "      <td>5</td>\n",
       "      <td>NaN</td>\n",
       "      <td>95000</td>\n",
       "    </tr>\n",
       "    <tr>\n",
       "      <th>686461</th>\n",
       "      <td>56</td>\n",
       "      <td>045</td>\n",
       "      <td>56045</td>\n",
       "      <td>2020</td>\n",
       "      <td>NaN</td>\n",
       "      <td>6</td>\n",
       "      <td>NaN</td>\n",
       "      <td>73000</td>\n",
       "    </tr>\n",
       "  </tbody>\n",
       "</table>\n",
       "<p>61721 rows × 8 columns</p>\n",
       "</div>"
      ],
      "text/plain": [
       "        ST  CTY FULL_FIPS  YEAR ESTAB_F  ESTAB RCPTOT_F  RCPTOT\n",
       "161     01  001     01001  2000       D      0        D       0\n",
       "544     01  003     01003  2000     NaN     49      NaN  849000\n",
       "1168    01  007     01007  2000       D      0        D       0\n",
       "1464    01  009     01009  2000       D      0        D       0\n",
       "1734    01  011     01011  2000       D      0        D       0\n",
       "...     ..  ...       ...   ...     ...    ...      ...     ...\n",
       "685649  56  037     56037  2020     NaN     48      NaN  609000\n",
       "685891  56  039     56039  2020     NaN     21      NaN  271000\n",
       "686145  56  041     56041  2020     NaN      9      NaN  319000\n",
       "686321  56  043     56043  2020     NaN      5      NaN   95000\n",
       "686461  56  045     56045  2020     NaN      6      NaN   73000\n",
       "\n",
       "[61721 rows x 8 columns]"
      ]
     },
     "execution_count": 57,
     "metadata": {},
     "output_type": "execute_result"
    }
   ],
   "source": [
    "df_courier_merged"
   ]
  },
  {
   "cell_type": "code",
   "execution_count": 60,
   "id": "859cfb92",
   "metadata": {},
   "outputs": [],
   "source": [
    "df_courier_merged.to_csv('NES_naics_492.csv')"
   ]
  }
 ],
 "metadata": {
  "kernelspec": {
   "display_name": "Python 3 (ipykernel)",
   "language": "python",
   "name": "python3"
  },
  "language_info": {
   "codemirror_mode": {
    "name": "ipython",
    "version": 3
   },
   "file_extension": ".py",
   "mimetype": "text/x-python",
   "name": "python",
   "nbconvert_exporter": "python",
   "pygments_lexer": "ipython3",
   "version": "3.9.13"
  }
 },
 "nbformat": 4,
 "nbformat_minor": 5
}
